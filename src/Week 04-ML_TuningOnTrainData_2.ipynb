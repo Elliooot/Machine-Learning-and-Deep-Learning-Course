{
 "cells": [
  {
   "cell_type": "code",
   "execution_count": 1,
   "metadata": {
    "id": "Q3tbf2RlEUnb",
    "scrolled": false
   },
   "outputs": [],
   "source": [
    "import pandas as pd\n",
    "import numpy as np"
   ]
  },
  {
   "attachments": {},
   "cell_type": "markdown",
   "metadata": {
    "id": "6_yN9ujYEUni"
   },
   "source": [
    "# 1. Some subroutines"
   ]
  },
  {
   "cell_type": "code",
   "execution_count": 3,
   "metadata": {
    "id": "2cGMuwuOEUnk"
   },
   "outputs": [],
   "source": [
    "def get_bcw() :\n",
    "    bcw = pd.read_csv('~/Downloads/wdbc.data' , header=None)\n",
    "    column_names = ['id','malignant',\n",
    "                'nucleus_mean','nucleus_se','nucleus_worst',\n",
    "                'texture_mean','texture_se','texture_worst',\n",
    "                'perimeter_mean','perimeter_se','perimeter_worst',\n",
    "                'area_mean','area_se','area_worst',\n",
    "                'smoothness_mean','smoothness_se','smoothness_worst',\n",
    "                'compactness_mean','compactness_se','compactness_worst',\n",
    "                'concavity_mean','concavity_se','concavity_worst',\n",
    "                'concave_pts_mean','concave_pts_se','concave_pts_worst',\n",
    "                'symmetry_mean','symmetry_se','symmetry_worst',\n",
    "                'fractal_dim_mean','fractal_dim_se','fractal_dim_worst']\n",
    "\n",
    "    bcw.columns = column_names\n",
    "    \n",
    "    bcw['malignant'] = bcw['malignant'].map(lambda x: 0 if x == \"B\" else 1)\n",
    "\n",
    "    # make a copy for two purposes:\n",
    "    # 1. keep the original data intake for futural reference.\n",
    "    # 2. use the same dataset name \"mydata\" for later processing\n",
    "    # so that we use the same code for different dataset.\n",
    "\n",
    "    #     X = mydata[['nucleus_mean','texture_mean','perimeter_mean']]\n",
    "    X = bcw.drop(columns=['id', 'malignant']).values\n",
    "\n",
    "    from sklearn.preprocessing import StandardScaler\n",
    "    ss = StandardScaler()\n",
    "    X = ss.fit_transform(X)\n",
    "    \n",
    "    \n",
    "    y = bcw['malignant'].values\n",
    "    return X, y"
   ]
  },
  {
   "cell_type": "code",
   "execution_count": 4,
   "metadata": {},
   "outputs": [],
   "source": [
    "def evaluate(pred, expect) :\n",
    "    ans = pred - expect\n",
    "    error_sum = ans.sum()\n",
    "    n_errors = abs(ans).sum()\n",
    "    accuracy = 1 - n_errors / expect.shape[0]\n",
    "    \n",
    "    return round(accuracy, 3) , n_errors, error_sum"
   ]
  },
  {
   "attachments": {},
   "cell_type": "markdown",
   "metadata": {
    "id": "mi8k1WTJEUnm"
   },
   "source": [
    "# 2. get dataset"
   ]
  },
  {
   "cell_type": "code",
   "execution_count": 5,
   "metadata": {
    "id": "hWUzSZwfEUnn"
   },
   "outputs": [],
   "source": [
    "X, y = get_bcw()   # X: feature vector, y label"
   ]
  },
  {
   "cell_type": "code",
   "execution_count": 6,
   "metadata": {
    "id": "s8g5oAy-EUno",
    "outputId": "85e35d3e-397d-43af-933f-c22593024c41"
   },
   "outputs": [
    {
     "data": {
      "text/plain": [
       "212"
      ]
     },
     "execution_count": 6,
     "metadata": {},
     "output_type": "execute_result"
    }
   ],
   "source": [
    "y.sum()"
   ]
  },
  {
   "cell_type": "code",
   "execution_count": 7,
   "metadata": {
    "id": "fVGHDAPbEUnp",
    "outputId": "e1a9cbc8-f522-4db8-d328-2a43dc47297e"
   },
   "outputs": [
    {
     "data": {
      "text/plain": [
       "(569,)"
      ]
     },
     "execution_count": 7,
     "metadata": {},
     "output_type": "execute_result"
    }
   ],
   "source": [
    "y.shape"
   ]
  },
  {
   "cell_type": "code",
   "execution_count": 8,
   "metadata": {
    "id": "kpFdWUb1EUnq",
    "outputId": "59f4bf34-5040-470c-b323-610a255ad28f"
   },
   "outputs": [
    {
     "data": {
      "text/plain": [
       "0.37258347978910367"
      ]
     },
     "execution_count": 8,
     "metadata": {},
     "output_type": "execute_result"
    }
   ],
   "source": [
    "212/569"
   ]
  },
  {
   "cell_type": "code",
   "execution_count": 9,
   "metadata": {
    "id": "Hv2EFFr_EUns",
    "outputId": "436521ec-0956-4d64-b77e-b3a1c2f3c793"
   },
   "outputs": [
    {
     "data": {
      "text/plain": [
       "0.5873015873015873"
      ]
     },
     "execution_count": 9,
     "metadata": {},
     "output_type": "execute_result"
    }
   ],
   "source": [
    "37/63"
   ]
  },
  {
   "cell_type": "code",
   "execution_count": 9,
   "metadata": {
    "id": "Zo73lhJ2EUnt",
    "outputId": "cd96fdde-fe79-447c-999f-8a484947b3d4",
    "scrolled": true
   },
   "outputs": [
    {
     "data": {
      "text/html": [
       "<div>\n",
       "<style scoped>\n",
       "    .dataframe tbody tr th:only-of-type {\n",
       "        vertical-align: middle;\n",
       "    }\n",
       "\n",
       "    .dataframe tbody tr th {\n",
       "        vertical-align: top;\n",
       "    }\n",
       "\n",
       "    .dataframe thead th {\n",
       "        text-align: right;\n",
       "    }\n",
       "</style>\n",
       "<table border=\"1\" class=\"dataframe\">\n",
       "  <thead>\n",
       "    <tr style=\"text-align: right;\">\n",
       "      <th></th>\n",
       "      <th>nucleus_mean</th>\n",
       "      <th>nucleus_se</th>\n",
       "      <th>nucleus_worst</th>\n",
       "      <th>texture_mean</th>\n",
       "      <th>texture_se</th>\n",
       "      <th>texture_worst</th>\n",
       "      <th>perimeter_mean</th>\n",
       "      <th>perimeter_se</th>\n",
       "      <th>perimeter_worst</th>\n",
       "      <th>area_mean</th>\n",
       "      <th>...</th>\n",
       "      <th>concave_pts_mean</th>\n",
       "      <th>concave_pts_se</th>\n",
       "      <th>concave_pts_worst</th>\n",
       "      <th>symmetry_mean</th>\n",
       "      <th>symmetry_se</th>\n",
       "      <th>symmetry_worst</th>\n",
       "      <th>fractal_dim_mean</th>\n",
       "      <th>fractal_dim_se</th>\n",
       "      <th>fractal_dim_worst</th>\n",
       "      <th>malignant</th>\n",
       "    </tr>\n",
       "  </thead>\n",
       "  <tbody>\n",
       "    <tr>\n",
       "      <th>0</th>\n",
       "      <td>1.097064</td>\n",
       "      <td>-2.073335</td>\n",
       "      <td>1.269934</td>\n",
       "      <td>0.984375</td>\n",
       "      <td>1.568466</td>\n",
       "      <td>3.283515</td>\n",
       "      <td>2.652874</td>\n",
       "      <td>2.532475</td>\n",
       "      <td>2.217515</td>\n",
       "      <td>2.255747</td>\n",
       "      <td>...</td>\n",
       "      <td>-1.359293</td>\n",
       "      <td>2.303601</td>\n",
       "      <td>2.001237</td>\n",
       "      <td>1.307686</td>\n",
       "      <td>2.616665</td>\n",
       "      <td>2.109526</td>\n",
       "      <td>2.296076</td>\n",
       "      <td>2.750622</td>\n",
       "      <td>1.937015</td>\n",
       "      <td>1</td>\n",
       "    </tr>\n",
       "    <tr>\n",
       "      <th>1</th>\n",
       "      <td>1.829821</td>\n",
       "      <td>-0.353632</td>\n",
       "      <td>1.685955</td>\n",
       "      <td>1.908708</td>\n",
       "      <td>-0.826962</td>\n",
       "      <td>-0.487072</td>\n",
       "      <td>-0.023846</td>\n",
       "      <td>0.548144</td>\n",
       "      <td>0.001392</td>\n",
       "      <td>-0.868652</td>\n",
       "      <td>...</td>\n",
       "      <td>-0.369203</td>\n",
       "      <td>1.535126</td>\n",
       "      <td>1.890489</td>\n",
       "      <td>-0.375612</td>\n",
       "      <td>-0.430444</td>\n",
       "      <td>-0.146749</td>\n",
       "      <td>1.087084</td>\n",
       "      <td>-0.243890</td>\n",
       "      <td>0.281190</td>\n",
       "      <td>1</td>\n",
       "    </tr>\n",
       "    <tr>\n",
       "      <th>2</th>\n",
       "      <td>1.579888</td>\n",
       "      <td>0.456187</td>\n",
       "      <td>1.566503</td>\n",
       "      <td>1.558884</td>\n",
       "      <td>0.942210</td>\n",
       "      <td>1.052926</td>\n",
       "      <td>1.363478</td>\n",
       "      <td>2.037231</td>\n",
       "      <td>0.939685</td>\n",
       "      <td>-0.398008</td>\n",
       "      <td>...</td>\n",
       "      <td>-0.023974</td>\n",
       "      <td>1.347475</td>\n",
       "      <td>1.456285</td>\n",
       "      <td>0.527407</td>\n",
       "      <td>1.082932</td>\n",
       "      <td>0.854974</td>\n",
       "      <td>1.955000</td>\n",
       "      <td>1.152255</td>\n",
       "      <td>0.201391</td>\n",
       "      <td>1</td>\n",
       "    </tr>\n",
       "    <tr>\n",
       "      <th>3</th>\n",
       "      <td>-0.768909</td>\n",
       "      <td>0.253732</td>\n",
       "      <td>-0.592687</td>\n",
       "      <td>-0.764464</td>\n",
       "      <td>3.283553</td>\n",
       "      <td>3.402909</td>\n",
       "      <td>1.915897</td>\n",
       "      <td>1.451707</td>\n",
       "      <td>2.867383</td>\n",
       "      <td>4.910919</td>\n",
       "      <td>...</td>\n",
       "      <td>0.133984</td>\n",
       "      <td>-0.249939</td>\n",
       "      <td>-0.550021</td>\n",
       "      <td>3.394275</td>\n",
       "      <td>3.893397</td>\n",
       "      <td>1.989588</td>\n",
       "      <td>2.175786</td>\n",
       "      <td>6.046041</td>\n",
       "      <td>4.935010</td>\n",
       "      <td>1</td>\n",
       "    </tr>\n",
       "    <tr>\n",
       "      <th>4</th>\n",
       "      <td>1.750297</td>\n",
       "      <td>-1.151816</td>\n",
       "      <td>1.776573</td>\n",
       "      <td>1.826229</td>\n",
       "      <td>0.280372</td>\n",
       "      <td>0.539340</td>\n",
       "      <td>1.371011</td>\n",
       "      <td>1.428493</td>\n",
       "      <td>-0.009560</td>\n",
       "      <td>-0.562450</td>\n",
       "      <td>...</td>\n",
       "      <td>-1.466770</td>\n",
       "      <td>1.338539</td>\n",
       "      <td>1.220724</td>\n",
       "      <td>0.220556</td>\n",
       "      <td>-0.313395</td>\n",
       "      <td>0.613179</td>\n",
       "      <td>0.729259</td>\n",
       "      <td>-0.868353</td>\n",
       "      <td>-0.397100</td>\n",
       "      <td>1</td>\n",
       "    </tr>\n",
       "  </tbody>\n",
       "</table>\n",
       "<p>5 rows × 31 columns</p>\n",
       "</div>"
      ],
      "text/plain": [
       "   nucleus_mean  nucleus_se  nucleus_worst  texture_mean  texture_se  \\\n",
       "0      1.097064   -2.073335       1.269934      0.984375    1.568466   \n",
       "1      1.829821   -0.353632       1.685955      1.908708   -0.826962   \n",
       "2      1.579888    0.456187       1.566503      1.558884    0.942210   \n",
       "3     -0.768909    0.253732      -0.592687     -0.764464    3.283553   \n",
       "4      1.750297   -1.151816       1.776573      1.826229    0.280372   \n",
       "\n",
       "   texture_worst  perimeter_mean  perimeter_se  perimeter_worst  area_mean  \\\n",
       "0       3.283515        2.652874      2.532475         2.217515   2.255747   \n",
       "1      -0.487072       -0.023846      0.548144         0.001392  -0.868652   \n",
       "2       1.052926        1.363478      2.037231         0.939685  -0.398008   \n",
       "3       3.402909        1.915897      1.451707         2.867383   4.910919   \n",
       "4       0.539340        1.371011      1.428493        -0.009560  -0.562450   \n",
       "\n",
       "   ...  concave_pts_mean  concave_pts_se  concave_pts_worst  symmetry_mean  \\\n",
       "0  ...         -1.359293        2.303601           2.001237       1.307686   \n",
       "1  ...         -0.369203        1.535126           1.890489      -0.375612   \n",
       "2  ...         -0.023974        1.347475           1.456285       0.527407   \n",
       "3  ...          0.133984       -0.249939          -0.550021       3.394275   \n",
       "4  ...         -1.466770        1.338539           1.220724       0.220556   \n",
       "\n",
       "   symmetry_se  symmetry_worst  fractal_dim_mean  fractal_dim_se  \\\n",
       "0     2.616665        2.109526          2.296076        2.750622   \n",
       "1    -0.430444       -0.146749          1.087084       -0.243890   \n",
       "2     1.082932        0.854974          1.955000        1.152255   \n",
       "3     3.893397        1.989588          2.175786        6.046041   \n",
       "4    -0.313395        0.613179          0.729259       -0.868353   \n",
       "\n",
       "   fractal_dim_worst  malignant  \n",
       "0           1.937015          1  \n",
       "1           0.281190          1  \n",
       "2           0.201391          1  \n",
       "3           4.935010          1  \n",
       "4          -0.397100          1  \n",
       "\n",
       "[5 rows x 31 columns]"
      ]
     },
     "execution_count": 9,
     "metadata": {},
     "output_type": "execute_result"
    }
   ],
   "source": [
    "X_orig = X\n",
    "y_orig = y\n",
    "\n",
    "bcw = pd.DataFrame(X)\n",
    "bcw.columns = [\n",
    "                'nucleus_mean','nucleus_se','nucleus_worst',\n",
    "                'texture_mean','texture_se','texture_worst',\n",
    "                'perimeter_mean','perimeter_se','perimeter_worst',\n",
    "                'area_mean','area_se','area_worst',\n",
    "                'smoothness_mean','smoothness_se','smoothness_worst',\n",
    "                'compactness_mean','compactness_se','compactness_worst',\n",
    "                'concavity_mean','concavity_se','concavity_worst',\n",
    "                'concave_pts_mean','concave_pts_se','concave_pts_worst',\n",
    "                'symmetry_mean','symmetry_se','symmetry_worst',\n",
    "                'fractal_dim_mean','fractal_dim_se','fractal_dim_worst']\n",
    "bcw['malignant'] = y\n",
    "\n",
    "bcw.head()"
   ]
  },
  {
   "cell_type": "code",
   "execution_count": 10,
   "metadata": {
    "id": "qvhy_I_rEUnv",
    "outputId": "244b0b1c-df4d-4999-da8b-85db256fc1d3",
    "scrolled": true
   },
   "outputs": [
    {
     "data": {
      "text/plain": [
       "Index(['nucleus_mean', 'nucleus_se', 'nucleus_worst', 'texture_mean',\n",
       "       'texture_se', 'texture_worst', 'perimeter_mean', 'perimeter_se',\n",
       "       'perimeter_worst', 'area_mean', 'area_se', 'area_worst',\n",
       "       'smoothness_mean', 'smoothness_se', 'smoothness_worst',\n",
       "       'compactness_mean', 'compactness_se', 'compactness_worst',\n",
       "       'concavity_mean', 'concavity_se', 'concavity_worst', 'concave_pts_mean',\n",
       "       'concave_pts_se', 'concave_pts_worst', 'symmetry_mean', 'symmetry_se',\n",
       "       'symmetry_worst', 'fractal_dim_mean', 'fractal_dim_se',\n",
       "       'fractal_dim_worst', 'malignant'],\n",
       "      dtype='object')"
      ]
     },
     "execution_count": 10,
     "metadata": {},
     "output_type": "execute_result"
    }
   ],
   "source": [
    "bcw.columns"
   ]
  },
  {
   "cell_type": "code",
   "execution_count": 11,
   "metadata": {
    "id": "Vmdgbcj3EUnv",
    "outputId": "289fef41-706b-4e54-a349-52876b31e6c0",
    "scrolled": true
   },
   "outputs": [
    {
     "data": {
      "text/plain": [
       "['malignant',\n",
       " 'nucleus_mean',\n",
       " 'nucleus_se',\n",
       " 'nucleus_worst',\n",
       " 'texture_mean',\n",
       " 'texture_se',\n",
       " 'texture_worst',\n",
       " 'perimeter_mean',\n",
       " 'perimeter_se',\n",
       " 'perimeter_worst',\n",
       " 'area_mean',\n",
       " 'area_se',\n",
       " 'area_worst',\n",
       " 'smoothness_mean',\n",
       " 'smoothness_se',\n",
       " 'smoothness_worst',\n",
       " 'compactness_mean',\n",
       " 'compactness_se',\n",
       " 'compactness_worst',\n",
       " 'concavity_mean',\n",
       " 'concavity_se',\n",
       " 'concavity_worst',\n",
       " 'concave_pts_mean',\n",
       " 'concave_pts_se',\n",
       " 'concave_pts_worst',\n",
       " 'symmetry_mean',\n",
       " 'symmetry_se',\n",
       " 'symmetry_worst',\n",
       " 'fractal_dim_mean',\n",
       " 'fractal_dim_se',\n",
       " 'fractal_dim_worst']"
      ]
     },
     "execution_count": 11,
     "metadata": {},
     "output_type": "execute_result"
    }
   ],
   "source": [
    "cols = bcw.columns\n",
    "['malignant'] + list(cols[:-1])"
   ]
  },
  {
   "cell_type": "code",
   "execution_count": 12,
   "metadata": {
    "id": "pAERDOaTEUnw",
    "outputId": "cbb4e225-adb0-4fd7-e85c-a1783ef5ef9f"
   },
   "outputs": [
    {
     "data": {
      "text/html": [
       "<div>\n",
       "<style scoped>\n",
       "    .dataframe tbody tr th:only-of-type {\n",
       "        vertical-align: middle;\n",
       "    }\n",
       "\n",
       "    .dataframe tbody tr th {\n",
       "        vertical-align: top;\n",
       "    }\n",
       "\n",
       "    .dataframe thead th {\n",
       "        text-align: right;\n",
       "    }\n",
       "</style>\n",
       "<table border=\"1\" class=\"dataframe\">\n",
       "  <thead>\n",
       "    <tr style=\"text-align: right;\">\n",
       "      <th></th>\n",
       "      <th>malignant</th>\n",
       "      <th>nucleus_mean</th>\n",
       "      <th>nucleus_se</th>\n",
       "      <th>nucleus_worst</th>\n",
       "      <th>texture_mean</th>\n",
       "      <th>texture_se</th>\n",
       "      <th>texture_worst</th>\n",
       "      <th>perimeter_mean</th>\n",
       "      <th>perimeter_se</th>\n",
       "      <th>perimeter_worst</th>\n",
       "      <th>...</th>\n",
       "      <th>concavity_worst</th>\n",
       "      <th>concave_pts_mean</th>\n",
       "      <th>concave_pts_se</th>\n",
       "      <th>concave_pts_worst</th>\n",
       "      <th>symmetry_mean</th>\n",
       "      <th>symmetry_se</th>\n",
       "      <th>symmetry_worst</th>\n",
       "      <th>fractal_dim_mean</th>\n",
       "      <th>fractal_dim_se</th>\n",
       "      <th>fractal_dim_worst</th>\n",
       "    </tr>\n",
       "  </thead>\n",
       "  <tbody>\n",
       "    <tr>\n",
       "      <th>0</th>\n",
       "      <td>1</td>\n",
       "      <td>1.097064</td>\n",
       "      <td>-2.073335</td>\n",
       "      <td>1.269934</td>\n",
       "      <td>0.984375</td>\n",
       "      <td>1.568466</td>\n",
       "      <td>3.283515</td>\n",
       "      <td>2.652874</td>\n",
       "      <td>2.532475</td>\n",
       "      <td>2.217515</td>\n",
       "      <td>...</td>\n",
       "      <td>1.886690</td>\n",
       "      <td>-1.359293</td>\n",
       "      <td>2.303601</td>\n",
       "      <td>2.001237</td>\n",
       "      <td>1.307686</td>\n",
       "      <td>2.616665</td>\n",
       "      <td>2.109526</td>\n",
       "      <td>2.296076</td>\n",
       "      <td>2.750622</td>\n",
       "      <td>1.937015</td>\n",
       "    </tr>\n",
       "    <tr>\n",
       "      <th>1</th>\n",
       "      <td>1</td>\n",
       "      <td>1.829821</td>\n",
       "      <td>-0.353632</td>\n",
       "      <td>1.685955</td>\n",
       "      <td>1.908708</td>\n",
       "      <td>-0.826962</td>\n",
       "      <td>-0.487072</td>\n",
       "      <td>-0.023846</td>\n",
       "      <td>0.548144</td>\n",
       "      <td>0.001392</td>\n",
       "      <td>...</td>\n",
       "      <td>1.805927</td>\n",
       "      <td>-0.369203</td>\n",
       "      <td>1.535126</td>\n",
       "      <td>1.890489</td>\n",
       "      <td>-0.375612</td>\n",
       "      <td>-0.430444</td>\n",
       "      <td>-0.146749</td>\n",
       "      <td>1.087084</td>\n",
       "      <td>-0.243890</td>\n",
       "      <td>0.281190</td>\n",
       "    </tr>\n",
       "    <tr>\n",
       "      <th>2</th>\n",
       "      <td>1</td>\n",
       "      <td>1.579888</td>\n",
       "      <td>0.456187</td>\n",
       "      <td>1.566503</td>\n",
       "      <td>1.558884</td>\n",
       "      <td>0.942210</td>\n",
       "      <td>1.052926</td>\n",
       "      <td>1.363478</td>\n",
       "      <td>2.037231</td>\n",
       "      <td>0.939685</td>\n",
       "      <td>...</td>\n",
       "      <td>1.511870</td>\n",
       "      <td>-0.023974</td>\n",
       "      <td>1.347475</td>\n",
       "      <td>1.456285</td>\n",
       "      <td>0.527407</td>\n",
       "      <td>1.082932</td>\n",
       "      <td>0.854974</td>\n",
       "      <td>1.955000</td>\n",
       "      <td>1.152255</td>\n",
       "      <td>0.201391</td>\n",
       "    </tr>\n",
       "    <tr>\n",
       "      <th>3</th>\n",
       "      <td>1</td>\n",
       "      <td>-0.768909</td>\n",
       "      <td>0.253732</td>\n",
       "      <td>-0.592687</td>\n",
       "      <td>-0.764464</td>\n",
       "      <td>3.283553</td>\n",
       "      <td>3.402909</td>\n",
       "      <td>1.915897</td>\n",
       "      <td>1.451707</td>\n",
       "      <td>2.867383</td>\n",
       "      <td>...</td>\n",
       "      <td>-0.281464</td>\n",
       "      <td>0.133984</td>\n",
       "      <td>-0.249939</td>\n",
       "      <td>-0.550021</td>\n",
       "      <td>3.394275</td>\n",
       "      <td>3.893397</td>\n",
       "      <td>1.989588</td>\n",
       "      <td>2.175786</td>\n",
       "      <td>6.046041</td>\n",
       "      <td>4.935010</td>\n",
       "    </tr>\n",
       "    <tr>\n",
       "      <th>4</th>\n",
       "      <td>1</td>\n",
       "      <td>1.750297</td>\n",
       "      <td>-1.151816</td>\n",
       "      <td>1.776573</td>\n",
       "      <td>1.826229</td>\n",
       "      <td>0.280372</td>\n",
       "      <td>0.539340</td>\n",
       "      <td>1.371011</td>\n",
       "      <td>1.428493</td>\n",
       "      <td>-0.009560</td>\n",
       "      <td>...</td>\n",
       "      <td>1.298575</td>\n",
       "      <td>-1.466770</td>\n",
       "      <td>1.338539</td>\n",
       "      <td>1.220724</td>\n",
       "      <td>0.220556</td>\n",
       "      <td>-0.313395</td>\n",
       "      <td>0.613179</td>\n",
       "      <td>0.729259</td>\n",
       "      <td>-0.868353</td>\n",
       "      <td>-0.397100</td>\n",
       "    </tr>\n",
       "  </tbody>\n",
       "</table>\n",
       "<p>5 rows × 31 columns</p>\n",
       "</div>"
      ],
      "text/plain": [
       "   malignant  nucleus_mean  nucleus_se  nucleus_worst  texture_mean  \\\n",
       "0          1      1.097064   -2.073335       1.269934      0.984375   \n",
       "1          1      1.829821   -0.353632       1.685955      1.908708   \n",
       "2          1      1.579888    0.456187       1.566503      1.558884   \n",
       "3          1     -0.768909    0.253732      -0.592687     -0.764464   \n",
       "4          1      1.750297   -1.151816       1.776573      1.826229   \n",
       "\n",
       "   texture_se  texture_worst  perimeter_mean  perimeter_se  perimeter_worst  \\\n",
       "0    1.568466       3.283515        2.652874      2.532475         2.217515   \n",
       "1   -0.826962      -0.487072       -0.023846      0.548144         0.001392   \n",
       "2    0.942210       1.052926        1.363478      2.037231         0.939685   \n",
       "3    3.283553       3.402909        1.915897      1.451707         2.867383   \n",
       "4    0.280372       0.539340        1.371011      1.428493        -0.009560   \n",
       "\n",
       "   ...  concavity_worst  concave_pts_mean  concave_pts_se  concave_pts_worst  \\\n",
       "0  ...         1.886690         -1.359293        2.303601           2.001237   \n",
       "1  ...         1.805927         -0.369203        1.535126           1.890489   \n",
       "2  ...         1.511870         -0.023974        1.347475           1.456285   \n",
       "3  ...        -0.281464          0.133984       -0.249939          -0.550021   \n",
       "4  ...         1.298575         -1.466770        1.338539           1.220724   \n",
       "\n",
       "   symmetry_mean  symmetry_se  symmetry_worst  fractal_dim_mean  \\\n",
       "0       1.307686     2.616665        2.109526          2.296076   \n",
       "1      -0.375612    -0.430444       -0.146749          1.087084   \n",
       "2       0.527407     1.082932        0.854974          1.955000   \n",
       "3       3.394275     3.893397        1.989588          2.175786   \n",
       "4       0.220556    -0.313395        0.613179          0.729259   \n",
       "\n",
       "   fractal_dim_se  fractal_dim_worst  \n",
       "0        2.750622           1.937015  \n",
       "1       -0.243890           0.281190  \n",
       "2        1.152255           0.201391  \n",
       "3        6.046041           4.935010  \n",
       "4       -0.868353          -0.397100  \n",
       "\n",
       "[5 rows x 31 columns]"
      ]
     },
     "execution_count": 12,
     "metadata": {},
     "output_type": "execute_result"
    }
   ],
   "source": [
    "# try to move 'malignant' column to the front.\n",
    "cols = bcw.columns\n",
    "# print(['malignant'] + list(cols[:-1]))\n",
    "bcw = bcw[['malignant'] + list(cols[:-1])]\n",
    "bcw.head()"
   ]
  },
  {
   "attachments": {},
   "cell_type": "markdown",
   "metadata": {
    "id": "VGCcELLXEUn0"
   },
   "source": [
    "# 3. Split Data into Training and Testing\n",
    "--------\n",
    "Choose 3.1  and 3.2 to get the type of split data you want to train."
   ]
  },
  {
   "cell_type": "code",
   "execution_count": 13,
   "metadata": {
    "id": "K5OqIN4dEUn0"
   },
   "outputs": [
    {
     "data": {
      "text/plain": [
       "212"
      ]
     },
     "execution_count": 13,
     "metadata": {},
     "output_type": "execute_result"
    }
   ],
   "source": [
    "bcw.malignant.sum()"
   ]
  },
  {
   "attachments": {},
   "cell_type": "markdown",
   "metadata": {
    "id": "SlDAdk7wEUn1"
   },
   "source": [
    "# 3.1 Original Data Split"
   ]
  },
  {
   "cell_type": "code",
   "execution_count": 14,
   "metadata": {
    "id": "FanGOtYDEUn1"
   },
   "outputs": [
    {
     "name": "stdout",
     "output_type": "stream",
     "text": [
      "(569, 30)\n",
      "(569,)\n",
      "<class 'numpy.ndarray'>\n",
      "<class 'numpy.ndarray'>\n",
      "[[ 1.09706398 -2.07333501  1.26993369  0.9843749   1.56846633  3.28351467\n",
      "   2.65287398  2.53247522  2.21751501  2.25574689  2.48973393 -0.56526506\n",
      "   2.83303087  2.48757756 -0.21400165  1.31686157  0.72402616  0.66081994\n",
      "   1.14875667  0.90708308  1.88668963 -1.35929347  2.30360062  2.00123749\n",
      "   1.30768627  2.61666502  2.10952635  2.29607613  2.75062224  1.93701461]\n",
      " [ 1.57988811  0.45618695  1.56650313  1.55888363  0.94221044  1.05292554\n",
      "   1.36347845  2.03723076  0.93968482 -0.39800791  1.22867595 -0.78008338\n",
      "   0.8509283   1.18133606 -0.29700501  0.8149735   0.21307643  1.42482747\n",
      "   0.23703554  0.2935594   1.51187025 -0.02397438  1.34747521  1.45628455\n",
      "   0.52740741  1.08293217  0.85497394  1.95500035  1.152255    0.20139121]\n",
      " [ 1.75029663 -1.15181643  1.77657315  1.82622928  0.28037183  0.53934045\n",
      "   1.37101143  1.42849277 -0.00956047 -0.56244998  1.27054278 -0.7902437\n",
      "   1.27318941  1.19035676  1.48306716 -0.04851988  0.82847078  1.14420474\n",
      "  -0.36109227  0.49932813  1.29857524 -1.46677038  1.33853946  1.22072425\n",
      "   0.22055617 -0.31339451  0.61317876  0.72925926 -0.86835298 -0.39709962]]\n",
      "[1 1 1 1 1 0 1 1 1 1]\n"
     ]
    }
   ],
   "source": [
    "from sklearn.model_selection import train_test_split\n",
    "\n",
    "print(X.shape)\n",
    "print(y.shape)\n",
    "print(type(X))\n",
    "print(type(y))\n",
    "# numpy array does not have column names.  \n",
    "# We can only use the slice [row_start:row_end:step_row, col_start:col_end:step_col]\n",
    "# to select rows and cols we want\n",
    "# be aware that row_end and col_end are not inclusive\n",
    "# the format of the output will be discussed in another lecture.\n",
    "print(X[0:6:2])\n",
    "print(y[0:40:4])\n",
    "\n",
    "X_train, X_test, y_train, y_test = train_test_split(X, y, test_size = 0.25, random_state=2018) \n"
   ]
  },
  {
   "attachments": {},
   "cell_type": "markdown",
   "metadata": {
    "id": "L1bGcENHEUn1"
   },
   "source": [
    "# 3.2 Data Split to Get Imbalanced Labels in Training Data"
   ]
  },
  {
   "cell_type": "code",
   "execution_count": 15,
   "metadata": {
    "id": "Z_6ln4jbEUn2"
   },
   "outputs": [],
   "source": [
    "def GetImbalancedLabelData(DF_orig, label_ratio) :\n",
    "    import copy as copy\n",
    "    from sklearn.model_selection import train_test_split\n",
    "    DF = copy.copy(DF_orig)\n",
    "    DF1 = DF[DF.malignant == 1]\n",
    "    DF0 = DF[DF.malignant == 0]\n",
    "    \n",
    "    Test_Size= 0.25  # intended test size.  The actual size depend on how the train data is arranged.\n",
    "    # Simple implementation : \n",
    "    #      split both DF0 with Test_Size and DF1 with label_ratio \n",
    "    #      This method can not produce the right label_ratio for training set. \n",
    "#     TestSizeFrom0 =  Test_Size\n",
    "    # instead , the following 2 statement, can split the training data in the precise label_ratio.\n",
    "    max_train0_size = min(DF0.shape[0], DF1.shape[0])  \n",
    "    TestSizeFrom0 = 1 -  min(max_train0_size, DF0.shape[0] * (1- Test_Size) ) / DF0.shape[0]\n",
    "    \n",
    "    \n",
    "    DF0_train, DF0_test = train_test_split(DF0, test_size = TestSizeFrom0, random_state=2018)\n",
    "    DF1_train, DF1_test = train_test_split(DF1, test_size =  (1 - label_ratio), random_state=2018)\n",
    "    \n",
    "    DF_train = pd.concat((DF0_train, DF1_train) )\n",
    "    DF_test = pd.concat((DF0_test, DF1_test) )\n",
    "    \n",
    "    y_train = DF_train.malignant.values\n",
    "    X_train = DF_train.drop(columns=[ 'malignant']).values\n",
    "    y_test = DF_test.malignant.values\n",
    "    X_test = DF_test.drop(columns=[ 'malignant']).values\n",
    "\n",
    "    return X_train, X_test, y_train, y_test"
   ]
  },
  {
   "cell_type": "code",
   "execution_count": 16,
   "metadata": {
    "id": "SSzJuK_QEUn2",
    "outputId": "507b50e5-588d-4aff-9ca3-99d68b73a2da"
   },
   "outputs": [
    {
     "name": "stdout",
     "output_type": "stream",
     "text": [
      "106 (318,) 106 (251,)\n",
      "0.5\n"
     ]
    }
   ],
   "source": [
    "X_train, X_test, y_train, y_test = GetImbalancedLabelData(bcw, 0.5)\n",
    "print(y_train.sum(), y_train.shape,  y_test.sum(), y_test.shape,)\n",
    "print(y_train.sum()/( y_train.shape[0] - y_train.sum() )  )"
   ]
  },
  {
   "attachments": {},
   "cell_type": "markdown",
   "metadata": {
    "id": "pOKqXDnaEUn3"
   },
   "source": [
    "# 4. Build ML/DL model (model specific)"
   ]
  },
  {
   "cell_type": "code",
   "execution_count": 17,
   "metadata": {
    "id": "x6c5W7pbEUn3"
   },
   "outputs": [],
   "source": [
    "from sklearn.tree import DecisionTreeClassifier\n",
    "model = DecisionTreeClassifier()\n",
    "# model = DecisionTreeClassifier(class_weight='balanced')\n",
    "\n",
    "from sklearn.ensemble import RandomForestClassifier\n",
    "model = RandomForestClassifier(n_estimators=100)\n",
    "model = RandomForestClassifier(n_estimators=100, class_weight='balanced')\n",
    "\n",
    "from sklearn.neighbors import KNeighborsClassifier\n",
    "# model = KNeighborsClassifier()\n",
    "model = KNeighborsClassifier(weights='distance')\n",
    "\n",
    "# from sklearn.svm import SVC\n",
    "# model = SVC()\n",
    "# model = SVC(gamma='scale')\n",
    "# model = SVC(gamma='scale', class_weight='balanced')"
   ]
  },
  {
   "cell_type": "code",
   "execution_count": 18,
   "metadata": {},
   "outputs": [],
   "source": [
    "def RunAllModels(bcw, Label_Ratio, ClassWeight):\n",
    "    X_train, X_test, y_train, y_test = GetImbalancedLabelData(bcw, 0.5)\n",
    "    Result = []\n",
    "    \n",
    "    from sklearn.tree import DecisionTreeClassifier\n",
    "#     model = DecisionTreeClassifier()\n",
    "    model = DecisionTreeClassifier(class_weight='balanced')\n",
    "    model.fit(X_train, y_train)\n",
    "    pred = model.predict(X_test)\n",
    "    Result = Result + [ ['DT', Label_Ratio, ClassWeight] + list(evaluate(pred, y_test)) ]\n",
    "\n",
    "#     from sklearn.ensemble import RandomForestClassifier\n",
    "# #     model = RandomForestClassifier(n_estimators=100)\n",
    "#     model = RandomForestClassifier(n_estimators=100, class_weight='balanced')\n",
    "#     model.fit(X_train, y_train)\n",
    "#     pred = model.predict(X_test)\n",
    "#     Result = Result + [ ['RF', Label_Ratio, ClassWeight] + list(evaluate(pred, y_test)) ]\n",
    "\n",
    "\n",
    "#     from sklearn.neighbors import KNeighborsClassifier\n",
    "# #     model = KNeighborsClassifier()\n",
    "#     model = KNeighborsClassifier(weights='distance')\n",
    "#     model.fit(X_train, y_train)\n",
    "#     pred = model.predict(X_test)\n",
    "#     Result = Result + [ ['KNN', Label_Ratio, ClassWeight] + list(evaluate(pred, y_test)) ]\n",
    "\n",
    "\n",
    "#     from sklearn.svm import SVC\n",
    "#     # model = SVC()\n",
    "#     # model = SVC(gamma='scale')\n",
    "#     model = SVC(gamma='scale', class_weight='balanced')\n",
    "#     model.fit(X_train, y_train)\n",
    "#     pred = model.predict(X_test)\n",
    "#     Result = Result + [ ['SVC', Label_Ratio, ClassWeight] + list(evaluate(pred, y_test)) ]\n",
    "\n",
    "    return Result"
   ]
  },
  {
   "cell_type": "code",
   "execution_count": 19,
   "metadata": {},
   "outputs": [
    {
     "data": {
      "text/plain": [
       "[['DT', 0.1, 0, 0.916, 21, -3]]"
      ]
     },
     "execution_count": 19,
     "metadata": {},
     "output_type": "execute_result"
    }
   ],
   "source": [
    "RunAllModels(bcw, 0.1, 0)"
   ]
  },
  {
   "cell_type": "code",
   "execution_count": 20,
   "metadata": {},
   "outputs": [
    {
     "data": {
      "text/plain": [
       "[['DT', 0.1, 0, 0.92, 20, 0]]"
      ]
     },
     "execution_count": 20,
     "metadata": {},
     "output_type": "execute_result"
    }
   ],
   "source": [
    "AllResult = []\n",
    "AllResult = AllResult + RunAllModels(bcw, 0.1, 0)\n",
    "AllResult"
   ]
  },
  {
   "cell_type": "code",
   "execution_count": 21,
   "metadata": {},
   "outputs": [
    {
     "data": {
      "text/plain": [
       "[['DT', 0.1, 0, 0.92, 20, 0], ['DT', 0.6, 0, 0.92, 20, -2]]"
      ]
     },
     "execution_count": 21,
     "metadata": {},
     "output_type": "execute_result"
    }
   ],
   "source": [
    "AllResult = AllResult + RunAllModels(bcw, 0.6, 0)\n",
    "AllResult"
   ]
  },
  {
   "cell_type": "code",
   "execution_count": 22,
   "metadata": {},
   "outputs": [
    {
     "data": {
      "text/plain": [
       "[['DT', 0.1, 0, 0.92, 20, 0],\n",
       " ['DT', 0.6, 0, 0.92, 20, -2],\n",
       " ['DT', 0.9, 0, 0.924, 19, -3]]"
      ]
     },
     "execution_count": 22,
     "metadata": {},
     "output_type": "execute_result"
    }
   ],
   "source": [
    "AllResult = AllResult + RunAllModels(bcw, 0.9, 0)\n",
    "AllResult"
   ]
  },
  {
   "cell_type": "code",
   "execution_count": null,
   "metadata": {},
   "outputs": [],
   "source": []
  },
  {
   "cell_type": "code",
   "execution_count": 23,
   "metadata": {
    "id": "D-H0TNyIEUn3",
    "outputId": "c938c54f-ec3c-4201-aab9-3c81e302f9cd",
    "scrolled": true
   },
   "outputs": [
    {
     "data": {
      "text/plain": [
       "(0.952, 12, -12)"
      ]
     },
     "execution_count": 23,
     "metadata": {},
     "output_type": "execute_result"
    }
   ],
   "source": [
    "# from surprise.model_selection import cross_validate\n",
    "model.fit(X_train, y_train)\n",
    "pred = model.predict(X_test)\n",
    "evaluate(pred, y_test)"
   ]
  },
  {
   "cell_type": "code",
   "execution_count": 24,
   "metadata": {
    "id": "Fd04igoBEUn4",
    "outputId": "b06ebb5f-810e-4667-b0f7-7bd919a616e7"
   },
   "outputs": [
    {
     "data": {
      "text/plain": [
       "(0.952, 12, -12)"
      ]
     },
     "execution_count": 24,
     "metadata": {},
     "output_type": "execute_result"
    }
   ],
   "source": [
    "model.fit(X_train, y_train)\n",
    "pred = model.predict(X_test)\n",
    "evaluate(pred, y_test)"
   ]
  },
  {
   "cell_type": "code",
   "execution_count": 25,
   "metadata": {
    "id": "2INtw2UPEUn4",
    "outputId": "af4b8c72-c633-47cf-a3df-7bde3ff3db5f"
   },
   "outputs": [
    {
     "data": {
      "text/plain": [
       "106"
      ]
     },
     "execution_count": 25,
     "metadata": {},
     "output_type": "execute_result"
    }
   ],
   "source": [
    "y_test.sum()"
   ]
  },
  {
   "attachments": {},
   "cell_type": "markdown",
   "metadata": {
    "id": "Y0fqFbz3EUn4"
   },
   "source": [
    "# 5. Training"
   ]
  },
  {
   "cell_type": "code",
   "execution_count": 26,
   "metadata": {
    "id": "YWiCF6PzEUn5",
    "outputId": "2304775c-cf3d-495e-8df5-c60d19892bc7"
   },
   "outputs": [
    {
     "data": {
      "text/html": [
       "<style>#sk-container-id-1 {color: black;background-color: white;}#sk-container-id-1 pre{padding: 0;}#sk-container-id-1 div.sk-toggleable {background-color: white;}#sk-container-id-1 label.sk-toggleable__label {cursor: pointer;display: block;width: 100%;margin-bottom: 0;padding: 0.3em;box-sizing: border-box;text-align: center;}#sk-container-id-1 label.sk-toggleable__label-arrow:before {content: \"▸\";float: left;margin-right: 0.25em;color: #696969;}#sk-container-id-1 label.sk-toggleable__label-arrow:hover:before {color: black;}#sk-container-id-1 div.sk-estimator:hover label.sk-toggleable__label-arrow:before {color: black;}#sk-container-id-1 div.sk-toggleable__content {max-height: 0;max-width: 0;overflow: hidden;text-align: left;background-color: #f0f8ff;}#sk-container-id-1 div.sk-toggleable__content pre {margin: 0.2em;color: black;border-radius: 0.25em;background-color: #f0f8ff;}#sk-container-id-1 input.sk-toggleable__control:checked~div.sk-toggleable__content {max-height: 200px;max-width: 100%;overflow: auto;}#sk-container-id-1 input.sk-toggleable__control:checked~label.sk-toggleable__label-arrow:before {content: \"▾\";}#sk-container-id-1 div.sk-estimator input.sk-toggleable__control:checked~label.sk-toggleable__label {background-color: #d4ebff;}#sk-container-id-1 div.sk-label input.sk-toggleable__control:checked~label.sk-toggleable__label {background-color: #d4ebff;}#sk-container-id-1 input.sk-hidden--visually {border: 0;clip: rect(1px 1px 1px 1px);clip: rect(1px, 1px, 1px, 1px);height: 1px;margin: -1px;overflow: hidden;padding: 0;position: absolute;width: 1px;}#sk-container-id-1 div.sk-estimator {font-family: monospace;background-color: #f0f8ff;border: 1px dotted black;border-radius: 0.25em;box-sizing: border-box;margin-bottom: 0.5em;}#sk-container-id-1 div.sk-estimator:hover {background-color: #d4ebff;}#sk-container-id-1 div.sk-parallel-item::after {content: \"\";width: 100%;border-bottom: 1px solid gray;flex-grow: 1;}#sk-container-id-1 div.sk-label:hover label.sk-toggleable__label {background-color: #d4ebff;}#sk-container-id-1 div.sk-serial::before {content: \"\";position: absolute;border-left: 1px solid gray;box-sizing: border-box;top: 0;bottom: 0;left: 50%;z-index: 0;}#sk-container-id-1 div.sk-serial {display: flex;flex-direction: column;align-items: center;background-color: white;padding-right: 0.2em;padding-left: 0.2em;position: relative;}#sk-container-id-1 div.sk-item {position: relative;z-index: 1;}#sk-container-id-1 div.sk-parallel {display: flex;align-items: stretch;justify-content: center;background-color: white;position: relative;}#sk-container-id-1 div.sk-item::before, #sk-container-id-1 div.sk-parallel-item::before {content: \"\";position: absolute;border-left: 1px solid gray;box-sizing: border-box;top: 0;bottom: 0;left: 50%;z-index: -1;}#sk-container-id-1 div.sk-parallel-item {display: flex;flex-direction: column;z-index: 1;position: relative;background-color: white;}#sk-container-id-1 div.sk-parallel-item:first-child::after {align-self: flex-end;width: 50%;}#sk-container-id-1 div.sk-parallel-item:last-child::after {align-self: flex-start;width: 50%;}#sk-container-id-1 div.sk-parallel-item:only-child::after {width: 0;}#sk-container-id-1 div.sk-dashed-wrapped {border: 1px dashed gray;margin: 0 0.4em 0.5em 0.4em;box-sizing: border-box;padding-bottom: 0.4em;background-color: white;}#sk-container-id-1 div.sk-label label {font-family: monospace;font-weight: bold;display: inline-block;line-height: 1.2em;}#sk-container-id-1 div.sk-label-container {text-align: center;}#sk-container-id-1 div.sk-container {/* jupyter's `normalize.less` sets `[hidden] { display: none; }` but bootstrap.min.css set `[hidden] { display: none !important; }` so we also need the `!important` here to be able to override the default hidden behavior on the sphinx rendered scikit-learn.org. See: https://github.com/scikit-learn/scikit-learn/issues/21755 */display: inline-block !important;position: relative;}#sk-container-id-1 div.sk-text-repr-fallback {display: none;}</style><div id=\"sk-container-id-1\" class=\"sk-top-container\"><div class=\"sk-text-repr-fallback\"><pre>KNeighborsClassifier(weights=&#x27;distance&#x27;)</pre><b>In a Jupyter environment, please rerun this cell to show the HTML representation or trust the notebook. <br />On GitHub, the HTML representation is unable to render, please try loading this page with nbviewer.org.</b></div><div class=\"sk-container\" hidden><div class=\"sk-item\"><div class=\"sk-estimator sk-toggleable\"><input class=\"sk-toggleable__control sk-hidden--visually\" id=\"sk-estimator-id-1\" type=\"checkbox\" checked><label for=\"sk-estimator-id-1\" class=\"sk-toggleable__label sk-toggleable__label-arrow\">KNeighborsClassifier</label><div class=\"sk-toggleable__content\"><pre>KNeighborsClassifier(weights=&#x27;distance&#x27;)</pre></div></div></div></div></div>"
      ],
      "text/plain": [
       "KNeighborsClassifier(weights='distance')"
      ]
     },
     "execution_count": 26,
     "metadata": {},
     "output_type": "execute_result"
    }
   ],
   "source": [
    "# for training only\n",
    "model.fit(X_train, y_train)"
   ]
  },
  {
   "attachments": {},
   "cell_type": "markdown",
   "metadata": {
    "id": "1wQ4y8vQEUn5"
   },
   "source": [
    "# 6. Testng"
   ]
  },
  {
   "cell_type": "code",
   "execution_count": 27,
   "metadata": {
    "id": "YAE8moOGEUn5"
   },
   "outputs": [],
   "source": [
    "pred = model.predict(X_test)"
   ]
  },
  {
   "cell_type": "code",
   "execution_count": 28,
   "metadata": {
    "id": "ozTe2gl9EUn6",
    "outputId": "4ff78b4f-ef14-4170-a9eb-c6757fbab5c5"
   },
   "outputs": [
    {
     "data": {
      "text/plain": [
       "(251, 30)"
      ]
     },
     "execution_count": 28,
     "metadata": {},
     "output_type": "execute_result"
    }
   ],
   "source": [
    "X_test.shape"
   ]
  },
  {
   "attachments": {},
   "cell_type": "markdown",
   "metadata": {
    "id": "XQp5_7qzEUn6"
   },
   "source": [
    "# 7. Evaluate the Results"
   ]
  },
  {
   "cell_type": "code",
   "execution_count": 29,
   "metadata": {
    "id": "gs3agb4tEUn7",
    "outputId": "892ba32f-70c2-43b3-b016-b4441375466a",
    "scrolled": true
   },
   "outputs": [
    {
     "data": {
      "text/plain": [
       "array([ 0,  0,  0,  0,  0,  0,  0,  0,  0,  0,  0,  0,  0,  0,  0,  0,  0,\n",
       "        0,  0,  0,  0,  0,  0,  0,  0,  0,  0,  0,  0,  0,  0,  0,  0,  0,\n",
       "        0,  0,  0,  0,  0,  0,  0,  0,  0,  0,  0,  0,  0,  0,  0,  0,  0,\n",
       "        0,  0,  0,  0,  0,  0,  0,  0,  0,  0,  0,  0,  0,  0,  0,  0,  0,\n",
       "        0,  0,  0,  0,  0,  0,  0,  0,  0,  0,  0,  0,  0,  0,  0,  0,  0,\n",
       "        0,  0,  0,  0,  0,  0,  0,  0,  0,  0,  0,  0,  0,  0,  0,  0,  0,\n",
       "        0,  0,  0,  0,  0,  0,  0,  0,  0,  0,  0,  0,  0,  0,  0,  0,  0,\n",
       "        0,  0,  0,  0,  0,  0,  0,  0,  0,  0,  0,  0,  0,  0,  0,  0,  0,\n",
       "        0,  0,  0,  0,  0,  0,  0,  0,  0,  0,  0,  0,  0,  0,  0,  0,  0,\n",
       "        0,  0,  0,  0,  0,  0,  0,  0,  0,  0,  0,  0,  0,  0,  0,  0,  0,\n",
       "        0,  0,  0,  0,  0,  0,  0,  0, -1,  0, -1,  0,  0,  0, -1,  0,  0,\n",
       "        0,  0, -1,  0,  0,  0,  0,  0,  0, -1, -1,  0,  0,  0,  0,  0,  0,\n",
       "        0,  0,  0,  0,  0,  0,  0,  0, -1,  0,  0,  0,  0,  0,  0,  0,  0,\n",
       "        0,  0,  0,  0,  0,  0, -1,  0,  0,  0,  0,  0,  0,  0,  0, -1, -1,\n",
       "        0,  0, -1,  0,  0,  0,  0,  0,  0, -1,  0,  0,  0], dtype=int64)"
      ]
     },
     "execution_count": 29,
     "metadata": {},
     "output_type": "execute_result"
    }
   ],
   "source": [
    "pred - y_test"
   ]
  },
  {
   "cell_type": "code",
   "execution_count": 30,
   "metadata": {
    "id": "jRUuCQr1EUn8",
    "outputId": "2d1f17d8-1564-484b-b31b-4f63b2867346"
   },
   "outputs": [
    {
     "data": {
      "text/plain": [
       "-12"
      ]
     },
     "execution_count": 30,
     "metadata": {},
     "output_type": "execute_result"
    }
   ],
   "source": [
    "((pred - y_test)).sum()  "
   ]
  },
  {
   "cell_type": "code",
   "execution_count": 31,
   "metadata": {
    "id": "i4KrY77LEUn8",
    "outputId": "a5a798ec-d4d0-4ec1-c566-a1d251cc10e1"
   },
   "outputs": [
    {
     "data": {
      "text/plain": [
       "(0.952, 12, -12)"
      ]
     },
     "execution_count": 31,
     "metadata": {},
     "output_type": "execute_result"
    }
   ],
   "source": [
    "evaluate(pred, y_test)"
   ]
  },
  {
   "cell_type": "code",
   "execution_count": 32,
   "metadata": {
    "id": "DCrMfZdSEUn8"
   },
   "outputs": [
    {
     "data": {
      "text/plain": [
       "106"
      ]
     },
     "execution_count": 32,
     "metadata": {},
     "output_type": "execute_result"
    }
   ],
   "source": [
    "# check how many of positive cases\n",
    "y_test.sum()"
   ]
  },
  {
   "cell_type": "code",
   "execution_count": null,
   "metadata": {
    "id": "cP3cz8Y_EUn9"
   },
   "outputs": [],
   "source": []
  }
 ],
 "metadata": {
  "colab": {
   "provenance": []
  },
  "kernelspec": {
   "display_name": "Python 3 (ipykernel)",
   "language": "python",
   "name": "python3"
  },
  "language_info": {
   "codemirror_mode": {
    "name": "ipython",
    "version": 3
   },
   "file_extension": ".py",
   "mimetype": "text/x-python",
   "name": "python",
   "nbconvert_exporter": "python",
   "pygments_lexer": "ipython3",
   "version": "3.11.3"
  }
 },
 "nbformat": 4,
 "nbformat_minor": 1
}
