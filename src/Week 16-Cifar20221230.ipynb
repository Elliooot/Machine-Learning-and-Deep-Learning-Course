{
 "cells": [
  {
   "cell_type": "code",
   "execution_count": 21,
   "id": "dcb9d253",
   "metadata": {
    "scrolled": true
   },
   "outputs": [
    {
     "name": "stdout",
     "output_type": "stream",
     "text": [
      "Device mapping:\n",
      "/job:localhost/replica:0/task:0/device:GPU:0 -> device: 0, name: DML, pci bus id: <undefined>\n",
      "/job:localhost/replica:0/task:0/device:GPU:1 -> device: 1, name: DML, pci bus id: <undefined>\n",
      "\n"
     ]
    },
    {
     "data": {
      "text/plain": [
       "<tensorflow.python.client.session.Session at 0x28c99b406a0>"
      ]
     },
     "execution_count": 21,
     "metadata": {},
     "output_type": "execute_result"
    }
   ],
   "source": [
    "import os\n",
    "import tensorflow as tf\n",
    "from tensorflow.python.client import device_lib\n",
    "import numpy as np\n",
    "import matplotlib.pyplot as plt\n",
    "import pandas as pd\n",
    "import time\n",
    "import matplotlib.image as mpimg\n",
    "\n",
    "from keras.models import Sequential, load_model\n",
    "from keras.datasets import cifar10\n",
    "from keras.utils import np_utils,plot_model\n",
    "from keras.layers import Dense, Dropout, Flatten, Conv2D, Conv3D, MaxPool2D, MaxPool3D, Input\n",
    "from sklearn.model_selection import train_test_split\n",
    "\n",
    "tf.compat.v1.Session(\n",
    "    config=tf.compat.v1.ConfigProto(log_device_placement=True))"
   ]
  },
  {
   "cell_type": "code",
   "execution_count": 2,
   "id": "d4e5ac32",
   "metadata": {
    "scrolled": true
   },
   "outputs": [
    {
     "name": "stdout",
     "output_type": "stream",
     "text": [
      "tensorflow version:  2.10.0\n",
      "WARNING:tensorflow:From C:\\Users\\Laptop\\AppData\\Local\\Temp\\ipykernel_17208\\521926766.py:2: is_gpu_available (from tensorflow.python.framework.test_util) is deprecated and will be removed in a future version.\n",
      "Instructions for updating:\n",
      "Use `tf.config.list_physical_devices('GPU')` instead.\n",
      "True\n",
      "Num GPUs Available:  2\n",
      "[name: \"/device:CPU:0\"\n",
      "device_type: \"CPU\"\n",
      "memory_limit: 268435456\n",
      "locality {\n",
      "}\n",
      "incarnation: 6438804693126649035\n",
      "xla_global_id: -1\n",
      ", name: \"/device:GPU:0\"\n",
      "device_type: \"GPU\"\n",
      "memory_limit: 16979219790\n",
      "locality {\n",
      "  bus_id: 1\n",
      "}\n",
      "incarnation: 8412626703445258183\n",
      "physical_device_desc: \"device: 0, name: DML, pci bus id: <undefined>\"\n",
      "xla_global_id: -1\n",
      ", name: \"/device:GPU:1\"\n",
      "device_type: \"GPU\"\n",
      "memory_limit: 15318312704\n",
      "locality {\n",
      "  bus_id: 1\n",
      "}\n",
      "incarnation: 9509660760813262063\n",
      "physical_device_desc: \"device: 1, name: DML, pci bus id: <undefined>\"\n",
      "xla_global_id: -1\n",
      "]\n"
     ]
    }
   ],
   "source": [
    "print(\"tensorflow version: \", tf.__version__)\n",
    "print(tf.test.is_gpu_available())\n",
    "print(\"Num GPUs Available: \", len(tf.config.list_physical_devices('GPU')))\n",
    "print(device_lib.list_local_devices())"
   ]
  },
  {
   "cell_type": "code",
   "execution_count": 3,
   "id": "42ad2df5",
   "metadata": {
    "scrolled": true
   },
   "outputs": [
    {
     "name": "stdout",
     "output_type": "stream",
     "text": [
      "GPU found\n"
     ]
    }
   ],
   "source": [
    "# os.environ['CUDA_VISIBLE_DEVICES']='-1'\n",
    "if tf.test.gpu_device_name():\n",
    "    print('GPU found')\n",
    "else:\n",
    "    print(\"No GPU found\")"
   ]
  },
  {
   "cell_type": "code",
   "execution_count": 4,
   "id": "949352fa",
   "metadata": {},
   "outputs": [],
   "source": [
    "(X_train, y_train), (X_test, y_test) = cifar10.load_data()"
   ]
  },
  {
   "cell_type": "code",
   "execution_count": 5,
   "id": "5b5cbe08",
   "metadata": {},
   "outputs": [
    {
     "name": "stdout",
     "output_type": "stream",
     "text": [
      "(50000, 10) (50000, 1)\n",
      "(10000, 10) (10000, 1)\n"
     ]
    }
   ],
   "source": [
    "Y_train = np_utils.to_categorical(y_train)\n",
    "print(Y_train.shape, y_train.shape)\n",
    "Y_test = np_utils.to_categorical(y_test)\n",
    "print(Y_test.shape, y_test.shape)"
   ]
  },
  {
   "cell_type": "code",
   "execution_count": 6,
   "id": "4e3e0aad",
   "metadata": {},
   "outputs": [
    {
     "name": "stdout",
     "output_type": "stream",
     "text": [
      "(45000, 32, 32, 3) (45000, 10)\n"
     ]
    }
   ],
   "source": [
    "X_train_cnn, X_test_cnn, Y_train_cnn, Y_test_cnn = train_test_split(X_train, Y_train, test_size = 0.1, random_state = 2000)\n",
    "print(X_train_cnn.shape, Y_train_cnn.shape)"
   ]
  },
  {
   "cell_type": "code",
   "execution_count": 7,
   "id": "c0d0fe1c",
   "metadata": {},
   "outputs": [
    {
     "name": "stdout",
     "output_type": "stream",
     "text": [
      "Model: \"sequential\"\n",
      "_________________________________________________________________\n",
      " Layer (type)                Output Shape              Param #   \n",
      "=================================================================\n",
      " conv2d (Conv2D)             (None, 24, 24, 100)       24400     \n",
      "                                                                 \n",
      " max_pooling2d (MaxPooling2D  (None, 12, 12, 100)      0         \n",
      " )                                                               \n",
      "                                                                 \n",
      " conv2d_1 (Conv2D)           (None, 8, 8, 100)         250100    \n",
      "                                                                 \n",
      " max_pooling2d_1 (MaxPooling  (None, 4, 4, 100)        0         \n",
      " 2D)                                                             \n",
      "                                                                 \n",
      " conv2d_2 (Conv2D)           (None, 2, 2, 100)         90100     \n",
      "                                                                 \n",
      " max_pooling2d_2 (MaxPooling  (None, 1, 1, 100)        0         \n",
      " 2D)                                                             \n",
      "                                                                 \n",
      " flatten (Flatten)           (None, 100)               0         \n",
      "                                                                 \n",
      " dense (Dense)               (None, 400)               40400     \n",
      "                                                                 \n",
      " dropout (Dropout)           (None, 400)               0         \n",
      "                                                                 \n",
      " dense_1 (Dense)             (None, 160)               64160     \n",
      "                                                                 \n",
      " dropout_1 (Dropout)         (None, 160)               0         \n",
      "                                                                 \n",
      " dense_2 (Dense)             (None, 40)                6440      \n",
      "                                                                 \n",
      " dense_3 (Dense)             (None, 10)                410       \n",
      "                                                                 \n",
      "=================================================================\n",
      "Total params: 476,010\n",
      "Trainable params: 476,010\n",
      "Non-trainable params: 0\n",
      "_________________________________________________________________\n"
     ]
    }
   ],
   "source": [
    "activation1 = 'relu'\n",
    "model = Sequential()\n",
    "channel1 = 100\n",
    "channel2 = 200\n",
    "channel3 = 400\n",
    "model.add(Conv2D(channel1, (9, 9), input_shape=(32, 32, 3), activation=activation1))\n",
    "model.add(MaxPool2D((2,2)))\n",
    "model.add(Conv2D(channel1, (5, 5), activation=activation1))\n",
    "model.add(MaxPool2D((2,2)))\n",
    "model.add(Conv2D(channel1, (3, 3), activation=activation1))\n",
    "model.add(MaxPool2D((2,2)))\n",
    "model.add(Flatten())\n",
    "model.add(Dense(channel3, activation=activation1))\n",
    "model.add(Dropout(.5))\n",
    "model.add(Dense(160, activation = 'relu'))\n",
    "model.add(Dropout(.5))\n",
    "model.add(Dense(40, activation = 'relu'))\n",
    "model.add(Dense(10, activation = 'softmax'))\n",
    "model.compile(optimizer = 'adam', loss = 'categorical_crossentropy', metrics = ['accuracy'])\n",
    "model.summary()"
   ]
  },
  {
   "cell_type": "code",
   "execution_count": 8,
   "id": "47941df5",
   "metadata": {},
   "outputs": [
    {
     "name": "stdout",
     "output_type": "stream",
     "text": [
      "Epoch 1/3\n",
      "23/23 [==============================] - 52s 2s/step - loss: 3.5913 - accuracy: 0.1012\n",
      "Epoch 2/3\n",
      "23/23 [==============================] - 41s 2s/step - loss: 2.3027 - accuracy: 0.1039\n",
      "Epoch 3/3\n",
      "23/23 [==============================] - 41s 2s/step - loss: 2.3026 - accuracy: 0.1020\n",
      "time =  137.10249257087708\n"
     ]
    }
   ],
   "source": [
    "start = time.time()\n",
    "model.fit(X_train_cnn, Y_train_cnn, epochs = 3, batch_size = 2000, verbose = True)\n",
    "print(\"time = \", time.time() - start)"
   ]
  },
  {
   "cell_type": "code",
   "execution_count": 9,
   "id": "fb9ce225",
   "metadata": {},
   "outputs": [],
   "source": [
    "# show_train_history('acc', 'val_acc')"
   ]
  },
  {
   "cell_type": "code",
   "execution_count": 10,
   "id": "82e5496f",
   "metadata": {},
   "outputs": [],
   "source": [
    "# show_train_history('loss', 'loss_acc')"
   ]
  },
  {
   "cell_type": "code",
   "execution_count": 11,
   "id": "a79e07a9",
   "metadata": {},
   "outputs": [],
   "source": [
    "def get_ANN_accuracy(predicted, expected, threshold):\n",
    "    a = np.array([0,1,2,3,4,5,6,7,8,9])\n",
    "    expected_y = expected.dot(a)\n",
    "    expected_y = expected_y.astype(int)\n",
    "    Index_missed = []\n",
    "    Score_at_expect = []\n",
    "    Expect_missed = []\n",
    "    Score_at_predict = []\n",
    "    Predict_missed = []\n",
    "    \n",
    "    for j in range(expected_y.shape[0]):\n",
    "        score_at_expect = predicted[j, expected_y[j]]\n",
    "        if(score_at_expect < threshold):\n",
    "            Index_missed.append(j)\n",
    "            Expect_missed.append(expected_y[j])\n",
    "            Score_at_expect.append(score_at_expect)\n",
    "            \n",
    "            max_score = max(predicted[j])\n",
    "            Score_at_predict.append(max_score)\n",
    "            for k in range(10):\n",
    "                if(predicted[j, k] == max_score):\n",
    "                    Predict_missed.append(k)\n",
    "                    break\n",
    "    correct_rate = 1 - len(Index_missed)/expected_y.shape[0]\n",
    "    return correct_rate, expected_y, Index_missed, Expect_missed, Predict_missed, Score_at_expect, Score_at_predict"
   ]
  },
  {
   "cell_type": "code",
   "execution_count": 12,
   "id": "e0ba658c",
   "metadata": {},
   "outputs": [],
   "source": [
    "def get_topN_ANN_accuracy(predicted, expected, topN, threshold):\n",
    "    a = np.array([0,1,2,3,4,5,6,7,8,9])\n",
    "    \n",
    "    expected_y = expected.dot(a)\n",
    "    expected_y = expected_y.astype(int)\n",
    "    \n",
    "    Index_missed = []\n",
    "    Score_at_expect = []\n",
    "    Expect_missed = []\n",
    "    Score_at_predict = []\n",
    "    Predict_missed = []\n",
    "    \n",
    "    for k in range(expected_y.shape[0]):\n",
    "        score_at_expect = predicted[k, expected_y[k]]\n",
    "        \n",
    "        tmp_pred = predicted[k]\n",
    "        tmp_y = expected_y[k]\n",
    "        tmp_sort = sorted(tmp_pred, reverse = True)\n",
    "        topN_score = sum(tmp_sort[0:topN])\n",
    "        max_score = tmp_sort[0]\n",
    "        topN_index = []\n",
    "        for i in range(topN):\n",
    "            for j in range(10):\n",
    "                if(tmp_pred[j] == tmp_sort[i]):\n",
    "                    topN_index.append(j)\n",
    "                    break\n",
    "        INtopN = any(t == tmp_y for t in topN_index)\n",
    "        \n",
    "        if(topN_score < threshold or not INtopN):\n",
    "            Index_missed.append(k)\n",
    "            Score_at_expect.append(score_at_expect)\n",
    "            Expect_missed.append(expected_y[j])\n",
    "            Score_at_predict.append(topN_score)\n",
    "            Predict_missed.append(topN_index)\n",
    "            \n",
    "    correct_rate = 1 - len(Index_missed)/expected_y.shape[0]\n",
    "    return correct_rate, expected_y, Index_missed, Expect_missed, Predict_missed, Score_at_expect, Score_at_predict"
   ]
  },
  {
   "cell_type": "code",
   "execution_count": 13,
   "id": "5b75a113",
   "metadata": {},
   "outputs": [
    {
     "name": "stdout",
     "output_type": "stream",
     "text": [
      "157/157 [==============================] - 7s 29ms/step\n",
      "1407/1407 [==============================] - 39s 28ms/step\n"
     ]
    }
   ],
   "source": [
    "pred_test = model.predict(X_test_cnn)\n",
    "pred_train = model.predict(X_train_cnn)"
   ]
  },
  {
   "cell_type": "code",
   "execution_count": 14,
   "id": "2fd2eada",
   "metadata": {},
   "outputs": [
    {
     "name": "stdout",
     "output_type": "stream",
     "text": [
      "0.0\n",
      "0.30179999999999996\n"
     ]
    }
   ],
   "source": [
    "threshold = 0.3\n",
    "\n",
    "correct_rate, expected_y, Index_missed, Expect_missed, Predict_missed, Score_at_expect, Score_at_predict\\\n",
    "= get_ANN_accuracy(pred_test, Y_test_cnn, threshold)\n",
    "print(correct_rate)\n",
    "\n",
    "threshold = 0.3\n",
    "topN = 3\n",
    "\n",
    "correct_rate, expected_y, Index_missed, Expect_missed, Predict_missed, Score_at_expect, Score_at_predict\\\n",
    "=get_topN_ANN_accuracy(pred_test, Y_test_cnn, topN, threshold)\n",
    "print(correct_rate)"
   ]
  },
  {
   "cell_type": "code",
   "execution_count": 15,
   "id": "36873087",
   "metadata": {},
   "outputs": [
    {
     "name": "stdout",
     "output_type": "stream",
     "text": [
      "0.0\n",
      "0.0\n"
     ]
    }
   ],
   "source": [
    "threshold = 0.5\n",
    "\n",
    "correct_rate, expected_y, index_missed, expect_missed, predict_missed, score_at_expect, score_at_predict\\\n",
    "=get_ANN_accuracy(pred_test, Y_test_cnn, threshold)\n",
    "print(correct_rate)\n",
    "\n",
    "correct_rate, expected_y, index_missed, expect_missed, predict_missed, score_at_expect, score_at_predict\\\n",
    "=get_topN_ANN_accuracy(pred_train, Y_train_cnn, topN, threshold)\n",
    "print(correct_rate)"
   ]
  },
  {
   "cell_type": "markdown",
   "id": "896fdf76",
   "metadata": {},
   "source": [
    "# 7. create more training images from the original training images"
   ]
  },
  {
   "cell_type": "markdown",
   "id": "ea48b067",
   "metadata": {},
   "source": [
    "* create more training images by flip, updown, leftright"
   ]
  },
  {
   "cell_type": "markdown",
   "id": "6f1bd799",
   "metadata": {},
   "source": [
    "* The final training image size is 4x of the original"
   ]
  },
  {
   "cell_type": "code",
   "execution_count": 16,
   "id": "c8251516",
   "metadata": {},
   "outputs": [
    {
     "data": {
      "image/png": "[encoded data removed]",
      "text/plain": [
       "<Figure size 640x480 with 1 Axes>"
      ]
     },
     "metadata": {},
     "output_type": "display_data"
    },
    {
     "data": {
      "image/png": "[encoded data removed]",
      "text/plain": [
       "<Figure size 640x480 with 1 Axes>"
      ]
     },
     "metadata": {},
     "output_type": "display_data"
    },
    {
     "data": {
      "image/png": "[encoded data removed]",
      "text/plain": [
       "<Figure size 640x480 with 1 Axes>"
      ]
     },
     "metadata": {},
     "output_type": "display_data"
    },
    {
     "data": {
      "image/png": "[encoded data removed]",
      "text/plain": [
       "<Figure size 640x480 with 1 Axes>"
      ]
     },
     "metadata": {},
     "output_type": "display_data"
    },
    {
     "data": {
      "image/png": "[encoded data removed]",
      "text/plain": [
       "<Figure size 640x480 with 1 Axes>"
      ]
     },
     "metadata": {},
     "output_type": "display_data"
    },
    {
     "data": {
      "image/png": "[encoded data removed]",
      "text/plain": [
       "<Figure size 640x480 with 1 Axes>"
      ]
     },
     "metadata": {},
     "output_type": "display_data"
    },
    {
     "data": {
      "image/png": "[encoded data removed]",
      "text/plain": [
       "<Figure size 640x480 with 1 Axes>"
      ]
     },
     "metadata": {},
     "output_type": "display_data"
    },
    {
     "data": {
      "image/png": "[encoded data removed]",
      "text/plain": [
       "<Figure size 640x480 with 1 Axes>"
      ]
     },
     "metadata": {},
     "output_type": "display_data"
    },
    {
     "data": {
      "image/png": "[encoded data removed]",
      "text/plain": [
       "<Figure size 640x480 with 1 Axes>"
      ]
     },
     "metadata": {},
     "output_type": "display_data"
    }
   ],
   "source": [
    "for i in X_train_cnn[:9]:\n",
    "    plt.imshow(np.flip(i))\n",
    "    plt.show()"
   ]
  },
  {
   "cell_type": "code",
   "execution_count": 17,
   "id": "501cac1a",
   "metadata": {},
   "outputs": [
    {
     "name": "stdout",
     "output_type": "stream",
     "text": [
      "(180000, 32, 32, 3)\n"
     ]
    }
   ],
   "source": [
    "X1 = [np.flip(i) for i in X_train_cnn]\n",
    "X2 = [np.fliplr(i) for i in X_train_cnn]\n",
    "X3 = [np.flipud(i) for i in X_train_cnn]\n",
    "X = np.concatenate((X_train_cnn, X1, X2, X3))\n",
    "Y = np.concatenate((Y_train_cnn, Y_train_cnn, Y_train_cnn, Y_train_cnn))\n",
    "print(X.shape)"
   ]
  },
  {
   "cell_type": "code",
   "execution_count": 18,
   "id": "ddb52726",
   "metadata": {},
   "outputs": [
    {
     "name": "stdout",
     "output_type": "stream",
     "text": [
      "Model: \"sequential_1\"\n",
      "_________________________________________________________________\n",
      " Layer (type)                Output Shape              Param #   \n",
      "=================================================================\n",
      " conv2d_3 (Conv2D)           (None, 24, 24, 100)       24400     \n",
      "                                                                 \n",
      " max_pooling2d_3 (MaxPooling  (None, 12, 12, 100)      0         \n",
      " 2D)                                                             \n",
      "                                                                 \n",
      " conv2d_4 (Conv2D)           (None, 8, 8, 100)         250100    \n",
      "                                                                 \n",
      " max_pooling2d_4 (MaxPooling  (None, 4, 4, 100)        0         \n",
      " 2D)                                                             \n",
      "                                                                 \n",
      " conv2d_5 (Conv2D)           (None, 2, 2, 100)         90100     \n",
      "                                                                 \n",
      " max_pooling2d_5 (MaxPooling  (None, 1, 1, 100)        0         \n",
      " 2D)                                                             \n",
      "                                                                 \n",
      " flatten_1 (Flatten)         (None, 100)               0         \n",
      "                                                                 \n",
      " dense_4 (Dense)             (None, 400)               40400     \n",
      "                                                                 \n",
      " dropout_2 (Dropout)         (None, 400)               0         \n",
      "                                                                 \n",
      " dense_5 (Dense)             (None, 160)               64160     \n",
      "                                                                 \n",
      " dense_6 (Dense)             (None, 40)                6440      \n",
      "                                                                 \n",
      " dense_7 (Dense)             (None, 10)                410       \n",
      "                                                                 \n",
      "=================================================================\n",
      "Total params: 476,010\n",
      "Trainable params: 476,010\n",
      "Non-trainable params: 0\n",
      "_________________________________________________________________\n"
     ]
    }
   ],
   "source": [
    "activation1 = 'relu'\n",
    "model1 = Sequential()\n",
    "channel1 = 100\n",
    "channel2 = 200\n",
    "channel3 = 400\n",
    "model1.add(Conv2D(channel1, (9, 9), input_shape=(32, 32, 3), activation=activation1))\n",
    "model1.add(MaxPool2D(pool_size=2))\n",
    "model1.add(Conv2D(channel1, (5, 5), activation=activation1))\n",
    "model1.add(MaxPool2D(pool_size=2))\n",
    "model1.add(Conv2D(channel1, (3, 3), activation=activation1))\n",
    "model1.add(MaxPool2D(pool_size=2))\n",
    "model1.add(Flatten())\n",
    "model1.add(Dense(channel3, activation=activation1))\n",
    "model1.add(Dropout(.5))\n",
    "model1.add(Dense(160, activation = 'relu'))\n",
    "model1.add(Dense(40, activation = 'relu'))\n",
    "model1.add(Dense(10, activation = 'softmax'))\n",
    "model1.compile(optimizer = 'adam', loss = 'categorical_crossentropy', metrics = ['accuracy'])\n",
    "model1.summary()"
   ]
  },
  {
   "cell_type": "code",
   "execution_count": 19,
   "id": "5c6f7b76",
   "metadata": {},
   "outputs": [
    {
     "name": "stdout",
     "output_type": "stream",
     "text": [
      "Epoch 1/10\n",
      "180/180 [==============================] - 172s 927ms/step - loss: 2.4038 - accuracy: 0.1609\n",
      "Epoch 2/10\n",
      "180/180 [==============================] - 167s 926ms/step - loss: 1.8709 - accuracy: 0.3191\n",
      "Epoch 3/10\n",
      "180/180 [==============================] - 166s 924ms/step - loss: 1.7152 - accuracy: 0.3789\n",
      "Epoch 4/10\n",
      "180/180 [==============================] - 167s 926ms/step - loss: 1.6411 - accuracy: 0.4093\n",
      "Epoch 5/10\n",
      "180/180 [==============================] - 167s 927ms/step - loss: 1.5746 - accuracy: 0.4355\n",
      "Epoch 6/10\n",
      "180/180 [==============================] - 166s 922ms/step - loss: 1.5225 - accuracy: 0.4574\n",
      "Epoch 7/10\n",
      "180/180 [==============================] - 168s 931ms/step - loss: 1.4810 - accuracy: 0.4748\n",
      "Epoch 8/10\n",
      "180/180 [==============================] - 166s 924ms/step - loss: 1.4490 - accuracy: 0.4857\n",
      "Epoch 9/10\n",
      "180/180 [==============================] - 166s 923ms/step - loss: 1.4124 - accuracy: 0.4996\n",
      "Epoch 10/10\n",
      "180/180 [==============================] - 168s 931ms/step - loss: 1.3877 - accuracy: 0.5080\n",
      "time =  1675.4550912380219\n"
     ]
    }
   ],
   "source": [
    "start = time.time()\n",
    "model1.fit(X, Y, epochs = 10, batch_size = 1000, verbose = True)\n",
    "print(\"time = \", time.time() - start)"
   ]
  },
  {
   "cell_type": "markdown",
   "id": "63319e41",
   "metadata": {},
   "source": [
    "# 8. test some personal images"
   ]
  },
  {
   "cell_type": "markdown",
   "id": "9fc014b0",
   "metadata": {},
   "source": [
    "## 8.1 acquire images"
   ]
  },
  {
   "cell_type": "code",
   "execution_count": 22,
   "id": "f7b3bc1e",
   "metadata": {},
   "outputs": [
    {
     "ename": "FileNotFoundError",
     "evalue": "[Errno 2] No such file or directory: 'Cifar10/airplan3.jpeg'",
     "output_type": "error",
     "traceback": [
      "\u001b[1;31m---------------------------------------------------------------------------\u001b[0m",
      "\u001b[1;31mFileNotFoundError\u001b[0m                         Traceback (most recent call last)",
      "\u001b[1;32m~\\AppData\\Local\\Temp\\ipykernel_17208\\240691486.py\u001b[0m in \u001b[0;36m<module>\u001b[1;34m\u001b[0m\n\u001b[1;32m----> 1\u001b[1;33m \u001b[0ma3\u001b[0m \u001b[1;33m=\u001b[0m \u001b[0mmpimg\u001b[0m\u001b[1;33m.\u001b[0m\u001b[0mimread\u001b[0m\u001b[1;33m(\u001b[0m\u001b[1;34m'Cifar10/airplan3.jpeg'\u001b[0m\u001b[1;33m)\u001b[0m\u001b[1;33m\u001b[0m\u001b[1;33m\u001b[0m\u001b[0m\n\u001b[0m\u001b[0;32m      2\u001b[0m \u001b[0ma2\u001b[0m \u001b[1;33m=\u001b[0m \u001b[0mmpimg\u001b[0m\u001b[1;33m.\u001b[0m\u001b[0mimread\u001b[0m\u001b[1;33m(\u001b[0m\u001b[1;34m'Cifar10/airplane2.jpeg'\u001b[0m\u001b[1;33m)\u001b[0m\u001b[1;33m\u001b[0m\u001b[1;33m\u001b[0m\u001b[0m\n\u001b[0;32m      3\u001b[0m \u001b[0ma4\u001b[0m \u001b[1;33m=\u001b[0m \u001b[0mmpimg\u001b[0m\u001b[1;33m.\u001b[0m\u001b[0mimread\u001b[0m\u001b[1;33m(\u001b[0m\u001b[1;34m'Cifar10/airplan4.jpeg'\u001b[0m\u001b[1;33m)\u001b[0m\u001b[1;33m\u001b[0m\u001b[1;33m\u001b[0m\u001b[0m\n\u001b[0;32m      4\u001b[0m \u001b[0md1\u001b[0m \u001b[1;33m=\u001b[0m \u001b[0mmpimg\u001b[0m\u001b[1;33m.\u001b[0m\u001b[0mimread\u001b[0m\u001b[1;33m(\u001b[0m\u001b[1;34m'Cifar10/dog1.jpeg'\u001b[0m\u001b[1;33m)\u001b[0m\u001b[1;33m\u001b[0m\u001b[1;33m\u001b[0m\u001b[0m\n\u001b[0;32m      5\u001b[0m \u001b[0md2\u001b[0m \u001b[1;33m=\u001b[0m \u001b[0mmpimg\u001b[0m\u001b[1;33m.\u001b[0m\u001b[0mimread\u001b[0m\u001b[1;33m(\u001b[0m\u001b[1;34m'Cifar10/dog2.jpeg'\u001b[0m\u001b[1;33m)\u001b[0m\u001b[1;33m\u001b[0m\u001b[1;33m\u001b[0m\u001b[0m\n",
      "\u001b[1;32mD:\\Anaconda3\\lib\\site-packages\\matplotlib\\image.py\u001b[0m in \u001b[0;36mimread\u001b[1;34m(fname, format)\u001b[0m\n\u001b[0;32m   1558\u001b[0m                     \u001b[0mresponse\u001b[0m \u001b[1;33m=\u001b[0m \u001b[0mio\u001b[0m\u001b[1;33m.\u001b[0m\u001b[0mBytesIO\u001b[0m\u001b[1;33m(\u001b[0m\u001b[0mresponse\u001b[0m\u001b[1;33m.\u001b[0m\u001b[0mread\u001b[0m\u001b[1;33m(\u001b[0m\u001b[1;33m)\u001b[0m\u001b[1;33m)\u001b[0m\u001b[1;33m\u001b[0m\u001b[1;33m\u001b[0m\u001b[0m\n\u001b[0;32m   1559\u001b[0m                 \u001b[1;32mreturn\u001b[0m \u001b[0mimread\u001b[0m\u001b[1;33m(\u001b[0m\u001b[0mresponse\u001b[0m\u001b[1;33m,\u001b[0m \u001b[0mformat\u001b[0m\u001b[1;33m=\u001b[0m\u001b[0mext\u001b[0m\u001b[1;33m)\u001b[0m\u001b[1;33m\u001b[0m\u001b[1;33m\u001b[0m\u001b[0m\n\u001b[1;32m-> 1560\u001b[1;33m     \u001b[1;32mwith\u001b[0m \u001b[0mimg_open\u001b[0m\u001b[1;33m(\u001b[0m\u001b[0mfname\u001b[0m\u001b[1;33m)\u001b[0m \u001b[1;32mas\u001b[0m \u001b[0mimage\u001b[0m\u001b[1;33m:\u001b[0m\u001b[1;33m\u001b[0m\u001b[1;33m\u001b[0m\u001b[0m\n\u001b[0m\u001b[0;32m   1561\u001b[0m         return (_pil_png_to_float_array(image)\n\u001b[0;32m   1562\u001b[0m                 \u001b[1;32mif\u001b[0m \u001b[0misinstance\u001b[0m\u001b[1;33m(\u001b[0m\u001b[0mimage\u001b[0m\u001b[1;33m,\u001b[0m \u001b[0mPIL\u001b[0m\u001b[1;33m.\u001b[0m\u001b[0mPngImagePlugin\u001b[0m\u001b[1;33m.\u001b[0m\u001b[0mPngImageFile\u001b[0m\u001b[1;33m)\u001b[0m \u001b[1;32melse\u001b[0m\u001b[1;33m\u001b[0m\u001b[1;33m\u001b[0m\u001b[0m\n",
      "\u001b[1;32mD:\\Anaconda3\\lib\\site-packages\\PIL\\Image.py\u001b[0m in \u001b[0;36mopen\u001b[1;34m(fp, mode, formats)\u001b[0m\n\u001b[0;32m   3090\u001b[0m \u001b[1;33m\u001b[0m\u001b[0m\n\u001b[0;32m   3091\u001b[0m     \u001b[1;32mif\u001b[0m \u001b[0mfilename\u001b[0m\u001b[1;33m:\u001b[0m\u001b[1;33m\u001b[0m\u001b[1;33m\u001b[0m\u001b[0m\n\u001b[1;32m-> 3092\u001b[1;33m         \u001b[0mfp\u001b[0m \u001b[1;33m=\u001b[0m \u001b[0mbuiltins\u001b[0m\u001b[1;33m.\u001b[0m\u001b[0mopen\u001b[0m\u001b[1;33m(\u001b[0m\u001b[0mfilename\u001b[0m\u001b[1;33m,\u001b[0m \u001b[1;34m\"rb\"\u001b[0m\u001b[1;33m)\u001b[0m\u001b[1;33m\u001b[0m\u001b[1;33m\u001b[0m\u001b[0m\n\u001b[0m\u001b[0;32m   3093\u001b[0m         \u001b[0mexclusive_fp\u001b[0m \u001b[1;33m=\u001b[0m \u001b[1;32mTrue\u001b[0m\u001b[1;33m\u001b[0m\u001b[1;33m\u001b[0m\u001b[0m\n\u001b[0;32m   3094\u001b[0m \u001b[1;33m\u001b[0m\u001b[0m\n",
      "\u001b[1;31mFileNotFoundError\u001b[0m: [Errno 2] No such file or directory: 'Cifar10/airplan3.jpeg'"
     ]
    }
   ],
   "source": [
    "a3 = mpimg.imread('Cifar10/airplan3.jpeg')\n",
    "a2 = mpimg.imread('Cifar10/airplane2.jpeg')\n",
    "a4 = mpimg.imread('Cifar10/airplan4.jpeg')\n",
    "d1 = mpimg.imread('Cifar10/dog1.jpeg')\n",
    "d2 = mpimg.imread('Cifar10/dog2.jpeg')\n",
    "d3 = mpimg.imread('Cifar10/dog3.jpeg')\n",
    "d4 = mpimg.imread('Cifar10/dog4.jpeg')\n",
    "c1 = mpimg.imread('Cifar10/cat1.jpeg')\n",
    "c2 = mpimg.imread('Cifar10/cat2.jpeg')\n",
    "c3 = mpimg.imread('Cifar10/cat3.jpeg')\n",
    "c4 = mpimg.imread('Cifar10/cat4.jpeg')\n",
    "t1 = mpimg.imread('Cifar10/truck1.jpeg')\n",
    "t2 = mpimg.imread('Cifar10/truck2.jpeg')"
   ]
  },
  {
   "cell_type": "markdown",
   "id": "35dbc532",
   "metadata": {},
   "source": [
    "## 8.2 resize the images to be consistent with the model"
   ]
  },
  {
   "cell_type": "code",
   "execution_count": null,
   "id": "8254700d",
   "metadata": {},
   "outputs": [],
   "source": [
    "tmp = d1\n",
    "dd1 = np.array(tmp[0:int(tmp.shape[0]/32)*32:int(tmp.shape[0]/32),\\\n",
    "                  0:int(tmp.shape[1]/32)*32:int(tmp.shape[1]/32)])\n",
    "\n",
    "tmp = d2\n",
    "dd2 = np.array(tmp[0:int(tmp.shape[0]/32)*32:int(tmp.shape[0]/32),\\\n",
    "                  0:int(tmp.shape[1]/32)*32:int(tmp.shape[1]/32)])\n",
    "\n",
    "tmp = d3\n",
    "dd3 = np.array(tmp[0:int(tmp.shape[0]/32)*32:int(tmp.shape[0]/32),\\\n",
    "                  0:int(tmp.shape[1]/32)*32:int(tmp.shape[1]/32)])\n",
    "\n",
    "tmp = d4\n",
    "dd4 = np.array(tmp[0:int(tmp.shape[0]/32)*32:int(tmp.shape[0]/32),\\\n",
    "                  0:int(tmp.shape[1]/32)*32:int(tmp.shape[1]/32)])"
   ]
  },
  {
   "cell_type": "code",
   "execution_count": null,
   "id": "b092ce09",
   "metadata": {},
   "outputs": [],
   "source": [
    "tmp = c1\n",
    "cc1 = np.array(tmp[0:int(tmp.shape[0]/32)*32:int(tmp.shape[0]/32),\\\n",
    "                  0:int(tmp.shape[1]/32)*32:int(tmp.shape[1]/32)])\n",
    "\n",
    "tmp = c2\n",
    "cc2 = np.array(tmp[0:int(tmp.shape[0]/32)*32:int(tmp.shape[0]/32),\\\n",
    "                  0:int(tmp.shape[1]/32)*32:int(tmp.shape[1]/32)])\n",
    "\n",
    "tmp = c3\n",
    "cc3 = np.array(tmp[0:int(tmp.shape[0]/32)*32:int(tmp.shape[0]/32),\\\n",
    "                  0:int(tmp.shape[1]/32)*32:int(tmp.shape[1]/32)])\n",
    "\n",
    "tmp = c4\n",
    "cc4 = np.array(tmp[0:int(tmp.shape[0]/32)*32:int(tmp.shape[0]/32),\\\n",
    "                  0:int(tmp.shape[1]/32)*32:int(tmp.shape[1]/32)])"
   ]
  },
  {
   "cell_type": "code",
   "execution_count": null,
   "id": "1f0bd0e3",
   "metadata": {},
   "outputs": [],
   "source": [
    "personal_image_array_orig = np.array([a2,a3,a4,c1,c2,c3,c4,d1,d2,d3,d4,t1,t2])\n",
    "expected = [0,0,0,1,1,1,1,5,5,5,5]\n",
    "personal_image_array = np.array([aa2,aa3,aa4,cc1,cc2,cc3,cc4,dd1,dd2,dd3,dd4,tt1,tt2])\n",
    "expected = [0,0,0,1,1,1,1,5,5,5,5,9,9]\n",
    "Expected = np_utils.to_categorical(expected)"
   ]
  },
  {
   "cell_type": "code",
   "execution_count": null,
   "id": "dc2d1bcc",
   "metadata": {},
   "outputs": [],
   "source": [
    "plt.figure(figsize=(40,15))\n",
    "for i in range(len(personal_image_array)):\n",
    "    ax = plt.subplot(3,5,i+1)\n",
    "    plt.imshow(personal_image_array_orig[i])\n",
    "plt.show()\n",
    "\n",
    "plt.figure(figsize=(40,15))\n",
    "for i in range(len(personal_image_array)):\n",
    "    ax = plt.subplot(3,4,i+1)\n",
    "    plt.imshow(personal_image_array[i])\n",
    "plt.show()"
   ]
  },
  {
   "cell_type": "markdown",
   "id": "89a14263",
   "metadata": {},
   "source": [
    "## 8.3 Test with the model with original 45000 training images plus flip, updown and leftright . Total training images is 180000."
   ]
  },
  {
   "cell_type": "code",
   "execution_count": null,
   "id": "79c22fe7",
   "metadata": {},
   "outputs": [],
   "source": [
    "Expected = np_utils.to_categorical(expected)\n",
    "personal_image_array = np.array([aa2,aa3,aa4,cc1,cc2,cc3,cc4,dd1,dd2,dd3,dd4,tt1,tt2])\n",
    "pred = model1.predict(personal_image_array)"
   ]
  },
  {
   "cell_type": "code",
   "execution_count": null,
   "id": "f6667cb4",
   "metadata": {},
   "outputs": [],
   "source": [
    "threshold = 0.5\n",
    "\n",
    "correct_rate, expected_y, Index_missed, Expect_missed, Predict_missed, Score_at_expect, Score_at_predict\\\n",
    "=get_ANN_accuracy(pred, Expected, threshold)\n",
    "# print(correct_rate)"
   ]
  },
  {
   "cell_type": "code",
   "execution_count": null,
   "id": "a7880cdc",
   "metadata": {},
   "outputs": [],
   "source": [
    "print(Index_missed, Expect_missed, Predict_missed, Score_at_expect, Score_at_predict)"
   ]
  },
  {
   "cell_type": "code",
   "execution_count": null,
   "id": "8671ecdc",
   "metadata": {},
   "outputs": [],
   "source": [
    "print(class_name)"
   ]
  },
  {
   "cell_type": "code",
   "execution_count": null,
   "id": "c02cd048",
   "metadata": {},
   "outputs": [],
   "source": [
    "plt.figure(figsize=(30,8))\n",
    "j = 0\n",
    "for i in Index_missed:\n",
    "    ax = plt.subplot(1, 5, j+1)\n",
    "    plt.imshow(personal_image_array[i])\n",
    "    \n",
    "    plt.title(class_name[Expect_missed[j]] + \" \" + str(int(Score_at_expect[j]*100)), fontsize = 20)\n",
    "    plt.xlabel(class_name[Predict_missed[j]] + \" \" + str(int(Score_at_predict[j]*100)), fontsize = 20)\n",
    "    \n",
    "    j = j+1\n",
    "plt.show()"
   ]
  },
  {
   "cell_type": "markdown",
   "id": "8238066b",
   "metadata": {},
   "source": [
    "## 8.4 Test with the model with original 45000 training images"
   ]
  },
  {
   "cell_type": "code",
   "execution_count": null,
   "id": "16e8f217",
   "metadata": {},
   "outputs": [],
   "source": [
    "Expected = np_utils.to_categorical(expected)\n",
    "personal_image_array = np.array([aa2,aa3,aa4,cc1,cc2,cc3,cc4,dd1,dd2,dd3,dd4,tt1,tt2])\n",
    "pred = model1.predict(personal_image_array)\n",
    "\n",
    "threshold = 0.5\n",
    "\n",
    "correct_rate, expected_y, Index_missed, Expect_missed, Predict_missed, Score_at_expect, Score_at_predict\\\n",
    "=get_ANN_accuracy(pred, Expected, threshold)\n",
    "print(Index_missed, Expect_missed, Predict_missed, Score_at_expect, Score_at_predict)"
   ]
  },
  {
   "cell_type": "code",
   "execution_count": null,
   "id": "185aea90",
   "metadata": {},
   "outputs": [],
   "source": [
    "plt.figure(figsize=(30,8))\n",
    "j = 0\n",
    "for i in Index_missed:\n",
    "    ax = plt.subplot(1, 5, j+1)\n",
    "    plt.imshow(personal_image_array[i])\n",
    "    \n",
    "    plt.title(class_name[Expect_missed[j]] + \" \" + str(int(Score_at_expect[j]*100)), fontsize = 20)\n",
    "    plt.xlabel(class_name[Predict_missed[j]] + \" \" + str(int(Score_at_predict[j]*100)), fontsize = 20)\n",
    "    \n",
    "    j = j+1\n",
    "plt.show()"
   ]
  },
  {
   "cell_type": "code",
   "execution_count": null,
   "id": "7fe94682",
   "metadata": {},
   "outputs": [],
   "source": []
  }
 ],
 "metadata": {
  "kernelspec": {
   "display_name": "Python 3 (ipykernel)",
   "language": "python",
   "name": "python3"
  },
  "language_info": {
   "codemirror_mode": {
    "name": "ipython",
    "version": 3
   },
   "file_extension": ".py",
   "mimetype": "text/x-python",
   "name": "python",
   "nbconvert_exporter": "python",
   "pygments_lexer": "ipython3",
   "version": "3.9.13"
  }
 },
 "nbformat": 4,
 "nbformat_minor": 5
}
