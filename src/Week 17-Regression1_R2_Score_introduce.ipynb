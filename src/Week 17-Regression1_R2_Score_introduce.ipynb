{
 "cells": [
  {
   "cell_type": "code",
   "execution_count": 5,
   "id": "04d116d6",
   "metadata": {},
   "outputs": [],
   "source": [
    "import pandas as pd\n",
    "import numpy as np\n",
    "import matplotlib.pyplot as plt\n",
    "%matplotlib inline\n",
    "from sklearn.linear_model import LinearRegression\n",
    "from sklearn.metrics import r2_score"
   ]
  },
  {
   "cell_type": "markdown",
   "id": "f7d0f30e",
   "metadata": {},
   "source": [
    "## Get training and testing data "
   ]
  },
  {
   "cell_type": "code",
   "execution_count": 2,
   "id": "a7584c0e",
   "metadata": {},
   "outputs": [],
   "source": [
    "X_train = np.array([1.0, 2.0, 3.0, 4.0]).reshape(4,1)\n",
    "y_train = np.array([1.0, 2, 3, 4.0])\n",
    "\n",
    "X_test = np.array([1.15, 2.2, 2.9, 4.2]).reshape(-1,1)\n",
    "y_test = np.array([1.3, 2.1, 2.8, 4.4])\n",
    "\n",
    "X_bad = np.array([1.0, 2.0, 3.0, 4.0]).reshape(-1,1)\n",
    "y_bad = np.array([5, 4, 3, 2])"
   ]
  },
  {
   "cell_type": "code",
   "execution_count": 3,
   "id": "b47633b2",
   "metadata": {},
   "outputs": [
    {
     "name": "stdout",
     "output_type": "stream",
     "text": [
      "(4, 1) (4, 1)\n"
     ]
    }
   ],
   "source": [
    "print(X_train.shape, X_test.shape)"
   ]
  },
  {
   "cell_type": "code",
   "execution_count": 6,
   "id": "571935b4",
   "metadata": {
    "scrolled": true
   },
   "outputs": [
    {
     "data": {
      "text/plain": [
       "<matplotlib.collections.PathCollection at 0x28df8651eb0>"
      ]
     },
     "execution_count": 6,
     "metadata": {},
     "output_type": "execute_result"
    },
    {
     "data": {
      "image/png": "[encoded data removed]",
      "text/plain": [
       "<Figure size 900x600 with 1 Axes>"
      ]
     },
     "metadata": {},
     "output_type": "display_data"
    }
   ],
   "source": [
    "plt.figure(figsize=(9,6))\n",
    "plt.scatter(X_train, y_train, color='g', s=200)\n",
    "plt.scatter(X_test, y_test, color='b')\n",
    "plt.scatter(X_bad, y_bad, color='r')"
   ]
  },
  {
   "cell_type": "markdown",
   "id": "ed769437",
   "metadata": {},
   "source": [
    "## Build model"
   ]
  },
  {
   "cell_type": "code",
   "execution_count": 7,
   "id": "002fc567",
   "metadata": {},
   "outputs": [],
   "source": [
    "model = LinearRegression()"
   ]
  },
  {
   "cell_type": "markdown",
   "id": "3956a0ab",
   "metadata": {},
   "source": [
    "## Training"
   ]
  },
  {
   "cell_type": "code",
   "execution_count": 8,
   "id": "ec4237f9",
   "metadata": {},
   "outputs": [
    {
     "data": {
      "text/plain": [
       "LinearRegression()"
      ]
     },
     "execution_count": 8,
     "metadata": {},
     "output_type": "execute_result"
    }
   ],
   "source": [
    "model.fit(X_train, y_train)"
   ]
  },
  {
   "cell_type": "markdown",
   "id": "60e0919f",
   "metadata": {},
   "source": [
    "## Testing"
   ]
  },
  {
   "cell_type": "code",
   "execution_count": 9,
   "id": "ac9fe66b",
   "metadata": {},
   "outputs": [
    {
     "name": "stdout",
     "output_type": "stream",
     "text": [
      "1.0\n",
      "0.9841650671785028\n",
      "-3.8000000000000007\n"
     ]
    }
   ],
   "source": [
    "pred_train = model.predict(X_train)\n",
    "pred_test = model.predict(X_test)\n",
    "pred_bad = model.predict(X_bad)\n",
    "\n",
    "print(r2_score(y_train, pred_train))\n",
    "print(r2_score(y_test, pred_test))\n",
    "print(r2_score(y_bad, pred_bad))"
   ]
  },
  {
   "cell_type": "markdown",
   "id": "519e21ed",
   "metadata": {},
   "source": [
    "## calculate R2 score manually and with r2_score subroutine"
   ]
  },
  {
   "cell_type": "code",
   "execution_count": 11,
   "id": "bd334bcd",
   "metadata": {},
   "outputs": [
    {
     "name": "stdout",
     "output_type": "stream",
     "text": [
      "5.0\n",
      "1.1832913578315177e-30 0.08250000000000002 24.000000000000004\n",
      "my R2_score =  1.0 , RSS =  1.1832913578315177e-30 , manual R2 =  1.0\n",
      "my R2_score =  0.9841650671785028 , RSS =  0.08250000000000002 , manual R2 =  0.9835\n",
      "my R2_score =  -3.8000000000000007 , RSS =  24.000000000000004 , manual R2 =  -3.8000000000000007\n"
     ]
    }
   ],
   "source": [
    "BaseRSS_train = sum((y_train - y_train.mean())**2)\n",
    "print(BaseRSS_train)\n",
    "\n",
    "pred_train = model.predict(X_train)\n",
    "pred_test = model.predict(X_test)\n",
    "pred_bad = model.predict(X_bad)\n",
    "\n",
    "RSS_train = sum((y_train - pred_train)**2)\n",
    "RSS_test = sum((y_test - pred_test)**2)\n",
    "RSS_bad = sum((y_bad - pred_bad)**2)\n",
    "print(RSS_train, RSS_test, RSS_bad)\n",
    "\n",
    "score = r2_score(y_train, pred_train)\n",
    "RSS = sum((y_train - pred_train)**2)\n",
    "print(\"my R2_score = \", score, \", RSS = \", RSS, \", manual R2 = \", 1 - RSS/BaseRSS_train)\n",
    "\n",
    "score = r2_score(y_test, pred_test)\n",
    "RSS = sum((y_test - pred_test)**2)\n",
    "print(\"my R2_score = \", score, \", RSS = \", RSS, \", manual R2 = \", 1 - RSS/BaseRSS_train)\n",
    "\n",
    "score = r2_score(y_bad, pred_bad)\n",
    "RSS = sum((y_bad - pred_bad)**2)\n",
    "print(\"my R2_score = \", score, \", RSS = \", RSS, \", manual R2 = \", 1 - RSS/BaseRSS_train)"
   ]
  },
  {
   "cell_type": "code",
   "execution_count": null,
   "id": "16046f2c",
   "metadata": {},
   "outputs": [],
   "source": []
  }
 ],
 "metadata": {
  "kernelspec": {
   "display_name": "Python 3 (ipykernel)",
   "language": "python",
   "name": "python3"
  },
  "language_info": {
   "codemirror_mode": {
    "name": "ipython",
    "version": 3
   },
   "file_extension": ".py",
   "mimetype": "text/x-python",
   "name": "python",
   "nbconvert_exporter": "python",
   "pygments_lexer": "ipython3",
   "version": "3.9.13"
  }
 },
 "nbformat": 4,
 "nbformat_minor": 5
}
