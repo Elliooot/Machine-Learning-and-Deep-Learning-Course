{
 "cells": [
  {
   "cell_type": "code",
   "execution_count": 42,
   "id": "ce42f58a",
   "metadata": {},
   "outputs": [],
   "source": [
    "import pandas as pd"
   ]
  },
  {
   "attachments": {},
   "cell_type": "markdown",
   "id": "d17e72e7",
   "metadata": {},
   "source": [
    "# 1. Dataset subroutines"
   ]
  },
  {
   "cell_type": "code",
   "execution_count": 43,
   "id": "ed97a1da",
   "metadata": {},
   "outputs": [],
   "source": [
    "def get_bcw():\n",
    "    bcw = pd.read_csv(r\"C:\\Users\\user\\Downloads\\wdbc.data\")\n",
    "    names = ['id','malignant',\n",
    "         'nucleus_mean','nucleus_se','nucleus_worst',\n",
    "         'texture_mean','texture_se','texture_worst',\n",
    "         'perimeter_mean','perimeter_se','perimeter_worst',\n",
    "         'area_mean','area_se','area_worst',\n",
    "         'smoothness_mean','smoothness_se','smoothness_worst',\n",
    "         'compactness_mean','compactness_se','compactness_worst',\n",
    "         'concavity_mean','concavity_se','concavity_worst',\n",
    "         'concave points_mean','concave points_se','concave points_worst',\n",
    "         'symmetry_mean','symmetry_se','symmetry_worst',\n",
    "         'fractal_dimension_mean','fractal_dimension_se','fractal_dimension_worst']\n",
    "    bcw.columns = names\n",
    "    bcw['malignant'] = bcw['malignant'].map(lambda x: 0 if x == \"B\" else 1)\n",
    "    \n",
    "    y = bcw['malignant'].values\n",
    "    X = bcw.drop(columns = ['id','malignant']).values\n",
    "\n",
    "    from sklearn.preprocessing import StandardScaler\n",
    "    ss = StandardScaler()\n",
    "    X = ss.fit_transform(X)\n",
    "    \n",
    "    return X,y,bcw"
   ]
  },
  {
   "attachments": {},
   "cell_type": "markdown",
   "id": "02d6ad72",
   "metadata": {},
   "source": [
    "# 2. Get data"
   ]
  },
  {
   "cell_type": "code",
   "execution_count": 44,
   "id": "a32dd55d",
   "metadata": {},
   "outputs": [],
   "source": [
    "X, y, bcw = get_bcw()\n",
    "bcw.corr(method = 'pearson')"
   ]
  },
  {
   "attachments": {},
   "cell_type": "markdown",
   "id": "59707bf3",
   "metadata": {},
   "source": [
    "# 3. Split data into training and testing"
   ]
  },
  {
   "cell_type": "code",
   "execution_count": 45,
   "id": "7515b9e8",
   "metadata": {},
   "outputs": [
    {
     "name": "stdout",
     "output_type": "stream",
     "text": [
      "(568, 30)\n",
      "(568,)\n",
      "<class 'numpy.ndarray'>\n",
      "<class 'numpy.ndarray'>\n",
      "[[ 1.83208378e+00 -3.58327066e-01  1.68910604e+00  1.91039204e+00\n",
      "  -8.25265599e-01 -4.85497525e-01 -1.92782498e-02  5.55260627e-01\n",
      "   5.31483901e-03 -8.67816800e-01  5.05963626e-01 -8.76714218e-01\n",
      "   2.69993157e-01  7.50222795e-01 -6.05219502e-01 -6.91056440e-01\n",
      "  -4.39321760e-01  2.61196170e-01 -8.03655726e-01 -9.78316286e-02\n",
      "   1.81334949e+00 -3.71875005e-01  1.54506286e+00  1.89905416e+00\n",
      "  -3.73544235e-01 -4.28050835e-01 -1.43472404e-01  1.09526221e+00\n",
      "  -2.40443629e-01  2.85293867e-01]\n",
      " [-7.67116733e-01  2.50812921e-01 -5.90771580e-01 -7.62711066e-01\n",
      "   3.29055946e+00  3.43848324e+00  1.93087878e+00  1.46316975e+00\n",
      "   2.88126195e+00  4.93271431e+00  3.32284138e-01 -1.11337612e-01\n",
      "   2.93405140e-01 -2.85307329e-01  6.88746663e-01  2.74838289e+00\n",
      "   8.20450191e-01  1.11561810e+00  4.73604531e+00  2.04879091e+00\n",
      "  -2.78773200e-01  1.31689652e-01 -2.46823194e-01 -5.47952702e-01\n",
      "   3.39871097e+00  3.91826532e+00  1.99939759e+00  2.18809026e+00\n",
      "   6.08623563e+00  4.95045676e+00]\n",
      " [-4.74529134e-01 -8.41438090e-01 -3.85121013e-01 -5.03904403e-01\n",
      "   2.24307628e+00  1.26104287e+00  8.75648178e-01  8.33102072e-01\n",
      "   1.01281223e+00  1.90084485e+00 -2.51844577e-01 -5.93301843e-01\n",
      "  -3.18295194e-01 -2.86191453e-01  1.55839105e-01  4.48152978e-01\n",
      "   1.61232509e-01 -6.79265093e-02  1.36179868e-01  4.88367267e-01\n",
      "  -1.62544162e-01 -3.16466596e-01 -1.11377777e-01 -2.41437904e-01\n",
      "   2.05210359e+00  1.73519583e+00  1.27083141e+00  9.13378939e-01\n",
      "   1.76918829e+00  2.25068400e+00]]\n",
      "[1 1 1 1 1 0 1 1 1 0]\n"
     ]
    }
   ],
   "source": [
    "import numpy as np\n",
    "from sklearn.model_selection import train_test_split\n",
    "\n",
    "print(X.shape)\n",
    "print(y.shape)\n",
    "print(type(X))\n",
    "print(type(y))\n",
    "\n",
    "print(X[0:6:2])\n",
    "print(y[0:40:4])\n",
    "\n",
    "X_train, X_test, y_train, y_test = train_test_split(X, y, test_size = 0.25, random_state = 2018)"
   ]
  },
  {
   "cell_type": "code",
   "execution_count": 46,
   "id": "759723e5",
   "metadata": {},
   "outputs": [
    {
     "data": {
      "text/plain": [
       "(426, 30)"
      ]
     },
     "execution_count": 46,
     "metadata": {},
     "output_type": "execute_result"
    }
   ],
   "source": [
    "X_train.shape"
   ]
  },
  {
   "attachments": {},
   "cell_type": "markdown",
   "id": "1c3ef7c8",
   "metadata": {},
   "source": [
    "# 4. Build ML/DL Model (Model Specific)"
   ]
  },
  {
   "cell_type": "code",
   "execution_count": 47,
   "id": "9f9ef895",
   "metadata": {},
   "outputs": [],
   "source": [
    "# from sklearn.tree import DecisionTreeClassifier\n",
    "# model = DecisionTreeClassifier()\n",
    "\n",
    "# from sklearn.ensemble import RandomForestClassifier\n",
    "# model = RandomForestClassifier()\n",
    "\n",
    "# from sklearn.neighbors import KNeighborsClassifier\n",
    "# model = KNeighborsClassifier()\n",
    "\n",
    "from sklearn.svm import SVC\n",
    "model = SVC()\n"
   ]
  },
  {
   "attachments": {},
   "cell_type": "markdown",
   "id": "a4359ead",
   "metadata": {},
   "source": [
    "# 5. Model Training"
   ]
  },
  {
   "cell_type": "code",
   "execution_count": 48,
   "id": "6c379393",
   "metadata": {},
   "outputs": [
    {
     "data": {
      "text/html": [
       "<style>#sk-container-id-4 {color: black;background-color: white;}#sk-container-id-4 pre{padding: 0;}#sk-container-id-4 div.sk-toggleable {background-color: white;}#sk-container-id-4 label.sk-toggleable__label {cursor: pointer;display: block;width: 100%;margin-bottom: 0;padding: 0.3em;box-sizing: border-box;text-align: center;}#sk-container-id-4 label.sk-toggleable__label-arrow:before {content: \"▸\";float: left;margin-right: 0.25em;color: #696969;}#sk-container-id-4 label.sk-toggleable__label-arrow:hover:before {color: black;}#sk-container-id-4 div.sk-estimator:hover label.sk-toggleable__label-arrow:before {color: black;}#sk-container-id-4 div.sk-toggleable__content {max-height: 0;max-width: 0;overflow: hidden;text-align: left;background-color: #f0f8ff;}#sk-container-id-4 div.sk-toggleable__content pre {margin: 0.2em;color: black;border-radius: 0.25em;background-color: #f0f8ff;}#sk-container-id-4 input.sk-toggleable__control:checked~div.sk-toggleable__content {max-height: 200px;max-width: 100%;overflow: auto;}#sk-container-id-4 input.sk-toggleable__control:checked~label.sk-toggleable__label-arrow:before {content: \"▾\";}#sk-container-id-4 div.sk-estimator input.sk-toggleable__control:checked~label.sk-toggleable__label {background-color: #d4ebff;}#sk-container-id-4 div.sk-label input.sk-toggleable__control:checked~label.sk-toggleable__label {background-color: #d4ebff;}#sk-container-id-4 input.sk-hidden--visually {border: 0;clip: rect(1px 1px 1px 1px);clip: rect(1px, 1px, 1px, 1px);height: 1px;margin: -1px;overflow: hidden;padding: 0;position: absolute;width: 1px;}#sk-container-id-4 div.sk-estimator {font-family: monospace;background-color: #f0f8ff;border: 1px dotted black;border-radius: 0.25em;box-sizing: border-box;margin-bottom: 0.5em;}#sk-container-id-4 div.sk-estimator:hover {background-color: #d4ebff;}#sk-container-id-4 div.sk-parallel-item::after {content: \"\";width: 100%;border-bottom: 1px solid gray;flex-grow: 1;}#sk-container-id-4 div.sk-label:hover label.sk-toggleable__label {background-color: #d4ebff;}#sk-container-id-4 div.sk-serial::before {content: \"\";position: absolute;border-left: 1px solid gray;box-sizing: border-box;top: 0;bottom: 0;left: 50%;z-index: 0;}#sk-container-id-4 div.sk-serial {display: flex;flex-direction: column;align-items: center;background-color: white;padding-right: 0.2em;padding-left: 0.2em;position: relative;}#sk-container-id-4 div.sk-item {position: relative;z-index: 1;}#sk-container-id-4 div.sk-parallel {display: flex;align-items: stretch;justify-content: center;background-color: white;position: relative;}#sk-container-id-4 div.sk-item::before, #sk-container-id-4 div.sk-parallel-item::before {content: \"\";position: absolute;border-left: 1px solid gray;box-sizing: border-box;top: 0;bottom: 0;left: 50%;z-index: -1;}#sk-container-id-4 div.sk-parallel-item {display: flex;flex-direction: column;z-index: 1;position: relative;background-color: white;}#sk-container-id-4 div.sk-parallel-item:first-child::after {align-self: flex-end;width: 50%;}#sk-container-id-4 div.sk-parallel-item:last-child::after {align-self: flex-start;width: 50%;}#sk-container-id-4 div.sk-parallel-item:only-child::after {width: 0;}#sk-container-id-4 div.sk-dashed-wrapped {border: 1px dashed gray;margin: 0 0.4em 0.5em 0.4em;box-sizing: border-box;padding-bottom: 0.4em;background-color: white;}#sk-container-id-4 div.sk-label label {font-family: monospace;font-weight: bold;display: inline-block;line-height: 1.2em;}#sk-container-id-4 div.sk-label-container {text-align: center;}#sk-container-id-4 div.sk-container {/* jupyter's `normalize.less` sets `[hidden] { display: none; }` but bootstrap.min.css set `[hidden] { display: none !important; }` so we also need the `!important` here to be able to override the default hidden behavior on the sphinx rendered scikit-learn.org. See: https://github.com/scikit-learn/scikit-learn/issues/21755 */display: inline-block !important;position: relative;}#sk-container-id-4 div.sk-text-repr-fallback {display: none;}</style><div id=\"sk-container-id-4\" class=\"sk-top-container\"><div class=\"sk-text-repr-fallback\"><pre>SVC()</pre><b>In a Jupyter environment, please rerun this cell to show the HTML representation or trust the notebook. <br />On GitHub, the HTML representation is unable to render, please try loading this page with nbviewer.org.</b></div><div class=\"sk-container\" hidden><div class=\"sk-item\"><div class=\"sk-estimator sk-toggleable\"><input class=\"sk-toggleable__control sk-hidden--visually\" id=\"sk-estimator-id-4\" type=\"checkbox\" checked><label for=\"sk-estimator-id-4\" class=\"sk-toggleable__label sk-toggleable__label-arrow\">SVC</label><div class=\"sk-toggleable__content\"><pre>SVC()</pre></div></div></div></div></div>"
      ],
      "text/plain": [
       "SVC()"
      ]
     },
     "execution_count": 48,
     "metadata": {},
     "output_type": "execute_result"
    }
   ],
   "source": [
    "model.fit(X_train, y_train)"
   ]
  },
  {
   "attachments": {},
   "cell_type": "markdown",
   "id": "22573913",
   "metadata": {},
   "source": [
    "# 6. Testing"
   ]
  },
  {
   "cell_type": "code",
   "execution_count": 49,
   "id": "ea6d8b14",
   "metadata": {},
   "outputs": [],
   "source": [
    "pred = model.predict(X_test)"
   ]
  },
  {
   "cell_type": "code",
   "execution_count": 50,
   "id": "21927aab",
   "metadata": {},
   "outputs": [
    {
     "name": "stdout",
     "output_type": "stream",
     "text": [
      "[0 1 0 0 0 1 0 0 1 1 1 0 1 0 1 0 0 0 0 0 1 1 1 1 0 0 0 0 0 0 1 1 1 0 0 0 0\n",
      " 0 0 0 1 0 1 0 0 0 0 0 0 0 1 1 0 0 0 0 0 0 1 1 0 0 0 0 0 0 0 0 1 0 0 0 0 1\n",
      " 0 0 0 1 0 0 0 0 0 0 0 0 1 0 0 0 0 1 0 1 0 1 1 1 0 1 1 0 1 0 0 1 1 1 1 0 1\n",
      " 0 0 0 0 0 1 1 0 0 0 1 0 1 1 0 0 0 0 0 0 0 1 0 0 0 1 1 0 0 0 1]\n",
      "[0 1 0 0 0 1 0 0 1 1 1 0 1 0 1 0 0 0 0 0 1 1 1 1 0 0 0 0 0 0 1 1 1 0 0 0 0\n",
      " 0 0 0 1 0 1 0 0 0 0 0 0 0 1 1 0 0 0 0 0 0 1 1 0 0 0 0 0 0 0 0 1 0 0 0 0 0\n",
      " 0 0 0 1 0 0 0 0 0 0 0 0 1 0 0 0 0 1 0 1 0 1 1 1 0 1 1 0 1 0 0 1 1 1 1 0 1\n",
      " 0 0 0 0 0 1 1 0 0 0 1 0 1 1 0 0 0 0 0 0 0 1 0 0 0 1 1 0 0 0 1]\n"
     ]
    }
   ],
   "source": [
    "print(pred)\n",
    "print(y_test)"
   ]
  },
  {
   "attachments": {},
   "cell_type": "markdown",
   "id": "2e34756a",
   "metadata": {},
   "source": [
    "# 7. Evaluating the Results"
   ]
  },
  {
   "cell_type": "code",
   "execution_count": 51,
   "id": "daf7c621",
   "metadata": {},
   "outputs": [
    {
     "name": "stdout",
     "output_type": "stream",
     "text": [
      "[0 0 0 0 0 0 0 0 0 0 0 0 0 0 0 0 0 0 0 0 0 0 0 0 0 0 0 0 0 0 0 0 0 0 0 0 0\n",
      " 0 0 0 0 0 0 0 0 0 0 0 0 0 0 0 0 0 0 0 0 0 0 0 0 0 0 0 0 0 0 0 0 0 0 0 0 1\n",
      " 0 0 0 0 0 0 0 0 0 0 0 0 0 0 0 0 0 0 0 0 0 0 0 0 0 0 0 0 0 0 0 0 0 0 0 0 0\n",
      " 0 0 0 0 0 0 0 0 0 0 0 0 0 0 0 0 0 0 0 0 0 0 0 0 0 0 0 0 0 0 0]\n",
      "1\n"
     ]
    }
   ],
   "source": [
    "ans = abs(pred - y_test)\n",
    "print(ans)\n",
    "print(ans.sum())"
   ]
  },
  {
   "cell_type": "code",
   "execution_count": 52,
   "id": "9a914310",
   "metadata": {},
   "outputs": [
    {
     "data": {
      "text/plain": [
       "numpy.ndarray"
      ]
     },
     "execution_count": 52,
     "metadata": {},
     "output_type": "execute_result"
    }
   ],
   "source": [
    "type(pred)"
   ]
  },
  {
   "cell_type": "code",
   "execution_count": 53,
   "id": "f727c558",
   "metadata": {},
   "outputs": [
    {
     "name": "stdout",
     "output_type": "stream",
     "text": [
      "1\n"
     ]
    }
   ],
   "source": [
    "error_count = abs(ans).sum()\n",
    "print(error_count)"
   ]
  },
  {
   "cell_type": "code",
   "execution_count": 54,
   "id": "ad3f7fee",
   "metadata": {},
   "outputs": [
    {
     "name": "stdout",
     "output_type": "stream",
     "text": [
      "0.9929577464788732\n"
     ]
    }
   ],
   "source": [
    "accuracy = 1 - error_count / y_test.shape[0]\n",
    "print(accuracy)"
   ]
  }
 ],
 "metadata": {
  "kernelspec": {
   "display_name": "Python 3 (ipykernel)",
   "language": "python",
   "name": "python3"
  },
  "language_info": {
   "codemirror_mode": {
    "name": "ipython",
    "version": 3
   },
   "file_extension": ".py",
   "mimetype": "text/x-python",
   "name": "python",
   "nbconvert_exporter": "python",
   "pygments_lexer": "ipython3",
   "version": "3.11.3"
  }
 },
 "nbformat": 4,
 "nbformat_minor": 5
}
