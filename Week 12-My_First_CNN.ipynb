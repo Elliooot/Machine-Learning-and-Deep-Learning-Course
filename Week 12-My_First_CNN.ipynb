{
 "cells": [
  {
   "cell_type": "code",
   "execution_count": 1,
   "id": "71c15488",
   "metadata": {},
   "outputs": [],
   "source": [
    "import pandas as pd\n",
    "import numpy as np\n",
    "import matplotlib.pyplot as plt\n",
    "%matplotlib inline"
   ]
  },
  {
   "cell_type": "code",
   "execution_count": 2,
   "id": "8d17df7c",
   "metadata": {},
   "outputs": [],
   "source": [
    "from keras.utils import np_utils\n",
    "from keras.models import Sequential\n",
    "from keras.layers import Dense, Dropout, Flatten\n",
    "from tensorflow.keras.layers import Conv2D, MaxPooling2D"
   ]
  },
  {
   "cell_type": "code",
   "execution_count": 3,
   "id": "d089fff0",
   "metadata": {},
   "outputs": [],
   "source": [
    "import keras.datasets as datasets\n",
    "(X_train, y_train), (X_test, y_test) = datasets.cifar10.load_data()"
   ]
  },
  {
   "cell_type": "code",
   "execution_count": 4,
   "id": "46630412",
   "metadata": {},
   "outputs": [
    {
     "name": "stdout",
     "output_type": "stream",
     "text": [
      "(50000, 32, 32, 3)\n",
      "(50000, 1)\n",
      "(10000, 32, 32, 3)\n",
      "(10000, 1)\n"
     ]
    }
   ],
   "source": [
    "print(X_train.shape)\n",
    "print(y_train.shape)\n",
    "print(X_test.shape)\n",
    "print(y_test.shape)"
   ]
  },
  {
   "cell_type": "code",
   "execution_count": 5,
   "id": "14ce5d86",
   "metadata": {},
   "outputs": [],
   "source": [
    "X_Train4D=X_train.reshape(X_train.shape[0], 32, 32, 3).astype('float32')\n",
    "X_Test4D=X_test.reshape(X_test.shape[0], 32, 32, 3).astype('float32')"
   ]
  },
  {
   "cell_type": "code",
   "execution_count": 6,
   "id": "d7cb1e40",
   "metadata": {},
   "outputs": [
    {
     "data": {
      "text/plain": [
       "(50000, 32, 32, 3)"
      ]
     },
     "execution_count": 6,
     "metadata": {},
     "output_type": "execute_result"
    }
   ],
   "source": [
    "X_Train4D.shape"
   ]
  },
  {
   "cell_type": "code",
   "execution_count": 7,
   "id": "8b4caa31",
   "metadata": {},
   "outputs": [],
   "source": [
    "X_Train4D_normalize = X_Train4D / 255\n",
    "X_Test4D_normalize = X_Test4D / 255"
   ]
  },
  {
   "cell_type": "code",
   "execution_count": 8,
   "id": "9c333b3d",
   "metadata": {},
   "outputs": [],
   "source": [
    "y_TrainOneHot = np_utils.to_categorical(y_train)\n",
    "y_TestOneHot = np_utils.to_categorical(y_test)"
   ]
  },
  {
   "cell_type": "code",
   "execution_count": 9,
   "id": "2689ca46",
   "metadata": {},
   "outputs": [
    {
     "data": {
      "text/plain": [
       "array([[6],\n",
       "       [9],\n",
       "       [9],\n",
       "       ...,\n",
       "       [9],\n",
       "       [1],\n",
       "       [1]], dtype=uint8)"
      ]
     },
     "execution_count": 9,
     "metadata": {},
     "output_type": "execute_result"
    }
   ],
   "source": [
    "y_train"
   ]
  },
  {
   "cell_type": "code",
   "execution_count": 10,
   "id": "d38e95d7",
   "metadata": {},
   "outputs": [
    {
     "data": {
      "text/plain": [
       "array([[0., 0., 0., ..., 0., 0., 0.],\n",
       "       [0., 0., 0., ..., 0., 0., 1.],\n",
       "       [0., 0., 0., ..., 0., 0., 1.],\n",
       "       ...,\n",
       "       [0., 0., 0., ..., 0., 0., 1.],\n",
       "       [0., 1., 0., ..., 0., 0., 0.],\n",
       "       [0., 1., 0., ..., 0., 0., 0.]], dtype=float32)"
      ]
     },
     "execution_count": 10,
     "metadata": {},
     "output_type": "execute_result"
    }
   ],
   "source": [
    "y_TrainOneHot"
   ]
  },
  {
   "cell_type": "code",
   "execution_count": 11,
   "id": "7db89af1",
   "metadata": {},
   "outputs": [],
   "source": [
    "model = Sequential()"
   ]
  },
  {
   "cell_type": "code",
   "execution_count": 12,
   "id": "ade65c2c",
   "metadata": {
    "scrolled": true
   },
   "outputs": [],
   "source": [
    "model.add(Conv2D(filters=16, kernel_size=(5,5), padding='same', input_shape=(32,32,3), activation='relu'))\n",
    "model.add(MaxPooling2D(pool_size=(2, 2)))\n",
    "\n",
    "model.add(Conv2D(filters=36, kernel_size=(5,5), padding='same', activation='relu'))\n",
    "model.add(MaxPooling2D(pool_size=(2, 2)))\n",
    "\n",
    "model.add(Dropout(0.25))\n",
    "model.add(Flatten())\n",
    "model.add(Dense(128, activation='relu'))\n",
    "model.add(Dropout(0.5))\n",
    "model.add(Dense(10, activation='softmax'))"
   ]
  },
  {
   "cell_type": "code",
   "execution_count": 13,
   "id": "e3c032c0",
   "metadata": {},
   "outputs": [],
   "source": [
    "model.compile(loss='categorical_crossentropy', optimizer='adam', metrics=['accuracy'])"
   ]
  },
  {
   "cell_type": "code",
   "execution_count": 14,
   "id": "d9d7ad6e",
   "metadata": {},
   "outputs": [
    {
     "name": "stdout",
     "output_type": "stream",
     "text": [
      "Model: \"sequential\"\n",
      "_________________________________________________________________\n",
      " Layer (type)                Output Shape              Param #   \n",
      "=================================================================\n",
      " conv2d (Conv2D)             (None, 32, 32, 16)        1216      \n",
      "                                                                 \n",
      " max_pooling2d (MaxPooling2D  (None, 16, 16, 16)       0         \n",
      " )                                                               \n",
      "                                                                 \n",
      " conv2d_1 (Conv2D)           (None, 16, 16, 36)        14436     \n",
      "                                                                 \n",
      " max_pooling2d_1 (MaxPooling  (None, 8, 8, 36)         0         \n",
      " 2D)                                                             \n",
      "                                                                 \n",
      " dropout (Dropout)           (None, 8, 8, 36)          0         \n",
      "                                                                 \n",
      " flatten (Flatten)           (None, 2304)              0         \n",
      "                                                                 \n",
      " dense (Dense)               (None, 128)               295040    \n",
      "                                                                 \n",
      " dropout_1 (Dropout)         (None, 128)               0         \n",
      "                                                                 \n",
      " dense_1 (Dense)             (None, 10)                1290      \n",
      "                                                                 \n",
      "=================================================================\n",
      "Total params: 311,982\n",
      "Trainable params: 311,982\n",
      "Non-trainable params: 0\n",
      "_________________________________________________________________\n"
     ]
    }
   ],
   "source": [
    "model.summary()"
   ]
  },
  {
   "cell_type": "code",
   "execution_count": 15,
   "id": "7a73699c",
   "metadata": {
    "scrolled": true
   },
   "outputs": [
    {
     "name": "stdout",
     "output_type": "stream",
     "text": [
      "Epoch 1/20\n",
      "134/134 - 17s - loss: 1.8646 - accuracy: 0.3144 - val_loss: 1.5537 - val_accuracy: 0.4518 - 17s/epoch - 124ms/step\n",
      "Epoch 2/20\n",
      "134/134 - 16s - loss: 1.5587 - accuracy: 0.4372 - val_loss: 1.3794 - val_accuracy: 0.5210 - 16s/epoch - 116ms/step\n",
      "Epoch 3/20\n",
      "134/134 - 15s - loss: 1.4375 - accuracy: 0.4846 - val_loss: 1.2802 - val_accuracy: 0.5592 - 15s/epoch - 115ms/step\n",
      "Epoch 4/20\n",
      "134/134 - 14s - loss: 1.3492 - accuracy: 0.5180 - val_loss: 1.2039 - val_accuracy: 0.5849 - 14s/epoch - 107ms/step\n",
      "Epoch 5/20\n",
      "134/134 - 14s - loss: 1.2858 - accuracy: 0.5404 - val_loss: 1.1675 - val_accuracy: 0.5928 - 14s/epoch - 108ms/step\n",
      "Epoch 6/20\n",
      "134/134 - 14s - loss: 1.2366 - accuracy: 0.5605 - val_loss: 1.1231 - val_accuracy: 0.6073 - 14s/epoch - 107ms/step\n",
      "Epoch 7/20\n",
      "134/134 - 14s - loss: 1.1917 - accuracy: 0.5786 - val_loss: 1.1714 - val_accuracy: 0.5983 - 14s/epoch - 106ms/step\n",
      "Epoch 8/20\n",
      "134/134 - 14s - loss: 1.1602 - accuracy: 0.5889 - val_loss: 1.0534 - val_accuracy: 0.6361 - 14s/epoch - 107ms/step\n",
      "Epoch 9/20\n",
      "134/134 - 15s - loss: 1.1285 - accuracy: 0.6003 - val_loss: 1.0303 - val_accuracy: 0.6434 - 15s/epoch - 111ms/step\n",
      "Epoch 10/20\n",
      "134/134 - 14s - loss: 1.1003 - accuracy: 0.6128 - val_loss: 1.0225 - val_accuracy: 0.6435 - 14s/epoch - 102ms/step\n",
      "Epoch 11/20\n",
      "134/134 - 14s - loss: 1.0740 - accuracy: 0.6237 - val_loss: 0.9890 - val_accuracy: 0.6584 - 14s/epoch - 104ms/step\n",
      "Epoch 12/20\n",
      "134/134 - 14s - loss: 1.0471 - accuracy: 0.6332 - val_loss: 0.9624 - val_accuracy: 0.6690 - 14s/epoch - 103ms/step\n",
      "Epoch 13/20\n",
      "134/134 - 14s - loss: 1.0281 - accuracy: 0.6364 - val_loss: 0.9905 - val_accuracy: 0.6514 - 14s/epoch - 103ms/step\n",
      "Epoch 14/20\n",
      "134/134 - 14s - loss: 1.0138 - accuracy: 0.6443 - val_loss: 0.9644 - val_accuracy: 0.6647 - 14s/epoch - 104ms/step\n",
      "Epoch 15/20\n",
      "134/134 - 14s - loss: 0.9944 - accuracy: 0.6498 - val_loss: 0.9605 - val_accuracy: 0.6632 - 14s/epoch - 103ms/step\n",
      "Epoch 16/20\n",
      "134/134 - 14s - loss: 0.9679 - accuracy: 0.6582 - val_loss: 0.9341 - val_accuracy: 0.6695 - 14s/epoch - 105ms/step\n",
      "Epoch 17/20\n",
      "134/134 - 15s - loss: 0.9585 - accuracy: 0.6632 - val_loss: 0.9090 - val_accuracy: 0.6803 - 15s/epoch - 110ms/step\n",
      "Epoch 18/20\n",
      "134/134 - 14s - loss: 0.9397 - accuracy: 0.6689 - val_loss: 0.8974 - val_accuracy: 0.6847 - 14s/epoch - 106ms/step\n",
      "Epoch 19/20\n",
      "134/134 - 14s - loss: 0.9204 - accuracy: 0.6749 - val_loss: 0.8837 - val_accuracy: 0.6921 - 14s/epoch - 103ms/step\n",
      "Epoch 20/20\n",
      "134/134 - 14s - loss: 0.9061 - accuracy: 0.6810 - val_loss: 0.8873 - val_accuracy: 0.6938 - 14s/epoch - 105ms/step\n"
     ]
    },
    {
     "data": {
      "text/plain": [
       "<keras.callbacks.History at 0x25fc04c0e50>"
      ]
     },
     "execution_count": 15,
     "metadata": {},
     "output_type": "execute_result"
    }
   ],
   "source": [
    "model.fit(x = X_Train4D_normalize, y = y_TrainOneHot, validation_split=0.2, epochs=20, batch_size=300, verbose=2)"
   ]
  },
  {
   "cell_type": "code",
   "execution_count": 16,
   "id": "d4740b7f",
   "metadata": {
    "scrolled": true
   },
   "outputs": [
    {
     "name": "stdout",
     "output_type": "stream",
     "text": [
      "313/313 [==============================] - 1s 4ms/step - loss: 0.8957 - accuracy: 0.6905\n"
     ]
    },
    {
     "data": {
      "text/plain": [
       "0.690500020980835"
      ]
     },
     "execution_count": 16,
     "metadata": {},
     "output_type": "execute_result"
    }
   ],
   "source": [
    "scores = model.evaluate(X_Test4D_normalize , y_TestOneHot)\n",
    "scores[1]"
   ]
  },
  {
   "cell_type": "code",
   "execution_count": 17,
   "id": "5d14e91b",
   "metadata": {},
   "outputs": [
    {
     "name": "stdout",
     "output_type": "stream",
     "text": [
      "313/313 [==============================] - 2s 5ms/step\n"
     ]
    }
   ],
   "source": [
    "predict_x=model.predict(X_Test4D_normalize) \n",
    "classes_x=np.argmax(predict_x,axis=1)\n",
    "prediction = classes_x"
   ]
  },
  {
   "cell_type": "code",
   "execution_count": 18,
   "id": "f7b5ef3a",
   "metadata": {},
   "outputs": [],
   "source": [
    "def plot_images_labels_prediction(images,labels,prediction,idx,num=10):\n",
    "    fig = plt.gcf()\n",
    "    fig.set_size_inches(12, 14)\n",
    "    if num>25: num=25 \n",
    "    for i in range(0, num):\n",
    "        ax=plt.subplot(5,5, 1+i)\n",
    "        ax.imshow(images[idx], cmap='binary')\n",
    "\n",
    "        ax.set_title(\"label=\" +str(labels[idx])+\n",
    "                     \",predict=\"+str(prediction[idx])\n",
    "                     ,fontsize=10) \n",
    "        \n",
    "        ax.set_xticks([]);ax.set_yticks([])        \n",
    "        idx+=1\n",
    "        if idx >= len(images):\n",
    "            break\n",
    "    plt.show()"
   ]
  },
  {
   "cell_type": "code",
   "execution_count": 19,
   "id": "62f4481e",
   "metadata": {
    "scrolled": true
   },
   "outputs": [
    {
     "data": {
      "image/png": "[encoded data removed]",
      "text/plain": [
       "<Figure size 1200x1400 with 10 Axes>"
      ]
     },
     "metadata": {},
     "output_type": "display_data"
    }
   ],
   "source": [
    "plot_images_labels_prediction(X_test,y_test,prediction,idx=0)"
   ]
  },
  {
   "cell_type": "code",
   "execution_count": null,
   "id": "356c097f",
   "metadata": {},
   "outputs": [],
   "source": []
  }
 ],
 "metadata": {
  "kernelspec": {
   "display_name": "Python 3 (ipykernel)",
   "language": "python",
   "name": "python3"
  },
  "language_info": {
   "codemirror_mode": {
    "name": "ipython",
    "version": 3
   },
   "file_extension": ".py",
   "mimetype": "text/x-python",
   "name": "python",
   "nbconvert_exporter": "python",
   "pygments_lexer": "ipython3",
   "version": "3.11.3"
  }
 },
 "nbformat": 4,
 "nbformat_minor": 5
}
