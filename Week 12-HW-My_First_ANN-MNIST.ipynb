{
 "cells": [
  {
   "cell_type": "code",
   "execution_count": 1,
   "id": "6f95c0e3",
   "metadata": {},
   "outputs": [],
   "source": [
    "import pandas as pd\n",
    "import numpy as np\n",
    "import matplotlib.pyplot as plt\n",
    "%matplotlib inline\n",
    "import time"
   ]
  },
  {
   "cell_type": "code",
   "execution_count": 2,
   "id": "e5aa778c",
   "metadata": {},
   "outputs": [],
   "source": [
    "from keras.utils import np_utils\n",
    "from keras.models import Sequential\n",
    "from keras.layers import Dense"
   ]
  },
  {
   "cell_type": "markdown",
   "id": "be35a730",
   "metadata": {},
   "source": [
    "# 1. Get data"
   ]
  },
  {
   "cell_type": "code",
   "execution_count": 3,
   "id": "079594b0",
   "metadata": {},
   "outputs": [],
   "source": [
    "train = pd.read_csv(r\"C:\\Users\\Laptop\\Downloads\\digit-recognizer\\train.csv\")\n",
    "# test = pd.read_csv(r\"C:\\Users\\Laptop\\Downloads\\digit-recognizer\\test.csv\")\n",
    "# X_train = train.drop('label', axis=1)\n",
    "# X_train = X_train.to_numpy()\n",
    "X_train = train[train.columns[1:,]]\n",
    "y_train = train['label']\n",
    "# y_train = y_train.to_numpy()\n",
    "# test = test.to_numpy()\n",
    "# print(X_train.shape)\n",
    "# print(y_train.shape)\n",
    "# print(test.shape)\n",
    "# print(type(X_array))\n",
    "# print(type(test))"
   ]
  },
  {
   "cell_type": "code",
   "execution_count": 4,
   "id": "9a23caea",
   "metadata": {},
   "outputs": [],
   "source": [
    "y_array = train['label'].values\n",
    "X_array = train[train.columns[1:,]]"
   ]
  },
  {
   "cell_type": "code",
   "execution_count": 5,
   "id": "adcdf587",
   "metadata": {},
   "outputs": [
    {
     "name": "stdout",
     "output_type": "stream",
     "text": [
      "<class 'numpy.ndarray'> <class 'pandas.core.frame.DataFrame'>\n"
     ]
    }
   ],
   "source": [
    "print(type(y_array), type(X_array))"
   ]
  },
  {
   "cell_type": "code",
   "execution_count": 6,
   "id": "16756c24",
   "metadata": {},
   "outputs": [
    {
     "name": "stdout",
     "output_type": "stream",
     "text": [
      "(42000,) (42000, 784)\n"
     ]
    }
   ],
   "source": [
    "print(y_array.shape, X_array.shape)"
   ]
  },
  {
   "cell_type": "code",
   "execution_count": 7,
   "id": "52573899",
   "metadata": {},
   "outputs": [
    {
     "data": {
      "text/plain": [
       "array([[  0,   0,   0,   0,   0,   0,   0,   0,   0,   0,   0,   0,   0,\n",
       "          0,   0,   0,   0,   0,   0,   0,   0,   0,   0,   0,   0,   0,\n",
       "          0,   0],\n",
       "       [  0,   0,   0,   0,   0,   0,   0,   0,   0,   0,   0,   0,   0,\n",
       "          0,   0,   0,   0,   0,   0,   0,   0,   0,   0,   0,   0,   0,\n",
       "          0,   0],\n",
       "       [  0,   0,   0,   0,   0,   0,   0,   0,   0,   0,   0,   0,   0,\n",
       "          0,   0,   0,   0,   0,   0,   0,   0,   0,   0,   0,   0,   0,\n",
       "          0,   0],\n",
       "       [  0,   0,   0,   0,   0,   0,   0,   0,   0,   0,   0,   0,   0,\n",
       "          0,   0,   0,   0,   0,   0,   0,   0,   0,   0,   0,   0,   0,\n",
       "          0,   0],\n",
       "       [  0,   0,   0,   0,   0,   0,   0,   0,   0,   0,   0,   0,   0,\n",
       "          0,   0,   0,   0,   0,   0,   0, 188, 255,  94,   0,   0,   0,\n",
       "          0,   0],\n",
       "       [  0,   0,   0,   0,   0,   0,   0,   0,   0,   0,   0,   0,   0,\n",
       "          0,   0,   0,   0,   0,   0, 191, 250, 253,  93,   0,   0,   0,\n",
       "          0,   0],\n",
       "       [  0,   0,   0,   0,   0,   0,   0,   0,   0,   0,   0,   0,   0,\n",
       "          0,   0,   0,   0,   0, 123, 248, 253, 167,  10,   0,   0,   0,\n",
       "          0,   0],\n",
       "       [  0,   0,   0,   0,   0,   0,   0,   0,   0,   0,   0,   0,   0,\n",
       "          0,   0,   0,   0,  80, 247, 253, 208,  13,   0,   0,   0,   0,\n",
       "          0,   0],\n",
       "       [  0,   0,   0,   0,   0,   0,   0,   0,   0,   0,   0,   0,   0,\n",
       "          0,   0,   0,  29, 207, 253, 235,  77,   0,   0,   0,   0,   0,\n",
       "          0,   0],\n",
       "       [  0,   0,   0,   0,   0,   0,   0,   0,   0,   0,   0,   0,   0,\n",
       "          0,   0,  54, 209, 253, 253,  88,   0,   0,   0,   0,   0,   0,\n",
       "          0,   0],\n",
       "       [  0,   0,   0,   0,   0,   0,   0,   0,   0,   0,   0,   0,   0,\n",
       "          0,  93, 254, 253, 238, 170,  17,   0,   0,   0,   0,   0,   0,\n",
       "          0,   0],\n",
       "       [  0,   0,   0,   0,   0,   0,   0,   0,   0,   0,   0,   0,   0,\n",
       "         23, 210, 254, 253, 159,   0,   0,   0,   0,   0,   0,   0,   0,\n",
       "          0,   0],\n",
       "       [  0,   0,   0,   0,   0,   0,   0,   0,   0,   0,   0,   0,  16,\n",
       "        209, 253, 254, 240,  81,   0,   0,   0,   0,   0,   0,   0,   0,\n",
       "          0,   0],\n",
       "       [  0,   0,   0,   0,   0,   0,   0,   0,   0,   0,   0,   0,  27,\n",
       "        253, 253, 254,  13,   0,   0,   0,   0,   0,   0,   0,   0,   0,\n",
       "          0,   0],\n",
       "       [  0,   0,   0,   0,   0,   0,   0,   0,   0,   0,   0,  20, 206,\n",
       "        254, 254, 198,   7,   0,   0,   0,   0,   0,   0,   0,   0,   0,\n",
       "          0,   0],\n",
       "       [  0,   0,   0,   0,   0,   0,   0,   0,   0,   0,   0, 168, 253,\n",
       "        253, 196,   7,   0,   0,   0,   0,   0,   0,   0,   0,   0,   0,\n",
       "          0,   0],\n",
       "       [  0,   0,   0,   0,   0,   0,   0,   0,   0,   0,  20, 203, 253,\n",
       "        248,  76,   0,   0,   0,   0,   0,   0,   0,   0,   0,   0,   0,\n",
       "          0,   0],\n",
       "       [  0,   0,   0,   0,   0,   0,   0,   0,   0,  22, 188, 253, 245,\n",
       "         93,   0,   0,   0,   0,   0,   0,   0,   0,   0,   0,   0,   0,\n",
       "          0,   0],\n",
       "       [  0,   0,   0,   0,   0,   0,   0,   0,   0, 103, 253, 253, 191,\n",
       "          0,   0,   0,   0,   0,   0,   0,   0,   0,   0,   0,   0,   0,\n",
       "          0,   0],\n",
       "       [  0,   0,   0,   0,   0,   0,   0,   0,  89, 240, 253, 195,  25,\n",
       "          0,   0,   0,   0,   0,   0,   0,   0,   0,   0,   0,   0,   0,\n",
       "          0,   0],\n",
       "       [  0,   0,   0,   0,   0,   0,   0,  15, 220, 253, 253,  80,   0,\n",
       "          0,   0,   0,   0,   0,   0,   0,   0,   0,   0,   0,   0,   0,\n",
       "          0,   0],\n",
       "       [  0,   0,   0,   0,   0,   0,   0,  94, 253, 253, 253,  94,   0,\n",
       "          0,   0,   0,   0,   0,   0,   0,   0,   0,   0,   0,   0,   0,\n",
       "          0,   0],\n",
       "       [  0,   0,   0,   0,   0,   0,   0,  89, 251, 253, 250, 131,   0,\n",
       "          0,   0,   0,   0,   0,   0,   0,   0,   0,   0,   0,   0,   0,\n",
       "          0,   0],\n",
       "       [  0,   0,   0,   0,   0,   0,   0,   0, 214, 218,  95,   0,   0,\n",
       "          0,   0,   0,   0,   0,   0,   0,   0,   0,   0,   0,   0,   0,\n",
       "          0,   0],\n",
       "       [  0,   0,   0,   0,   0,   0,   0,   0,   0,   0,   0,   0,   0,\n",
       "          0,   0,   0,   0,   0,   0,   0,   0,   0,   0,   0,   0,   0,\n",
       "          0,   0],\n",
       "       [  0,   0,   0,   0,   0,   0,   0,   0,   0,   0,   0,   0,   0,\n",
       "          0,   0,   0,   0,   0,   0,   0,   0,   0,   0,   0,   0,   0,\n",
       "          0,   0],\n",
       "       [  0,   0,   0,   0,   0,   0,   0,   0,   0,   0,   0,   0,   0,\n",
       "          0,   0,   0,   0,   0,   0,   0,   0,   0,   0,   0,   0,   0,\n",
       "          0,   0],\n",
       "       [  0,   0,   0,   0,   0,   0,   0,   0,   0,   0,   0,   0,   0,\n",
       "          0,   0,   0,   0,   0,   0,   0,   0,   0,   0,   0,   0,   0,\n",
       "          0,   0]], dtype=int64)"
      ]
     },
     "execution_count": 7,
     "metadata": {},
     "output_type": "execute_result"
    }
   ],
   "source": [
    "X_array = np.array(X_train)\n",
    "X0 = X_array[0].reshape((28, 28))\n",
    "X0"
   ]
  },
  {
   "cell_type": "code",
   "execution_count": 8,
   "id": "48eb815a",
   "metadata": {},
   "outputs": [
    {
     "name": "stdout",
     "output_type": "stream",
     "text": [
      "[[  0   0   0   0   0   0   0   0   0   0   0   0   0   0   0   0   0   0]\n",
      " [  0   0   0   0   0   0   0   0   0   0   0   0   0   0   0   0   0   0]\n",
      " [  0   0   0   0   0   0   0   0   0   0   0   0   0   0   0   0   0   0]\n",
      " [  0   0   0   0   0   0   0   0   0   0   0   0   0   0   0   0   0   0]\n",
      " [  0   0   0   0   0   0   0   0   0   0   0   0   0   0   0   0   0   0]\n",
      " [  0   0   0   0   0   0   0   0   0   0   0   0   0   0   0   0   0   0]\n",
      " [  0   0   0   0   0   0   0   0   0  62 176 254 254 228  38   0   0   0]\n",
      " [  0   0   0   0   0   0   4  87 204 245 253 171 140 254 192   0   0   0]\n",
      " [  0   0   0   0  21 128 220 253 230 164 114  24  37 254 245 186   0   0]\n",
      " [  0   0  14 135 230 253 238 112  20   0   0 141 253 254 253 229  20   0]\n",
      " [  0  46 232 254 253 162  41   0   0   0   0  38 227 254 253 216   0   0]\n",
      " [ 50 234 254 234  78   0   0   0   0   0   0   0  92 255 254 159   0   0]\n",
      " [231 253 233  13   0   0   0   0   0   0   0  30 216 254 221  22   0   0]\n",
      " [253 237  23   0   0   0   0   0   0   0  77 213 253 243  73   0   0   0]\n",
      " [253 235   0   0   0   0   0   7  19 154 245 253 253 142   0   0   0   0]\n",
      " [253 241  91  92   7  79  98 207 254 253 253 253 188  26   0   0   0   0]\n",
      " [217 254 254 255 254 254 196 181  92 184 254 242  26   0   0   0   0   0]\n",
      " [ 22 108 108 173  89  18   4   0  62 239 253 130   0   0   0   0   0   0]\n",
      " [  0   0   0   0   0   0   0   0 176 253 208   8   0   0   0   0   0   0]\n",
      " [  0   0   0   0   0   0   0 111 254 253  88   0   0   0   0   0   0   0]\n",
      " [  0   0   0   0   0   0  46 232 254 181  11   0   0   0   0   0   0   0]\n",
      " [  0   0   0   0   0   0 200 254 255  50   0   0   0   0   0   0   0   0]\n",
      " [  0   0   0   0   0  54 249 253 134   2   0   0   0   0   0   0   0   0]\n",
      " [  0   0   0   0   0 172 253 253  46   0   0   0   0   0   0   0   0   0]\n",
      " [  0   0   0   0   0 217 253 181   0   0   0   0   0   0   0   0   0   0]\n",
      " [  0   0   0   0   0 217 253 129   0   0   0   0   0   0   0   0   0   0]\n",
      " [  0   0   0   0   0   0   0   0   0   0   0   0   0   0   0   0   0   0]\n",
      " [  0   0   0   0   0   0   0   0   0   0   0   0   0   0   0   0   0   0]]\n"
     ]
    },
    {
     "data": {
      "text/plain": [
       "<matplotlib.image.AxesImage at 0x2571b1f82b0>"
      ]
     },
     "execution_count": 8,
     "metadata": {},
     "output_type": "execute_result"
    },
    {
     "data": {
      "image/png": "[encoded data removed]",
      "text/plain": [
       "<Figure size 432x288 with 1 Axes>"
      ]
     },
     "metadata": {
      "needs_background": "light"
     },
     "output_type": "display_data"
    }
   ],
   "source": [
    "tmp_image = np.reshape(X_array[100], newshape = (28, 28))\n",
    "print(tmp_image[:, 6:24])\n",
    "plt.imshow(np.reshape(X_array[100], newshape = (28, 28)), cmap = 'binary')"
   ]
  },
  {
   "cell_type": "markdown",
   "id": "0f08f1d2",
   "metadata": {},
   "source": [
    "# 2. Split data into Training and Testing"
   ]
  },
  {
   "cell_type": "code",
   "execution_count": 9,
   "id": "bcb2d91e",
   "metadata": {},
   "outputs": [],
   "source": [
    "from sklearn.model_selection import train_test_split\n",
    "\n",
    "# print(X.shape)\n",
    "# print(y.shape)\n",
    "# print(type(X))\n",
    "# print(type(y))\n",
    "\n",
    "X_train, X_test, y_train, y_test = train_test_split(X_array, y_array, test_size = 0.5, random_state = 2018)"
   ]
  },
  {
   "cell_type": "code",
   "execution_count": 10,
   "id": "4f29a419",
   "metadata": {},
   "outputs": [
    {
     "data": {
      "text/plain": [
       "array([[0, 0, 0, ..., 0, 0, 0],\n",
       "       [0, 0, 0, ..., 0, 0, 0],\n",
       "       [0, 0, 0, ..., 0, 0, 0],\n",
       "       [0, 0, 0, ..., 0, 0, 0]], dtype=int64)"
      ]
     },
     "execution_count": 10,
     "metadata": {},
     "output_type": "execute_result"
    }
   ],
   "source": [
    "X_train[:20:6]"
   ]
  },
  {
   "cell_type": "code",
   "execution_count": 11,
   "id": "20b7019f",
   "metadata": {},
   "outputs": [
    {
     "name": "stdout",
     "output_type": "stream",
     "text": [
      "<class 'numpy.ndarray'> <class 'numpy.ndarray'> (21000,) (21000, 784)\n"
     ]
    }
   ],
   "source": [
    "print(type(y_train), type(X_train), y_train.shape, X_train.shape)"
   ]
  },
  {
   "cell_type": "code",
   "execution_count": 12,
   "id": "804b22c1",
   "metadata": {},
   "outputs": [
    {
     "name": "stdout",
     "output_type": "stream",
     "text": [
      "1.0\n",
      "0.8439523809523809\n"
     ]
    }
   ],
   "source": [
    "from sklearn.tree import DecisionTreeClassifier\n",
    "model = DecisionTreeClassifier()\n",
    "model.fit(X_train, y_train)\n",
    "pred_train = model.predict(X_train)\n",
    "print(model.score(X_train, y_train))\n",
    "pred_test = model.predict(X_test)\n",
    "print(model.score(X_test, y_test))"
   ]
  },
  {
   "cell_type": "code",
   "execution_count": 13,
   "id": "77f370d2",
   "metadata": {},
   "outputs": [],
   "source": [
    "#Finish"
   ]
  },
  {
   "cell_type": "code",
   "execution_count": null,
   "id": "80a35bd1",
   "metadata": {},
   "outputs": [],
   "source": [
    "print(X_train.shape)\n",
    "print(y_train.shape)\n",
    "print(test.shape)\n",
    "Y_train = np_utils.to_categorical(y_train)\n",
    "Y_test = np_utils.to_categorical(test, dtype=\"int32\")"
   ]
  },
  {
   "cell_type": "markdown",
   "id": "6285a023",
   "metadata": {},
   "source": [
    "# 3. Build ML/DL Model"
   ]
  },
  {
   "cell_type": "code",
   "execution_count": null,
   "id": "72d2162a",
   "metadata": {},
   "outputs": [],
   "source": [
    "model = Sequential()\n",
    "N_Features = X_train.shape[1]\n",
    "\n",
    "model.add(Dense(N_Features, activation = 'relu'))\n",
    "model.add(Dense(2, activation = 'softmax'))\n",
    "\n",
    "model.compile(optimizer = 'adam', loss = 'categorical_crossentropy', metrics = ['accuracy'])"
   ]
  },
  {
   "cell_type": "markdown",
   "id": "9c72247f",
   "metadata": {},
   "source": [
    "# 4. Training"
   ]
  },
  {
   "cell_type": "code",
   "execution_count": null,
   "id": "2277e103",
   "metadata": {
    "scrolled": true
   },
   "outputs": [],
   "source": [
    "start = time.time()\n",
    "model.fit(X_train, Y_train, epochs = 500)\n",
    "print('duration =', time.time() - start)"
   ]
  },
  {
   "cell_type": "code",
   "execution_count": null,
   "id": "a40f693a",
   "metadata": {},
   "outputs": [],
   "source": [
    "model.summary()"
   ]
  },
  {
   "cell_type": "markdown",
   "id": "5b32f26a",
   "metadata": {},
   "source": [
    "# 5. Testing"
   ]
  },
  {
   "cell_type": "code",
   "execution_count": null,
   "id": "2e21d6e1",
   "metadata": {},
   "outputs": [],
   "source": [
    "pred = model.predict(X_test)"
   ]
  },
  {
   "cell_type": "code",
   "execution_count": null,
   "id": "85887542",
   "metadata": {},
   "outputs": [],
   "source": [
    "pred[3].sum()"
   ]
  },
  {
   "cell_type": "code",
   "execution_count": null,
   "id": "e44dde2e",
   "metadata": {},
   "outputs": [],
   "source": [
    "pred[80].sum()"
   ]
  },
  {
   "cell_type": "code",
   "execution_count": null,
   "id": "1ab88f02",
   "metadata": {},
   "outputs": [],
   "source": [
    "pred[:30]"
   ]
  },
  {
   "cell_type": "markdown",
   "id": "ca663efc",
   "metadata": {},
   "source": [
    "# 6. Evaluate the Result"
   ]
  },
  {
   "cell_type": "code",
   "execution_count": null,
   "id": "df26e5e6",
   "metadata": {
    "scrolled": true
   },
   "outputs": [],
   "source": [
    "tmp = np.array([int(x < y) for [x, y] in pred])\n",
    "tmp"
   ]
  },
  {
   "cell_type": "code",
   "execution_count": null,
   "id": "2471237f",
   "metadata": {},
   "outputs": [],
   "source": [
    "y_test"
   ]
  },
  {
   "cell_type": "code",
   "execution_count": null,
   "id": "3decfddc",
   "metadata": {},
   "outputs": [],
   "source": [
    "1 - abs(tmp - y_test).sum() / y_test.shape[0]"
   ]
  },
  {
   "cell_type": "markdown",
   "id": "ec1e1656",
   "metadata": {},
   "source": [
    "# Inputing the Results into the Labels Column"
   ]
  },
  {
   "cell_type": "code",
   "execution_count": null,
   "id": "00fe890e",
   "metadata": {},
   "outputs": [],
   "source": [
    "submission = pd.read_csv(r\"C:\\Users\\Laptop\\Downloads\\digit-recognizer\\sample_submission.csv\")"
   ]
  },
  {
   "cell_type": "code",
   "execution_count": null,
   "id": "31115053",
   "metadata": {},
   "outputs": [],
   "source": [
    "submission.head()"
   ]
  },
  {
   "cell_type": "code",
   "execution_count": null,
   "id": "276c3f86",
   "metadata": {},
   "outputs": [],
   "source": [
    "submission['Label'] = results"
   ]
  },
  {
   "cell_type": "code",
   "execution_count": null,
   "id": "176de538",
   "metadata": {},
   "outputs": [],
   "source": [
    "submission.head()"
   ]
  },
  {
   "cell_type": "code",
   "execution_count": null,
   "id": "65c86b79",
   "metadata": {},
   "outputs": [],
   "source": [
    "submission.to_csv('/kaggle/working/submision.csv', index=False)"
   ]
  }
 ],
 "metadata": {
  "kernelspec": {
   "display_name": "Python 3 (ipykernel)",
   "language": "python",
   "name": "python3"
  },
  "language_info": {
   "codemirror_mode": {
    "name": "ipython",
    "version": 3
   },
   "file_extension": ".py",
   "mimetype": "text/x-python",
   "name": "python",
   "nbconvert_exporter": "python",
   "pygments_lexer": "ipython3",
   "version": "3.9.13"
  }
 },
 "nbformat": 4,
 "nbformat_minor": 5
}
