{
 "cells": [
  {
   "cell_type": "code",
   "execution_count": 1,
   "metadata": {
    "id": "4n-MlNsSaFE9"
   },
   "outputs": [],
   "source": [
    "import pandas as pd\n",
    "import numpy as np\n",
    "\n",
    "from sklearn.model_selection import train_test_split\n",
    "from sklearn.linear_model import LinearRegression, LogisticRegression\n",
    "\n",
    "from sklearn.metrics import confusion_matrix, f1_score, accuracy_score, recall_score, precision_score"
   ]
  },
  {
   "attachments": {},
   "cell_type": "markdown",
   "metadata": {
    "id": "OUtKEkN4aFFA"
   },
   "source": [
    "# 1. Some subroutines"
   ]
  },
  {
   "cell_type": "code",
   "execution_count": 12,
   "metadata": {
    "id": "2xuP4vJsaFFC"
   },
   "outputs": [],
   "source": [
    "def get_banking(non_numerical=0):\n",
    "    # https://www.kaggle.com/code/rashmiranu/banking-dataset-eda-and-binary-classification/notebook\n",
    "    mydata = pd.read_csv('~/Downloads/new_train.csv')\n",
    "    \n",
    "    mydata['y'] = mydata['y'].map(lambda x: 0 if x == \"no\" else 1)\n",
    "    mydata.rename({'y': 'label'}, axis = 1, inplace=True)\n",
    "    \n",
    "    if(non_numerical == 1):\n",
    "        mydata = pd.get_dummies(mydata)\n",
    "    else : \n",
    "        mydata = mydata[['age',  'duration', 'campaign', 'pdays', 'previous', 'label']]   \n",
    "     \n",
    "    X = mydata.drop(columns=['label']).values\n",
    "\n",
    "    from sklearn.preprocessing import StandardScaler\n",
    "    ss = StandardScaler()\n",
    "    X = ss.fit_transform(X)\n",
    "    \n",
    "    \n",
    "    y = mydata['label'].values\n",
    "    return X, y"
   ]
  },
  {
   "cell_type": "code",
   "execution_count": 13,
   "metadata": {
    "id": "JjZMtJXCaFFE",
    "outputId": "39e6c5ea-f2e2-4d69-a10b-e4fa0d865e72"
   },
   "outputs": [
    {
     "data": {
      "text/plain": [
       "(array([[ 0.86373877, -0.12019627,  0.52298128, ..., -0.34081462,\n",
       "          0.39944711, -0.18627755],\n",
       "        [-0.28972159, -0.2167318 , -0.20368791, ...,  2.93414647,\n",
       "         -2.50346033, -0.18627755],\n",
       "        [ 3.65126795,  3.43617293, -0.56702251, ..., -0.34081462,\n",
       "          0.39944711, -0.18627755],\n",
       "        ...,\n",
       "        [ 1.34434725, -0.49089273,  0.52298128, ..., -0.34081462,\n",
       "          0.39944711, -0.18627755],\n",
       "        [-1.05869515, -0.3596044 , -0.56702251, ..., -0.34081462,\n",
       "          0.39944711, -0.18627755],\n",
       "        [-0.48196498,  1.10387435,  0.15964669, ..., -0.34081462,\n",
       "          0.39944711, -0.18627755]]),\n",
       " array([0, 0, 1, ..., 0, 0, 0], dtype=int64))"
      ]
     },
     "execution_count": 13,
     "metadata": {},
     "output_type": "execute_result"
    }
   ],
   "source": [
    "get_banking(1)"
   ]
  },
  {
   "cell_type": "code",
   "execution_count": 14,
   "metadata": {
    "id": "m-X6BbSZaFFG"
   },
   "outputs": [],
   "source": [
    "def evaluate(pred, expect) :\n",
    "    ans = pred - expect\n",
    "    error_sum = ans.sum()\n",
    "    n_errors = abs(ans).sum()\n",
    "    accuracy = 1 - n_errors / expect.shape[0]\n",
    "    \n",
    "    return round(accuracy, 3) , n_errors, error_sum"
   ]
  },
  {
   "cell_type": "code",
   "execution_count": 15,
   "metadata": {
    "id": "2PiUHISCaFFH"
   },
   "outputs": [],
   "source": [
    "def evaluateConfusion(expect, pred) :\n",
    "    \n",
    "    ConfusionMatrix = confusion_matrix(expect, pred)\n",
    "    f1 = f1_score(expect, pred)\n",
    "    accuracy = accuracy_score(expect, pred)\n",
    "    recall = recall_score(expect, pred)\n",
    "    precision = precision_score(expect, pred)\n",
    "    \n",
    "    return f1, accuracy, recall, precision\n",
    "    \n",
    "#     return f1, accuracy, recall, precision, ConfusionMatrix"
   ]
  },
  {
   "cell_type": "code",
   "execution_count": null,
   "metadata": {
    "id": "1i0dg6plaFFI"
   },
   "outputs": [],
   "source": []
  },
  {
   "cell_type": "code",
   "execution_count": 16,
   "metadata": {
    "id": "KygG6AJMaFFJ",
    "outputId": "d11f9d4a-4f49-4029-d52f-db522669f730"
   },
   "outputs": [],
   "source": [
    "X, y = get_banking(1) # 0: before tranfer 1: after transfer\n",
    "X_train, X_test, y_train, y_test = train_test_split(X, y, test_size = 0.25)"
   ]
  },
  {
   "cell_type": "code",
   "execution_count": 17,
   "metadata": {
    "id": "Fn8h12GQaFFK",
    "outputId": "e5088fed-9698-4a47-d140-317aaee0623c"
   },
   "outputs": [],
   "source": [
    "# def runSub(default=1):\n",
    "#     get_datatype(1)   \n",
    "#     from sklearn.svm import SVC\n",
    "#     results = []\n",
    "#     if default :\n",
    "#         SVM = SVC(gamma='scale')\n",
    "#     else:\n",
    "#         SVM = SVC(gamma='scale', class_weight='balanced') # default:None, other: balanced\n",
    "#     model = SVM\n",
    "#     model.fit(X_train, y_train)\n",
    "#     pred = model.predict(X_test)\n",
    "#     results = results + [['SVM']  + list(evaluateConfusion(y_test, pred))]\n",
    "#     print(results)\n",
    "#     resultsDF = pd.DataFrame(results, columns = ['method', 'f1', 'accuracy', 'recall',  'precision'])\n",
    "#     return resultsDF"
   ]
  },
  {
   "cell_type": "code",
   "execution_count": 18,
   "metadata": {
    "scrolled": true
   },
   "outputs": [],
   "source": [
    "# runSub(default=1)"
   ]
  },
  {
   "cell_type": "code",
   "execution_count": 19,
   "metadata": {
    "scrolled": true
   },
   "outputs": [],
   "source": [
    "# runSub(default=0)"
   ]
  },
  {
   "cell_type": "code",
   "execution_count": 20,
   "metadata": {},
   "outputs": [],
   "source": [
    "#Accuracy = (TN+TP)/ALL\n",
    "#Recall = TP/(TP+FN)\n",
    "#Precision = TP/(TP+FP)\n",
    "#F1 Score = 2*(Precision*Recall)/(Precision+Recall)"
   ]
  },
  {
   "attachments": {},
   "cell_type": "markdown",
   "metadata": {
    "id": "M1cIA4FOaFFL"
   },
   "source": [
    "# 4. Collect results with Accuracy and Bias"
   ]
  },
  {
   "cell_type": "code",
   "execution_count": 21,
   "metadata": {
    "id": "hHAA-kcdaFFM"
   },
   "outputs": [],
   "source": [
    "def RunAll(X_train, X_test, y_train, y_test, default = 1) :\n",
    "    \n",
    "    # default: 1 for default class_weight (or default weights if KNN)\n",
    "    # default: 0 forclass_weight = balanced (or weights = 'distance' if KNN)\n",
    "        \n",
    "    results = []\n",
    "    \n",
    "    from sklearn.tree import DecisionTreeClassifier\n",
    "    if default :\n",
    "        DT = DecisionTreeClassifier()\n",
    "    else:\n",
    "        DT = DecisionTreeClassifier(class_weight='balanced') # default:None, other: balanced\n",
    "    model = DT\n",
    "    model.fit(X_train, y_train)\n",
    "    pred = model.predict(X_test)\n",
    "    results = results + [['DT', default ] + list( evaluate(pred, y_test))]\n",
    "    \n",
    "\n",
    "    from sklearn.ensemble import RandomForestClassifier\n",
    "    if default :\n",
    "        RF = RandomForestClassifier(n_estimators =50)\n",
    "    else:\n",
    "        RF = RandomForestClassifier(n_estimators =50, class_weight='balanced') # default:None, other: balanced    \n",
    "    model = RF\n",
    "    model.fit(X_train, y_train)\n",
    "    pred = model.predict(X_test)\n",
    "    results = results + [['RF', default] + list( evaluate(pred, y_test))]\n",
    "    \n",
    "        \n",
    "    from sklearn.neighbors import KNeighborsClassifier\n",
    "    if default :\n",
    "        KNN = KNeighborsClassifier()\n",
    "    else:\n",
    "        KNN = KNeighborsClassifier(weights = 'distance') # default:uniform, other: distance    \n",
    "    model = KNN\n",
    "    model.fit(X_train, y_train)\n",
    "    pred = model.predict(X_test)\n",
    "    results = results + [['KNN', default] + list( evaluate(pred, y_test))]\n",
    "    \n",
    "        \n",
    "    from sklearn.svm import SVC\n",
    "    if default :\n",
    "        SVM = SVC(gamma='scale')\n",
    "    else:\n",
    "        SVM = SVC(gamma='scale', class_weight='balanced') # default:None, other: balanced\n",
    "    model = SVM\n",
    "    model.fit(X_train, y_train)\n",
    "    pred = model.predict(X_test)\n",
    "    results = results + [['SVM', default ] + list( evaluate(pred, y_test))]\n",
    "    \n",
    "    from sklearn.linear_model import LogisticRegression\n",
    "    if default :\n",
    "        LogR = LogisticRegression(solver='lbfgs')\n",
    "    else:\n",
    "        LogR = LogisticRegression(solver='lbfgs', class_weight='balanced') # default:None, other: balanced\n",
    "    model = LogR\n",
    "    model.fit(X_train, y_train)\n",
    "    pred = model.predict(X_test)\n",
    "    results = results + [['LogR', default] + list( evaluate(pred, y_test))]\n",
    "\n",
    "\n",
    "    return results\n"
   ]
  },
  {
   "cell_type": "code",
   "execution_count": 22,
   "metadata": {
    "id": "qQOiFhEYaFFM",
    "scrolled": true
   },
   "outputs": [],
   "source": [
    "Default = RunAll(X_train, X_test, y_train, y_test, default = 1)"
   ]
  },
  {
   "cell_type": "code",
   "execution_count": 24,
   "metadata": {
    "id": "v6f3iNW6aFFN",
    "outputId": "68130c8c-fdc2-4509-fa9c-c8a2f95ba490",
    "scrolled": false
   },
   "outputs": [
    {
     "data": {
      "text/html": [
       "<div>\n",
       "<style scoped>\n",
       "    .dataframe tbody tr th:only-of-type {\n",
       "        vertical-align: middle;\n",
       "    }\n",
       "\n",
       "    .dataframe tbody tr th {\n",
       "        vertical-align: top;\n",
       "    }\n",
       "\n",
       "    .dataframe thead th {\n",
       "        text-align: right;\n",
       "    }\n",
       "</style>\n",
       "<table border=\"1\" class=\"dataframe\">\n",
       "  <thead>\n",
       "    <tr style=\"text-align: right;\">\n",
       "      <th></th>\n",
       "      <th>model</th>\n",
       "      <th>weight</th>\n",
       "      <th>accuracy</th>\n",
       "      <th>N_erros</th>\n",
       "      <th>bias</th>\n",
       "    </tr>\n",
       "  </thead>\n",
       "  <tbody>\n",
       "    <tr>\n",
       "      <th>0</th>\n",
       "      <td>DT</td>\n",
       "      <td>1</td>\n",
       "      <td>0.877</td>\n",
       "      <td>1016</td>\n",
       "      <td>2</td>\n",
       "    </tr>\n",
       "    <tr>\n",
       "      <th>1</th>\n",
       "      <td>RF</td>\n",
       "      <td>1</td>\n",
       "      <td>0.905</td>\n",
       "      <td>782</td>\n",
       "      <td>-414</td>\n",
       "    </tr>\n",
       "    <tr>\n",
       "      <th>2</th>\n",
       "      <td>KNN</td>\n",
       "      <td>1</td>\n",
       "      <td>0.892</td>\n",
       "      <td>892</td>\n",
       "      <td>-540</td>\n",
       "    </tr>\n",
       "    <tr>\n",
       "      <th>3</th>\n",
       "      <td>SVM</td>\n",
       "      <td>1</td>\n",
       "      <td>0.903</td>\n",
       "      <td>802</td>\n",
       "      <td>-526</td>\n",
       "    </tr>\n",
       "    <tr>\n",
       "      <th>4</th>\n",
       "      <td>LogR</td>\n",
       "      <td>1</td>\n",
       "      <td>0.907</td>\n",
       "      <td>763</td>\n",
       "      <td>-453</td>\n",
       "    </tr>\n",
       "  </tbody>\n",
       "</table>\n",
       "</div>"
      ],
      "text/plain": [
       "  model  weight  accuracy  N_erros  bias\n",
       "0    DT       1     0.877     1016     2\n",
       "1    RF       1     0.905      782  -414\n",
       "2   KNN       1     0.892      892  -540\n",
       "3   SVM       1     0.903      802  -526\n",
       "4  LogR       1     0.907      763  -453"
      ]
     },
     "execution_count": 24,
     "metadata": {},
     "output_type": "execute_result"
    }
   ],
   "source": [
    "DefaultDF = pd.DataFrame(Default, columns = ['model', 'weight', 'accuracy', 'N_erros', 'bias'])\n",
    "DefaultDF "
   ]
  },
  {
   "cell_type": "code",
   "execution_count": 25,
   "metadata": {
    "id": "MFqcwOPcaFFN",
    "outputId": "d0be3408-7415-4c6c-80e4-565e4c7b0746",
    "scrolled": true
   },
   "outputs": [
    {
     "data": {
      "text/html": [
       "<div>\n",
       "<style scoped>\n",
       "    .dataframe tbody tr th:only-of-type {\n",
       "        vertical-align: middle;\n",
       "    }\n",
       "\n",
       "    .dataframe tbody tr th {\n",
       "        vertical-align: top;\n",
       "    }\n",
       "\n",
       "    .dataframe thead th {\n",
       "        text-align: right;\n",
       "    }\n",
       "</style>\n",
       "<table border=\"1\" class=\"dataframe\">\n",
       "  <thead>\n",
       "    <tr style=\"text-align: right;\">\n",
       "      <th></th>\n",
       "      <th>model</th>\n",
       "      <th>weight</th>\n",
       "      <th>accuracy</th>\n",
       "      <th>N_erros</th>\n",
       "      <th>bias</th>\n",
       "    </tr>\n",
       "  </thead>\n",
       "  <tbody>\n",
       "    <tr>\n",
       "      <th>0</th>\n",
       "      <td>DT</td>\n",
       "      <td>0</td>\n",
       "      <td>0.876</td>\n",
       "      <td>1023</td>\n",
       "      <td>-55</td>\n",
       "    </tr>\n",
       "    <tr>\n",
       "      <th>1</th>\n",
       "      <td>RF</td>\n",
       "      <td>0</td>\n",
       "      <td>0.902</td>\n",
       "      <td>808</td>\n",
       "      <td>-508</td>\n",
       "    </tr>\n",
       "    <tr>\n",
       "      <th>2</th>\n",
       "      <td>KNN</td>\n",
       "      <td>0</td>\n",
       "      <td>0.893</td>\n",
       "      <td>884</td>\n",
       "      <td>-502</td>\n",
       "    </tr>\n",
       "    <tr>\n",
       "      <th>3</th>\n",
       "      <td>SVM</td>\n",
       "      <td>0</td>\n",
       "      <td>0.857</td>\n",
       "      <td>1180</td>\n",
       "      <td>870</td>\n",
       "    </tr>\n",
       "    <tr>\n",
       "      <th>4</th>\n",
       "      <td>LogR</td>\n",
       "      <td>0</td>\n",
       "      <td>0.856</td>\n",
       "      <td>1190</td>\n",
       "      <td>860</td>\n",
       "    </tr>\n",
       "  </tbody>\n",
       "</table>\n",
       "</div>"
      ],
      "text/plain": [
       "  model  weight  accuracy  N_erros  bias\n",
       "0    DT       0     0.876     1023   -55\n",
       "1    RF       0     0.902      808  -508\n",
       "2   KNN       0     0.893      884  -502\n",
       "3   SVM       0     0.857     1180   870\n",
       "4  LogR       0     0.856     1190   860"
      ]
     },
     "execution_count": 25,
     "metadata": {},
     "output_type": "execute_result"
    }
   ],
   "source": [
    "Weight = RunAll(X_train, X_test, y_train, y_test, default = 0)\n",
    "WeightDF =  pd.DataFrame(Weight, columns = ['model', 'weight', 'accuracy', 'N_erros', 'bias'])\n",
    "WeightDF"
   ]
  },
  {
   "attachments": {},
   "cell_type": "markdown",
   "metadata": {
    "id": "zZdHm-L1aFFO"
   },
   "source": [
    "## 5. Confusion Matrix\n",
    "-----\n"
   ]
  },
  {
   "cell_type": "code",
   "execution_count": 26,
   "metadata": {
    "id": "lKtIlM4RaFFO"
   },
   "outputs": [],
   "source": [
    "from sklearn.metrics import confusion_matrix, f1_score, accuracy_score, recall_score, \\\n",
    "precision_score"
   ]
  },
  {
   "cell_type": "code",
   "execution_count": 27,
   "metadata": {
    "id": "YRNmgYKlaFFP",
    "outputId": "66dbc2ca-e7ee-4d22-e6d0-f384a0e2a948"
   },
   "outputs": [
    {
     "data": {
      "text/plain": [
       "'Weight'"
      ]
     },
     "execution_count": 27,
     "metadata": {},
     "output_type": "execute_result"
    }
   ],
   "source": [
    "mydict = {1: 'No_Weight', 0: 'Weight'}\n",
    "mydict[0]"
   ]
  },
  {
   "cell_type": "code",
   "execution_count": 28,
   "metadata": {
    "id": "5uthbKZKaFFP"
   },
   "outputs": [],
   "source": [
    "def RunAllConfusion(X_train, X_test, y_train, y_test, Feature, default = 1) :\n",
    "    \n",
    "    # default: 1 for default class_weight (or default weights if KNN)\n",
    "    # default: 0 forclass_weight = balanced (or weights = 'distance' if KNN)\n",
    "    \n",
    "    mydict = {1: 'No_Weight', 0: 'Weight'}\n",
    "        \n",
    "    results = []\n",
    "    \n",
    "    from sklearn.tree import DecisionTreeClassifier\n",
    "    if default :\n",
    "        DT = DecisionTreeClassifier()\n",
    "    else:\n",
    "        DT = DecisionTreeClassifier(class_weight='balanced') # default:None, other: balanced\n",
    "    model = DT\n",
    "    model.fit(X_train, y_train)\n",
    "    pred = model.predict(X_test)\n",
    "    results = results + [['DT' ] + [mydict[default], Feature ] + list(evaluateConfusion(y_test, pred))]\n",
    "    \n",
    "\n",
    "    from sklearn.ensemble import RandomForestClassifier\n",
    "    if default :\n",
    "        RF = RandomForestClassifier(n_estimators =50)\n",
    "    else:\n",
    "        RF = RandomForestClassifier(n_estimators =50, class_weight='balanced') # default:None, other: balanced    \n",
    "    model = RF\n",
    "    model.fit(X_train, y_train)\n",
    "    pred = model.predict(X_test)\n",
    "    results = results + [['RF']  + [mydict[default], Feature ] + list(evaluateConfusion(y_test, pred))]\n",
    "    \n",
    "        \n",
    "    from sklearn.neighbors import KNeighborsClassifier\n",
    "    if default :\n",
    "        KNN = KNeighborsClassifier()\n",
    "    else:\n",
    "        KNN = KNeighborsClassifier(weights = 'distance') # default:uniform, other: distance    \n",
    "    model = KNN\n",
    "    model.fit(X_train, y_train)\n",
    "    pred = model.predict(X_test)\n",
    "    results = results + [['KNN']  + [mydict[default], Feature ] + list(evaluateConfusion(y_test, pred))]\n",
    "    \n",
    "        \n",
    "    from sklearn.svm import SVC\n",
    "    if default :\n",
    "        SVM = SVC(gamma='scale')\n",
    "    else:\n",
    "        SVM = SVC(gamma='scale', class_weight='balanced') # default:None, other: balanced\n",
    "    model = SVM\n",
    "    model.fit(X_train, y_train)\n",
    "    pred = model.predict(X_test)\n",
    "    results = results + [['SVM']  + [mydict[default], Feature ] + list(evaluateConfusion(y_test, pred))]\n",
    "    \n",
    "    from sklearn.linear_model import LogisticRegression\n",
    "    if default :\n",
    "        LogR = LogisticRegression(solver='lbfgs')\n",
    "    else:\n",
    "        LogR = LogisticRegression(solver='lbfgs', class_weight='balanced') # default:None, other: balanced\n",
    "    model = LogR\n",
    "    model.fit(X_train, y_train)\n",
    "    pred = model.predict(X_test)\n",
    "    results = results + [['LogR']  + [mydict[default], Feature ] + list(evaluateConfusion(y_test, pred))]\n",
    "\n",
    "\n",
    "    return results\n"
   ]
  },
  {
   "cell_type": "code",
   "execution_count": 29,
   "metadata": {
    "id": "WKJjE7I6aFFP",
    "scrolled": true
   },
   "outputs": [],
   "source": [
    "X, y = get_banking(0)\n",
    "X_train, X_test, y_train, y_test = train_test_split(X, y, test_size = 0.25)\n",
    "\n",
    "DefaultPF = RunAllConfusion(X_train, X_test, y_train, y_test, 'PartialFeature' , default = 1)\n",
    "WeightPF = RunAllConfusion(X_train, X_test, y_train, y_test , 'PartialFeature', default = 0)\n",
    "\n",
    "\n",
    "X, y = get_banking(1)\n",
    "X_train, X_test, y_train, y_test = train_test_split(X, y, test_size = 0.25) \n",
    "\n",
    "DefaultFF = RunAllConfusion(X_train, X_test, y_train, y_test , 'FullFeature', default = 1)\n",
    "WeightFF = RunAllConfusion(X_train, X_test, y_train, y_test, 'FullFeature', default = 0)\n"
   ]
  },
  {
   "cell_type": "code",
   "execution_count": 30,
   "metadata": {
    "id": "LNYI30OIaFFQ",
    "outputId": "1efb8409-5d33-4aea-db97-78f55703d173"
   },
   "outputs": [
    {
     "data": {
      "text/html": [
       "<div>\n",
       "<style scoped>\n",
       "    .dataframe tbody tr th:only-of-type {\n",
       "        vertical-align: middle;\n",
       "    }\n",
       "\n",
       "    .dataframe tbody tr th {\n",
       "        vertical-align: top;\n",
       "    }\n",
       "\n",
       "    .dataframe thead th {\n",
       "        text-align: right;\n",
       "    }\n",
       "</style>\n",
       "<table border=\"1\" class=\"dataframe\">\n",
       "  <thead>\n",
       "    <tr style=\"text-align: right;\">\n",
       "      <th></th>\n",
       "      <th>model</th>\n",
       "      <th>ClassWeight</th>\n",
       "      <th>FullOrPartFeatures</th>\n",
       "      <th>F1</th>\n",
       "      <th>Accuracy</th>\n",
       "      <th>Recall</th>\n",
       "      <th>Precision</th>\n",
       "    </tr>\n",
       "  </thead>\n",
       "  <tbody>\n",
       "    <tr>\n",
       "      <th>0</th>\n",
       "      <td>DT</td>\n",
       "      <td>Weight</td>\n",
       "      <td>FullFeature</td>\n",
       "      <td>0.432827</td>\n",
       "      <td>0.877519</td>\n",
       "      <td>0.441008</td>\n",
       "      <td>0.424945</td>\n",
       "    </tr>\n",
       "    <tr>\n",
       "      <th>1</th>\n",
       "      <td>RF</td>\n",
       "      <td>Weight</td>\n",
       "      <td>FullFeature</td>\n",
       "      <td>0.417417</td>\n",
       "      <td>0.905802</td>\n",
       "      <td>0.318442</td>\n",
       "      <td>0.605664</td>\n",
       "    </tr>\n",
       "    <tr>\n",
       "      <th>2</th>\n",
       "      <td>KNN</td>\n",
       "      <td>Weight</td>\n",
       "      <td>FullFeature</td>\n",
       "      <td>0.379360</td>\n",
       "      <td>0.896334</td>\n",
       "      <td>0.298969</td>\n",
       "      <td>0.518887</td>\n",
       "    </tr>\n",
       "    <tr>\n",
       "      <th>3</th>\n",
       "      <td>SVM</td>\n",
       "      <td>Weight</td>\n",
       "      <td>FullFeature</td>\n",
       "      <td>0.537514</td>\n",
       "      <td>0.849599</td>\n",
       "      <td>0.824742</td>\n",
       "      <td>0.398671</td>\n",
       "    </tr>\n",
       "    <tr>\n",
       "      <th>4</th>\n",
       "      <td>LogR</td>\n",
       "      <td>Weight</td>\n",
       "      <td>FullFeature</td>\n",
       "      <td>0.528230</td>\n",
       "      <td>0.848871</td>\n",
       "      <td>0.798396</td>\n",
       "      <td>0.394677</td>\n",
       "    </tr>\n",
       "    <tr>\n",
       "      <th>0</th>\n",
       "      <td>DT</td>\n",
       "      <td>Weight</td>\n",
       "      <td>PartialFeature</td>\n",
       "      <td>0.376623</td>\n",
       "      <td>0.860160</td>\n",
       "      <td>0.366316</td>\n",
       "      <td>0.387528</td>\n",
       "    </tr>\n",
       "    <tr>\n",
       "      <th>1</th>\n",
       "      <td>RF</td>\n",
       "      <td>Weight</td>\n",
       "      <td>PartialFeature</td>\n",
       "      <td>0.450790</td>\n",
       "      <td>0.890265</td>\n",
       "      <td>0.390526</td>\n",
       "      <td>0.533046</td>\n",
       "    </tr>\n",
       "    <tr>\n",
       "      <th>2</th>\n",
       "      <td>KNN</td>\n",
       "      <td>Weight</td>\n",
       "      <td>PartialFeature</td>\n",
       "      <td>0.448499</td>\n",
       "      <td>0.886259</td>\n",
       "      <td>0.401053</td>\n",
       "      <td>0.508678</td>\n",
       "    </tr>\n",
       "    <tr>\n",
       "      <th>3</th>\n",
       "      <td>SVM</td>\n",
       "      <td>Weight</td>\n",
       "      <td>PartialFeature</td>\n",
       "      <td>0.511547</td>\n",
       "      <td>0.830541</td>\n",
       "      <td>0.769474</td>\n",
       "      <td>0.383124</td>\n",
       "    </tr>\n",
       "    <tr>\n",
       "      <th>4</th>\n",
       "      <td>LogR</td>\n",
       "      <td>Weight</td>\n",
       "      <td>PartialFeature</td>\n",
       "      <td>0.503759</td>\n",
       "      <td>0.839767</td>\n",
       "      <td>0.705263</td>\n",
       "      <td>0.391813</td>\n",
       "    </tr>\n",
       "    <tr>\n",
       "      <th>0</th>\n",
       "      <td>DT</td>\n",
       "      <td>No_Weight</td>\n",
       "      <td>FullFeature</td>\n",
       "      <td>0.457766</td>\n",
       "      <td>0.879218</td>\n",
       "      <td>0.481100</td>\n",
       "      <td>0.436590</td>\n",
       "    </tr>\n",
       "    <tr>\n",
       "      <th>1</th>\n",
       "      <td>RF</td>\n",
       "      <td>No_Weight</td>\n",
       "      <td>FullFeature</td>\n",
       "      <td>0.481119</td>\n",
       "      <td>0.909930</td>\n",
       "      <td>0.394044</td>\n",
       "      <td>0.617594</td>\n",
       "    </tr>\n",
       "    <tr>\n",
       "      <th>2</th>\n",
       "      <td>KNN</td>\n",
       "      <td>No_Weight</td>\n",
       "      <td>FullFeature</td>\n",
       "      <td>0.367903</td>\n",
       "      <td>0.898640</td>\n",
       "      <td>0.278351</td>\n",
       "      <td>0.542411</td>\n",
       "    </tr>\n",
       "    <tr>\n",
       "      <th>3</th>\n",
       "      <td>SVM</td>\n",
       "      <td>No_Weight</td>\n",
       "      <td>FullFeature</td>\n",
       "      <td>0.423369</td>\n",
       "      <td>0.907745</td>\n",
       "      <td>0.319588</td>\n",
       "      <td>0.626966</td>\n",
       "    </tr>\n",
       "    <tr>\n",
       "      <th>4</th>\n",
       "      <td>LogR</td>\n",
       "      <td>No_Weight</td>\n",
       "      <td>FullFeature</td>\n",
       "      <td>0.458364</td>\n",
       "      <td>0.910779</td>\n",
       "      <td>0.356243</td>\n",
       "      <td>0.642562</td>\n",
       "    </tr>\n",
       "    <tr>\n",
       "      <th>0</th>\n",
       "      <td>DT</td>\n",
       "      <td>No_Weight</td>\n",
       "      <td>PartialFeature</td>\n",
       "      <td>0.393760</td>\n",
       "      <td>0.863195</td>\n",
       "      <td>0.385263</td>\n",
       "      <td>0.402640</td>\n",
       "    </tr>\n",
       "    <tr>\n",
       "      <th>1</th>\n",
       "      <td>RF</td>\n",
       "      <td>No_Weight</td>\n",
       "      <td>PartialFeature</td>\n",
       "      <td>0.455927</td>\n",
       "      <td>0.891357</td>\n",
       "      <td>0.394737</td>\n",
       "      <td>0.539568</td>\n",
       "    </tr>\n",
       "    <tr>\n",
       "      <th>2</th>\n",
       "      <td>KNN</td>\n",
       "      <td>No_Weight</td>\n",
       "      <td>PartialFeature</td>\n",
       "      <td>0.473516</td>\n",
       "      <td>0.899854</td>\n",
       "      <td>0.390526</td>\n",
       "      <td>0.601297</td>\n",
       "    </tr>\n",
       "    <tr>\n",
       "      <th>3</th>\n",
       "      <td>SVM</td>\n",
       "      <td>No_Weight</td>\n",
       "      <td>PartialFeature</td>\n",
       "      <td>0.452331</td>\n",
       "      <td>0.904467</td>\n",
       "      <td>0.342105</td>\n",
       "      <td>0.667351</td>\n",
       "    </tr>\n",
       "    <tr>\n",
       "      <th>4</th>\n",
       "      <td>LogR</td>\n",
       "      <td>No_Weight</td>\n",
       "      <td>PartialFeature</td>\n",
       "      <td>0.443509</td>\n",
       "      <td>0.903739</td>\n",
       "      <td>0.332632</td>\n",
       "      <td>0.665263</td>\n",
       "    </tr>\n",
       "  </tbody>\n",
       "</table>\n",
       "</div>"
      ],
      "text/plain": [
       "  model ClassWeight FullOrPartFeatures        F1  Accuracy    Recall  \\\n",
       "0    DT      Weight        FullFeature  0.432827  0.877519  0.441008   \n",
       "1    RF      Weight        FullFeature  0.417417  0.905802  0.318442   \n",
       "2   KNN      Weight        FullFeature  0.379360  0.896334  0.298969   \n",
       "3   SVM      Weight        FullFeature  0.537514  0.849599  0.824742   \n",
       "4  LogR      Weight        FullFeature  0.528230  0.848871  0.798396   \n",
       "0    DT      Weight     PartialFeature  0.376623  0.860160  0.366316   \n",
       "1    RF      Weight     PartialFeature  0.450790  0.890265  0.390526   \n",
       "2   KNN      Weight     PartialFeature  0.448499  0.886259  0.401053   \n",
       "3   SVM      Weight     PartialFeature  0.511547  0.830541  0.769474   \n",
       "4  LogR      Weight     PartialFeature  0.503759  0.839767  0.705263   \n",
       "0    DT   No_Weight        FullFeature  0.457766  0.879218  0.481100   \n",
       "1    RF   No_Weight        FullFeature  0.481119  0.909930  0.394044   \n",
       "2   KNN   No_Weight        FullFeature  0.367903  0.898640  0.278351   \n",
       "3   SVM   No_Weight        FullFeature  0.423369  0.907745  0.319588   \n",
       "4  LogR   No_Weight        FullFeature  0.458364  0.910779  0.356243   \n",
       "0    DT   No_Weight     PartialFeature  0.393760  0.863195  0.385263   \n",
       "1    RF   No_Weight     PartialFeature  0.455927  0.891357  0.394737   \n",
       "2   KNN   No_Weight     PartialFeature  0.473516  0.899854  0.390526   \n",
       "3   SVM   No_Weight     PartialFeature  0.452331  0.904467  0.342105   \n",
       "4  LogR   No_Weight     PartialFeature  0.443509  0.903739  0.332632   \n",
       "\n",
       "   Precision  \n",
       "0   0.424945  \n",
       "1   0.605664  \n",
       "2   0.518887  \n",
       "3   0.398671  \n",
       "4   0.394677  \n",
       "0   0.387528  \n",
       "1   0.533046  \n",
       "2   0.508678  \n",
       "3   0.383124  \n",
       "4   0.391813  \n",
       "0   0.436590  \n",
       "1   0.617594  \n",
       "2   0.542411  \n",
       "3   0.626966  \n",
       "4   0.642562  \n",
       "0   0.402640  \n",
       "1   0.539568  \n",
       "2   0.601297  \n",
       "3   0.667351  \n",
       "4   0.665263  "
      ]
     },
     "execution_count": 30,
     "metadata": {},
     "output_type": "execute_result"
    }
   ],
   "source": [
    "ResultsDF = pd.concat([pd.DataFrame(WeightFF), pd.DataFrame(WeightPF),  \\\n",
    "           pd.DataFrame(DefaultFF), pd.DataFrame(DefaultPF)])\n",
    "ResultsDF.columns = ['model', 'ClassWeight', 'FullOrPartFeatures', 'F1', 'Accuracy', 'Recall', 'Precision']\n",
    "ResultsDF"
   ]
  },
  {
   "cell_type": "code",
   "execution_count": 31,
   "metadata": {
    "id": "G6tD1_zhaFFQ",
    "outputId": "747c36f1-e70f-4b43-8c78-0f72f0592723"
   },
   "outputs": [
    {
     "data": {
      "text/html": [
       "<div>\n",
       "<style scoped>\n",
       "    .dataframe tbody tr th:only-of-type {\n",
       "        vertical-align: middle;\n",
       "    }\n",
       "\n",
       "    .dataframe tbody tr th {\n",
       "        vertical-align: top;\n",
       "    }\n",
       "\n",
       "    .dataframe thead th {\n",
       "        text-align: right;\n",
       "    }\n",
       "</style>\n",
       "<table border=\"1\" class=\"dataframe\">\n",
       "  <thead>\n",
       "    <tr style=\"text-align: right;\">\n",
       "      <th></th>\n",
       "      <th>model</th>\n",
       "      <th>ClassWeight</th>\n",
       "      <th>FullOrPartFeatures</th>\n",
       "      <th>F1</th>\n",
       "      <th>Accuracy</th>\n",
       "      <th>Recall</th>\n",
       "      <th>Precision</th>\n",
       "    </tr>\n",
       "  </thead>\n",
       "  <tbody>\n",
       "    <tr>\n",
       "      <th>3</th>\n",
       "      <td>SVM</td>\n",
       "      <td>Weight</td>\n",
       "      <td>FullFeature</td>\n",
       "      <td>0.537514</td>\n",
       "      <td>0.849599</td>\n",
       "      <td>0.824742</td>\n",
       "      <td>0.398671</td>\n",
       "    </tr>\n",
       "    <tr>\n",
       "      <th>4</th>\n",
       "      <td>LogR</td>\n",
       "      <td>Weight</td>\n",
       "      <td>FullFeature</td>\n",
       "      <td>0.528230</td>\n",
       "      <td>0.848871</td>\n",
       "      <td>0.798396</td>\n",
       "      <td>0.394677</td>\n",
       "    </tr>\n",
       "    <tr>\n",
       "      <th>3</th>\n",
       "      <td>SVM</td>\n",
       "      <td>Weight</td>\n",
       "      <td>PartialFeature</td>\n",
       "      <td>0.511547</td>\n",
       "      <td>0.830541</td>\n",
       "      <td>0.769474</td>\n",
       "      <td>0.383124</td>\n",
       "    </tr>\n",
       "    <tr>\n",
       "      <th>4</th>\n",
       "      <td>LogR</td>\n",
       "      <td>Weight</td>\n",
       "      <td>PartialFeature</td>\n",
       "      <td>0.503759</td>\n",
       "      <td>0.839767</td>\n",
       "      <td>0.705263</td>\n",
       "      <td>0.391813</td>\n",
       "    </tr>\n",
       "    <tr>\n",
       "      <th>0</th>\n",
       "      <td>DT</td>\n",
       "      <td>No_Weight</td>\n",
       "      <td>FullFeature</td>\n",
       "      <td>0.457766</td>\n",
       "      <td>0.879218</td>\n",
       "      <td>0.481100</td>\n",
       "      <td>0.436590</td>\n",
       "    </tr>\n",
       "    <tr>\n",
       "      <th>0</th>\n",
       "      <td>DT</td>\n",
       "      <td>Weight</td>\n",
       "      <td>FullFeature</td>\n",
       "      <td>0.432827</td>\n",
       "      <td>0.877519</td>\n",
       "      <td>0.441008</td>\n",
       "      <td>0.424945</td>\n",
       "    </tr>\n",
       "    <tr>\n",
       "      <th>2</th>\n",
       "      <td>KNN</td>\n",
       "      <td>Weight</td>\n",
       "      <td>PartialFeature</td>\n",
       "      <td>0.448499</td>\n",
       "      <td>0.886259</td>\n",
       "      <td>0.401053</td>\n",
       "      <td>0.508678</td>\n",
       "    </tr>\n",
       "    <tr>\n",
       "      <th>1</th>\n",
       "      <td>RF</td>\n",
       "      <td>No_Weight</td>\n",
       "      <td>PartialFeature</td>\n",
       "      <td>0.455927</td>\n",
       "      <td>0.891357</td>\n",
       "      <td>0.394737</td>\n",
       "      <td>0.539568</td>\n",
       "    </tr>\n",
       "    <tr>\n",
       "      <th>1</th>\n",
       "      <td>RF</td>\n",
       "      <td>No_Weight</td>\n",
       "      <td>FullFeature</td>\n",
       "      <td>0.481119</td>\n",
       "      <td>0.909930</td>\n",
       "      <td>0.394044</td>\n",
       "      <td>0.617594</td>\n",
       "    </tr>\n",
       "    <tr>\n",
       "      <th>1</th>\n",
       "      <td>RF</td>\n",
       "      <td>Weight</td>\n",
       "      <td>PartialFeature</td>\n",
       "      <td>0.450790</td>\n",
       "      <td>0.890265</td>\n",
       "      <td>0.390526</td>\n",
       "      <td>0.533046</td>\n",
       "    </tr>\n",
       "    <tr>\n",
       "      <th>2</th>\n",
       "      <td>KNN</td>\n",
       "      <td>No_Weight</td>\n",
       "      <td>PartialFeature</td>\n",
       "      <td>0.473516</td>\n",
       "      <td>0.899854</td>\n",
       "      <td>0.390526</td>\n",
       "      <td>0.601297</td>\n",
       "    </tr>\n",
       "    <tr>\n",
       "      <th>0</th>\n",
       "      <td>DT</td>\n",
       "      <td>No_Weight</td>\n",
       "      <td>PartialFeature</td>\n",
       "      <td>0.393760</td>\n",
       "      <td>0.863195</td>\n",
       "      <td>0.385263</td>\n",
       "      <td>0.402640</td>\n",
       "    </tr>\n",
       "    <tr>\n",
       "      <th>0</th>\n",
       "      <td>DT</td>\n",
       "      <td>Weight</td>\n",
       "      <td>PartialFeature</td>\n",
       "      <td>0.376623</td>\n",
       "      <td>0.860160</td>\n",
       "      <td>0.366316</td>\n",
       "      <td>0.387528</td>\n",
       "    </tr>\n",
       "    <tr>\n",
       "      <th>4</th>\n",
       "      <td>LogR</td>\n",
       "      <td>No_Weight</td>\n",
       "      <td>FullFeature</td>\n",
       "      <td>0.458364</td>\n",
       "      <td>0.910779</td>\n",
       "      <td>0.356243</td>\n",
       "      <td>0.642562</td>\n",
       "    </tr>\n",
       "    <tr>\n",
       "      <th>3</th>\n",
       "      <td>SVM</td>\n",
       "      <td>No_Weight</td>\n",
       "      <td>PartialFeature</td>\n",
       "      <td>0.452331</td>\n",
       "      <td>0.904467</td>\n",
       "      <td>0.342105</td>\n",
       "      <td>0.667351</td>\n",
       "    </tr>\n",
       "    <tr>\n",
       "      <th>4</th>\n",
       "      <td>LogR</td>\n",
       "      <td>No_Weight</td>\n",
       "      <td>PartialFeature</td>\n",
       "      <td>0.443509</td>\n",
       "      <td>0.903739</td>\n",
       "      <td>0.332632</td>\n",
       "      <td>0.665263</td>\n",
       "    </tr>\n",
       "    <tr>\n",
       "      <th>3</th>\n",
       "      <td>SVM</td>\n",
       "      <td>No_Weight</td>\n",
       "      <td>FullFeature</td>\n",
       "      <td>0.423369</td>\n",
       "      <td>0.907745</td>\n",
       "      <td>0.319588</td>\n",
       "      <td>0.626966</td>\n",
       "    </tr>\n",
       "    <tr>\n",
       "      <th>1</th>\n",
       "      <td>RF</td>\n",
       "      <td>Weight</td>\n",
       "      <td>FullFeature</td>\n",
       "      <td>0.417417</td>\n",
       "      <td>0.905802</td>\n",
       "      <td>0.318442</td>\n",
       "      <td>0.605664</td>\n",
       "    </tr>\n",
       "    <tr>\n",
       "      <th>2</th>\n",
       "      <td>KNN</td>\n",
       "      <td>Weight</td>\n",
       "      <td>FullFeature</td>\n",
       "      <td>0.379360</td>\n",
       "      <td>0.896334</td>\n",
       "      <td>0.298969</td>\n",
       "      <td>0.518887</td>\n",
       "    </tr>\n",
       "    <tr>\n",
       "      <th>2</th>\n",
       "      <td>KNN</td>\n",
       "      <td>No_Weight</td>\n",
       "      <td>FullFeature</td>\n",
       "      <td>0.367903</td>\n",
       "      <td>0.898640</td>\n",
       "      <td>0.278351</td>\n",
       "      <td>0.542411</td>\n",
       "    </tr>\n",
       "  </tbody>\n",
       "</table>\n",
       "</div>"
      ],
      "text/plain": [
       "  model ClassWeight FullOrPartFeatures        F1  Accuracy    Recall  \\\n",
       "3   SVM      Weight        FullFeature  0.537514  0.849599  0.824742   \n",
       "4  LogR      Weight        FullFeature  0.528230  0.848871  0.798396   \n",
       "3   SVM      Weight     PartialFeature  0.511547  0.830541  0.769474   \n",
       "4  LogR      Weight     PartialFeature  0.503759  0.839767  0.705263   \n",
       "0    DT   No_Weight        FullFeature  0.457766  0.879218  0.481100   \n",
       "0    DT      Weight        FullFeature  0.432827  0.877519  0.441008   \n",
       "2   KNN      Weight     PartialFeature  0.448499  0.886259  0.401053   \n",
       "1    RF   No_Weight     PartialFeature  0.455927  0.891357  0.394737   \n",
       "1    RF   No_Weight        FullFeature  0.481119  0.909930  0.394044   \n",
       "1    RF      Weight     PartialFeature  0.450790  0.890265  0.390526   \n",
       "2   KNN   No_Weight     PartialFeature  0.473516  0.899854  0.390526   \n",
       "0    DT   No_Weight     PartialFeature  0.393760  0.863195  0.385263   \n",
       "0    DT      Weight     PartialFeature  0.376623  0.860160  0.366316   \n",
       "4  LogR   No_Weight        FullFeature  0.458364  0.910779  0.356243   \n",
       "3   SVM   No_Weight     PartialFeature  0.452331  0.904467  0.342105   \n",
       "4  LogR   No_Weight     PartialFeature  0.443509  0.903739  0.332632   \n",
       "3   SVM   No_Weight        FullFeature  0.423369  0.907745  0.319588   \n",
       "1    RF      Weight        FullFeature  0.417417  0.905802  0.318442   \n",
       "2   KNN      Weight        FullFeature  0.379360  0.896334  0.298969   \n",
       "2   KNN   No_Weight        FullFeature  0.367903  0.898640  0.278351   \n",
       "\n",
       "   Precision  \n",
       "3   0.398671  \n",
       "4   0.394677  \n",
       "3   0.383124  \n",
       "4   0.391813  \n",
       "0   0.436590  \n",
       "0   0.424945  \n",
       "2   0.508678  \n",
       "1   0.539568  \n",
       "1   0.617594  \n",
       "1   0.533046  \n",
       "2   0.601297  \n",
       "0   0.402640  \n",
       "0   0.387528  \n",
       "4   0.642562  \n",
       "3   0.667351  \n",
       "4   0.665263  \n",
       "3   0.626966  \n",
       "1   0.605664  \n",
       "2   0.518887  \n",
       "2   0.542411  "
      ]
     },
     "execution_count": 31,
     "metadata": {},
     "output_type": "execute_result"
    }
   ],
   "source": [
    "ResultsDF.sort_values('Recall', ascending = False)"
   ]
  },
  {
   "cell_type": "code",
   "execution_count": null,
   "metadata": {
    "id": "HGmoB5-VaFFQ"
   },
   "outputs": [],
   "source": []
  },
  {
   "cell_type": "code",
   "execution_count": null,
   "metadata": {
    "id": "xrhbEfrhaFFS",
    "outputId": "a0617701-315b-4527-dd10-b54560e93b18",
    "scrolled": true
   },
   "outputs": [],
   "source": [
    "DefaultPF[4]"
   ]
  },
  {
   "cell_type": "code",
   "execution_count": null,
   "metadata": {
    "id": "QFwG1wniaFFS"
   },
   "outputs": [],
   "source": [
    "['LogR', 'Weight', 'FF',\n",
    " 0.42351168048229093,\n",
    "  0.9071376547705754,\n",
    "  0.3118756936736959,\n",
    "  0.6596244131455399]"
   ]
  },
  {
   "cell_type": "code",
   "execution_count": null,
   "metadata": {
    "id": "nrE8fgiCaFFS",
    "outputId": "9f3b126c-3517-4263-a54c-c141f69f8bf5"
   },
   "outputs": [],
   "source": [
    "DefaultFF[4]"
   ]
  },
  {
   "cell_type": "code",
   "execution_count": null,
   "metadata": {
    "id": "WVrfweVeaFFS",
    "outputId": "90926c59-7595-4462-9269-b39f1d857d09",
    "scrolled": true
   },
   "outputs": [],
   "source": [
    "WeightPF[4]"
   ]
  },
  {
   "cell_type": "code",
   "execution_count": null,
   "metadata": {
    "id": "Iymd2UR-aFFS",
    "outputId": "6ca61a42-dac5-404a-f9c5-17186be71eb3",
    "scrolled": true
   },
   "outputs": [],
   "source": [
    "WeightFF[4]"
   ]
  },
  {
   "cell_type": "code",
   "execution_count": null,
   "metadata": {
    "id": "hx34850VaFFT",
    "outputId": "75cd04f6-3748-44d6-bd2a-29dde6fe0649"
   },
   "outputs": [],
   "source": [
    "print((7188+296)/(7188+296+141+613))  # accuracy"
   ]
  },
  {
   "cell_type": "code",
   "execution_count": null,
   "metadata": {
    "id": "3dOBEEU6aFFU",
    "outputId": "2461aa73-398c-4190-955b-2dec5c322343"
   },
   "outputs": [],
   "source": [
    "print(296/(296+141))  # precision"
   ]
  },
  {
   "cell_type": "code",
   "execution_count": null,
   "metadata": {
    "id": "ef8hF98zaFFU",
    "outputId": "74986929-de6e-4fe8-e2c4-01524106844a"
   },
   "outputs": [],
   "source": [
    "print(296/ (296 + 613) )  # recall or sensitivity"
   ]
  },
  {
   "cell_type": "code",
   "execution_count": null,
   "metadata": {
    "id": "gqjyUBQ0aFFU",
    "outputId": "26667eb9-71e9-4a4d-b433-d80660eea556"
   },
   "outputs": [],
   "source": [
    "2*(0.3256325632563256*0.6773455377574371)/(0.3256325632563256+0.6773455377574371)  # f1"
   ]
  },
  {
   "cell_type": "code",
   "execution_count": null,
   "metadata": {
    "id": "ZRTHmbUxaFFU",
    "outputId": "662e8e8c-a3d2-42ad-e86a-9e145420e3a6",
    "scrolled": false
   },
   "outputs": [],
   "source": [
    "Weight = RunAllConfusion(X_train, X_test, y_train, y_test, FullFeature, default = 0)\n",
    "Weight\n",
    "# WeightDF =  pd.DataFrame(Weight, columns = ['model', 'weight', 'accuracy', 'N_erros', 'bias'])\n",
    "# WeightDF"
   ]
  },
  {
   "cell_type": "code",
   "execution_count": null,
   "metadata": {
    "id": "uSZ9mTwwaFFU",
    "outputId": "8ac40b22-d6db-4fda-9e0f-bbcf620d5f2e"
   },
   "outputs": [],
   "source": [
    "2*(0.7084708470847084*0.3824228028503563)/(0.7084708470847084+0.3824228028503563)"
   ]
  },
  {
   "cell_type": "code",
   "execution_count": null,
   "metadata": {
    "id": "0FYs3-csaFFV",
    "outputId": "92a7ec1c-2879-4aa9-d5b7-e25c2ae28b49"
   },
   "outputs": [],
   "source": [
    "Weight[1:3][1]"
   ]
  },
  {
   "cell_type": "code",
   "execution_count": null,
   "metadata": {
    "id": "VDTxOhZ7aFFV",
    "outputId": "f1b35955-9b38-4dd3-e4ad-636c9d86e0cb"
   },
   "outputs": [],
   "source": [
    "WeightDF  = pd.DataFrame(Weight)\n",
    "print( WeightDF.iloc[:, 0], '\\n', WeightDF.iloc[:, 1])"
   ]
  },
  {
   "cell_type": "code",
   "execution_count": null,
   "metadata": {
    "id": "oTjBfbZIaFFV",
    "scrolled": false
   },
   "outputs": [],
   "source": [
    "MarkerSizeScale = 20\n",
    "Markersizearray =np.array([1, 2, 4, 8, 16, 32])\n",
    "Y_Markersizearray = list(range(40, 24, -3))\n",
    "for i in ['DT', 'RF', 'KNN', 'SVM', 'LogR' ]:\n",
    "    plt.figure(figsize=(16,9))\n",
    "    \n",
    "    R1 = DefaultDF[DefaultDF.Model == i]\n",
    "    plt.scatter(R1.LabelRatio, R1.Bias.abs(), s=R1.N_errors*MarkerSizeScale, alpha=0.5)\n",
    "    \n",
    "    R0 = WeightDF[WeightDF.Model == i]    \n",
    "    plt.scatter(R0.LabelRatio, R0.Bias.abs(), s=R0.N_errors*MarkerSizeScale, alpha=0.5)\n",
    "    \n",
    "    plt.legend(['class weight = None', 'class weight =  balanced'], fontsize=16)\n",
    "    \n",
    "    \n",
    "    plt.title('model ' + i + ' :The circle size indicates the error count.',  fontsize=30)\n",
    "    plt.xlabel('Label Ratio.  Well balanced ratio is equal to 1.', fontsize=24)\n",
    "    plt.ylabel('bias.  0 means no bias', fontsize=24)\n",
    "    \n",
    "    plt.show()\n"
   ]
  }
 ],
 "metadata": {
  "colab": {
   "provenance": []
  },
  "kernelspec": {
   "display_name": "Python 3 (ipykernel)",
   "language": "python",
   "name": "python3"
  },
  "language_info": {
   "codemirror_mode": {
    "name": "ipython",
    "version": 3
   },
   "file_extension": ".py",
   "mimetype": "text/x-python",
   "name": "python",
   "nbconvert_exporter": "python",
   "pygments_lexer": "ipython3",
   "version": "3.11.3"
  }
 },
 "nbformat": 4,
 "nbformat_minor": 1
}
