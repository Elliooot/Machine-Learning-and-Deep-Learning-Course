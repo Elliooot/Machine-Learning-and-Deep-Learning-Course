{
 "cells": [
  {
   "cell_type": "code",
   "execution_count": 1,
   "id": "6f95c0e3",
   "metadata": {},
   "outputs": [],
   "source": [
    "import pandas as pd\n",
    "import numpy as np\n",
    "import matplotlib.pyplot as plt\n",
    "%matplotlib inline\n",
    "import time"
   ]
  },
  {
   "cell_type": "code",
   "execution_count": 2,
   "id": "e5aa778c",
   "metadata": {},
   "outputs": [],
   "source": [
    "from keras.utils import np_utils\n",
    "from keras.models import Sequential\n",
    "from keras.layers import Dense"
   ]
  },
  {
   "attachments": {},
   "cell_type": "markdown",
   "id": "be35a730",
   "metadata": {},
   "source": [
    "# 1. Get data"
   ]
  },
  {
   "cell_type": "code",
   "execution_count": 5,
   "id": "079594b0",
   "metadata": {},
   "outputs": [],
   "source": [
    "def get_bcw():\n",
    "    bcw = pd.read_csv(r\"C:\\Users\\user\\Downloads\\wdbc.data\")\n",
    "    names = ['id','malignant',\n",
    "         'nucleus_mean','nucleus_se','nucleus_worst',\n",
    "         'texture_mean','texture_se','texture_worst',\n",
    "         'perimeter_mean','perimeter_se','perimeter_worst',\n",
    "         'area_mean','area_se','area_worst',\n",
    "         'smoothness_mean','smoothness_se','smoothness_worst',\n",
    "         'compactness_mean','compactness_se','compactness_worst',\n",
    "         'concavity_mean','concavity_se','concavity_worst',\n",
    "         'concave points_mean','concave points_se','concave points_worst',\n",
    "         'symmetry_mean','symmetry_se','symmetry_worst',\n",
    "         'fractal_dimension_mean','fractal_dimension_se','fractal_dimension_worst']\n",
    "    bcw.columns = names\n",
    "    bcw['malignant'] = bcw['malignant'].map(lambda x: 0 if x == \"B\" else 1)\n",
    "    \n",
    "    y = bcw['malignant'].values\n",
    "    X = bcw.drop(columns = ['id','malignant']).values\n",
    "#     from sklearn.preprocessing import StandardScaler\n",
    "#     ss = StandardScaler()\n",
    "#     X = ss.fit_transform(X)\n",
    "#     print(X)\n",
    "#     plt.scatter(X[:, 0], X[:, 1], c = y)\n",
    "    \n",
    "    return X, y"
   ]
  },
  {
   "cell_type": "code",
   "execution_count": 6,
   "id": "6a6143e1",
   "metadata": {},
   "outputs": [],
   "source": [
    "X, y = get_bcw()"
   ]
  },
  {
   "cell_type": "code",
   "execution_count": 7,
   "id": "30320b93",
   "metadata": {},
   "outputs": [
    {
     "data": {
      "text/plain": [
       "2"
      ]
     },
     "execution_count": 7,
     "metadata": {},
     "output_type": "execute_result"
    }
   ],
   "source": [
    "Nclasses = len(set(y))\n",
    "Nclasses"
   ]
  },
  {
   "attachments": {},
   "cell_type": "markdown",
   "id": "0f08f1d2",
   "metadata": {},
   "source": [
    "# 2. Split data into Training and Testing"
   ]
  },
  {
   "cell_type": "code",
   "execution_count": 8,
   "id": "bcb2d91e",
   "metadata": {},
   "outputs": [
    {
     "name": "stdout",
     "output_type": "stream",
     "text": [
      "(568, 30)\n",
      "(568,)\n",
      "<class 'numpy.ndarray'>\n",
      "<class 'numpy.ndarray'>\n"
     ]
    }
   ],
   "source": [
    "from sklearn.model_selection import train_test_split\n",
    "\n",
    "print(X.shape)\n",
    "print(y.shape)\n",
    "print(type(X))\n",
    "print(type(y))\n",
    "\n",
    "X_train, X_test, y_train, y_test = train_test_split(X, y, test_size = 0.5, random_state = 2018)"
   ]
  },
  {
   "cell_type": "code",
   "execution_count": 9,
   "id": "0cc91531",
   "metadata": {},
   "outputs": [
    {
     "name": "stdout",
     "output_type": "stream",
     "text": [
      "(284, 30)\n",
      "(284, 30)\n",
      "(284,)\n",
      "(284,)\n"
     ]
    }
   ],
   "source": [
    "print(X_train.shape)\n",
    "print(X_test.shape)\n",
    "print(y_train.shape)\n",
    "print(y_test.shape)"
   ]
  },
  {
   "cell_type": "code",
   "execution_count": 10,
   "id": "4f29a419",
   "metadata": {},
   "outputs": [
    {
     "data": {
      "text/plain": [
       "array([[1.425e+01, 2.172e+01, 9.363e+01, 6.330e+02, 9.823e-02, 1.098e-01,\n",
       "        1.319e-01, 5.598e-02, 1.885e-01, 6.125e-02, 2.860e-01, 1.019e+00,\n",
       "        2.657e+00, 2.491e+01, 5.878e-03, 2.995e-02, 4.815e-02, 1.161e-02,\n",
       "        2.028e-02, 4.022e-03, 1.589e+01, 3.036e+01, 1.162e+02, 7.996e+02,\n",
       "        1.446e-01, 4.238e-01, 5.186e-01, 1.447e-01, 3.591e-01, 1.014e-01],\n",
       "       [1.537e+01, 2.276e+01, 1.002e+02, 7.282e+02, 9.200e-02, 1.036e-01,\n",
       "        1.122e-01, 7.483e-02, 1.717e-01, 6.097e-02, 3.129e-01, 8.413e-01,\n",
       "        2.075e+00, 2.944e+01, 9.882e-03, 2.444e-02, 4.531e-02, 1.763e-02,\n",
       "        2.471e-02, 2.142e-03, 1.643e+01, 2.584e+01, 1.075e+02, 8.309e+02,\n",
       "        1.257e-01, 1.997e-01, 2.846e-01, 1.476e-01, 2.556e-01, 6.828e-02],\n",
       "       [1.193e+01, 2.153e+01, 7.653e+01, 4.386e+02, 9.768e-02, 7.849e-02,\n",
       "        3.328e-02, 2.008e-02, 1.688e-01, 6.194e-02, 3.118e-01, 9.227e-01,\n",
       "        2.000e+00, 2.479e+01, 7.803e-03, 2.507e-02, 1.835e-02, 7.711e-03,\n",
       "        1.278e-02, 3.856e-03, 1.367e+01, 2.615e+01, 8.754e+01, 5.830e+02,\n",
       "        1.500e-01, 2.399e-01, 1.503e-01, 7.247e-02, 2.438e-01, 8.541e-02],\n",
       "       [1.152e+01, 1.493e+01, 7.387e+01, 4.063e+02, 1.013e-01, 7.808e-02,\n",
       "        4.328e-02, 2.929e-02, 1.883e-01, 6.168e-02, 2.562e-01, 1.038e+00,\n",
       "        1.686e+00, 1.862e+01, 6.662e-03, 1.228e-02, 2.105e-02, 1.006e-02,\n",
       "        1.677e-02, 2.784e-03, 1.265e+01, 2.119e+01, 8.088e+01, 4.918e+02,\n",
       "        1.389e-01, 1.582e-01, 1.804e-01, 9.608e-02, 2.664e-01, 7.809e-02]])"
      ]
     },
     "execution_count": 10,
     "metadata": {},
     "output_type": "execute_result"
    }
   ],
   "source": [
    "X_train[:20:6]"
   ]
  },
  {
   "attachments": {},
   "cell_type": "markdown",
   "id": "e729ffd1",
   "metadata": {},
   "source": [
    "## Convert scalar class into vector class for NN"
   ]
  },
  {
   "cell_type": "code",
   "execution_count": 11,
   "id": "80a35bd1",
   "metadata": {},
   "outputs": [],
   "source": [
    "Y_train = np_utils.to_categorical(y_train)\n",
    "Y_test = np_utils.to_categorical(y_test)"
   ]
  },
  {
   "cell_type": "code",
   "execution_count": 12,
   "id": "4383949a",
   "metadata": {},
   "outputs": [
    {
     "name": "stdout",
     "output_type": "stream",
     "text": [
      "(284, 30)\n",
      "(284, 2)\n"
     ]
    }
   ],
   "source": [
    "print(X_train.shape)\n",
    "\n",
    "print(Y_train.shape)"
   ]
  },
  {
   "attachments": {},
   "cell_type": "markdown",
   "id": "6285a023",
   "metadata": {},
   "source": [
    "# 3. Build ML/DL Model"
   ]
  },
  {
   "cell_type": "code",
   "execution_count": 13,
   "id": "72d2162a",
   "metadata": {},
   "outputs": [],
   "source": [
    "model = Sequential()\n",
    "N_Features = X_train.shape[1]\n",
    "\n",
    "model.add(Dense(N_Features, activation = 'relu'))\n",
    "model.add(Dense(Nclasses, activation = 'softmax'))\n",
    "\n",
    "model.compile(optimizer = 'adam', loss = 'binary_crossentropy', metrics = ['accuracy'])"
   ]
  },
  {
   "attachments": {},
   "cell_type": "markdown",
   "id": "9c72247f",
   "metadata": {},
   "source": [
    "# 4. Training"
   ]
  },
  {
   "cell_type": "code",
   "execution_count": 14,
   "id": "2277e103",
   "metadata": {
    "scrolled": true
   },
   "outputs": [
    {
     "name": "stdout",
     "output_type": "stream",
     "text": [
      "Epoch 1/10\n",
      "9/9 [==============================] - 0s 1ms/step - loss: 18.3658 - accuracy: 0.3028\n",
      "Epoch 2/10\n",
      "9/9 [==============================] - 0s 659us/step - loss: 11.7126 - accuracy: 0.2887\n",
      "Epoch 3/10\n",
      "9/9 [==============================] - 0s 1ms/step - loss: 9.6749 - accuracy: 0.2923\n",
      "Epoch 4/10\n",
      "9/9 [==============================] - 0s 6ms/step - loss: 8.1755 - accuracy: 0.2641\n",
      "Epoch 5/10\n",
      "9/9 [==============================] - 0s 1ms/step - loss: 6.6540 - accuracy: 0.3451\n",
      "Epoch 6/10\n",
      "9/9 [==============================] - 0s 949us/step - loss: 5.2034 - accuracy: 0.3732\n",
      "Epoch 7/10\n",
      "9/9 [==============================] - 0s 544us/step - loss: 4.4645 - accuracy: 0.3908\n",
      "Epoch 8/10\n",
      "9/9 [==============================] - 0s 780us/step - loss: 3.2005 - accuracy: 0.4648\n",
      "Epoch 9/10\n",
      "9/9 [==============================] - 0s 1ms/step - loss: 2.1204 - accuracy: 0.5739\n",
      "Epoch 10/10\n",
      "9/9 [==============================] - 0s 758us/step - loss: 1.2753 - accuracy: 0.6655\n",
      "duration = 0.6166718006134033\n"
     ]
    }
   ],
   "source": [
    "start = time.time()\n",
    "model.fit(X_train, Y_train, epochs = 10, verbose = 1)\n",
    "print('duration =', time.time() - start)"
   ]
  },
  {
   "cell_type": "code",
   "execution_count": 15,
   "id": "a40f693a",
   "metadata": {},
   "outputs": [
    {
     "name": "stdout",
     "output_type": "stream",
     "text": [
      "Model: \"sequential\"\n",
      "_________________________________________________________________\n",
      " Layer (type)                Output Shape              Param #   \n",
      "=================================================================\n",
      " dense (Dense)               (None, 30)                930       \n",
      "                                                                 \n",
      " dense_1 (Dense)             (None, 2)                 62        \n",
      "                                                                 \n",
      "=================================================================\n",
      "Total params: 992\n",
      "Trainable params: 992\n",
      "Non-trainable params: 0\n",
      "_________________________________________________________________\n"
     ]
    }
   ],
   "source": [
    "model.summary()"
   ]
  },
  {
   "attachments": {},
   "cell_type": "markdown",
   "id": "5b32f26a",
   "metadata": {},
   "source": [
    "# 5. Testing"
   ]
  },
  {
   "cell_type": "code",
   "execution_count": 16,
   "id": "2e21d6e1",
   "metadata": {},
   "outputs": [
    {
     "name": "stdout",
     "output_type": "stream",
     "text": [
      "9/9 [==============================] - 0s 717us/step\n"
     ]
    }
   ],
   "source": [
    "pred = model.predict(X_test)"
   ]
  },
  {
   "cell_type": "code",
   "execution_count": 17,
   "id": "85887542",
   "metadata": {},
   "outputs": [
    {
     "data": {
      "text/plain": [
       "1.0"
      ]
     },
     "execution_count": 17,
     "metadata": {},
     "output_type": "execute_result"
    }
   ],
   "source": [
    "pred[3].sum()"
   ]
  },
  {
   "cell_type": "code",
   "execution_count": 18,
   "id": "e44dde2e",
   "metadata": {},
   "outputs": [
    {
     "data": {
      "text/plain": [
       "0.99999994"
      ]
     },
     "execution_count": 18,
     "metadata": {},
     "output_type": "execute_result"
    }
   ],
   "source": [
    "pred[80].sum()"
   ]
  },
  {
   "cell_type": "code",
   "execution_count": 19,
   "id": "1ab88f02",
   "metadata": {},
   "outputs": [
    {
     "data": {
      "text/plain": [
       "array([[9.9933606e-01, 6.6393428e-04],\n",
       "       [5.4438761e-03, 9.9455607e-01],\n",
       "       [9.9979526e-01, 2.0479377e-04],\n",
       "       [9.9983025e-01, 1.6976149e-04],\n",
       "       [3.5816985e-11, 1.0000000e+00],\n",
       "       [4.9236176e-05, 9.9995077e-01],\n",
       "       [9.9982786e-01, 1.7211703e-04],\n",
       "       [5.0273840e-04, 9.9949729e-01],\n",
       "       [1.6790389e-10, 1.0000000e+00],\n",
       "       [2.7744995e-10, 1.0000000e+00],\n",
       "       [7.7041059e-06, 9.9999225e-01],\n",
       "       [9.9999928e-01, 7.3785259e-07],\n",
       "       [6.9727915e-13, 1.0000000e+00],\n",
       "       [9.9999988e-01, 8.6375259e-08],\n",
       "       [4.6593988e-01, 5.3406012e-01],\n",
       "       [1.1823091e-01, 8.8176912e-01],\n",
       "       [9.7786158e-01, 2.2138391e-02],\n",
       "       [1.0000000e+00, 1.4666824e-08],\n",
       "       [9.9996364e-01, 3.6412850e-05],\n",
       "       [9.9781162e-01, 2.1884213e-03],\n",
       "       [9.8984247e-01, 1.0157594e-02],\n",
       "       [1.4044175e-11, 1.0000000e+00],\n",
       "       [3.5227035e-04, 9.9964774e-01],\n",
       "       [9.9966443e-01, 3.3563114e-04],\n",
       "       [9.9932456e-01, 6.7544205e-04],\n",
       "       [2.3155364e-01, 7.6844639e-01],\n",
       "       [3.7838575e-01, 6.2161434e-01],\n",
       "       [9.7985500e-01, 2.0144993e-02],\n",
       "       [2.2474019e-02, 9.7752601e-01],\n",
       "       [9.9863052e-01, 1.3695427e-03]], dtype=float32)"
      ]
     },
     "execution_count": 19,
     "metadata": {},
     "output_type": "execute_result"
    }
   ],
   "source": [
    "pred[:30]"
   ]
  },
  {
   "attachments": {},
   "cell_type": "markdown",
   "id": "ca663efc",
   "metadata": {},
   "source": [
    "# 6. Evaluate the Result"
   ]
  },
  {
   "cell_type": "code",
   "execution_count": 20,
   "id": "df26e5e6",
   "metadata": {
    "scrolled": true
   },
   "outputs": [
    {
     "data": {
      "text/plain": [
       "array([0, 1, 0, 0, 1, 1, 0, 1, 1, 1, 1, 0, 1, 0, 1, 1, 0, 0, 0, 0, 0, 1,\n",
       "       1, 0, 0, 1, 1, 0, 1, 0, 1, 1, 0, 1, 0, 0, 0, 0, 1, 1, 1, 0, 1, 1,\n",
       "       1, 0, 1, 1, 0, 0, 1, 1, 0, 0, 1, 0, 1, 0, 1, 1, 1, 1, 1, 0, 1, 0,\n",
       "       1, 0, 1, 0, 0, 1, 1, 0, 1, 0, 0, 1, 0, 0, 0, 0, 0, 1, 0, 0, 0, 0,\n",
       "       0, 0, 0, 1, 0, 1, 1, 0, 1, 1, 0, 1, 1, 0, 1, 0, 0, 1, 1, 1, 1, 0,\n",
       "       0, 0, 1, 0, 0, 1, 0, 1, 0, 0, 1, 1, 0, 1, 1, 0, 0, 1, 0, 0, 1, 0,\n",
       "       1, 0, 1, 1, 1, 1, 0, 1, 0, 1, 0, 0, 1, 1, 1, 1, 0, 0, 0, 0, 0, 0,\n",
       "       1, 1, 0, 0, 0, 1, 0, 1, 0, 0, 1, 0, 0, 1, 1, 1, 1, 1, 0, 0, 1, 1,\n",
       "       0, 1, 1, 1, 0, 0, 0, 1, 0, 1, 0, 0, 0, 1, 1, 0, 0, 1, 0, 1, 1, 1,\n",
       "       0, 1, 1, 1, 0, 1, 0, 0, 0, 1, 0, 1, 1, 1, 1, 1, 0, 0, 1, 0, 0, 1,\n",
       "       1, 0, 0, 0, 1, 1, 0, 1, 1, 0, 1, 0, 1, 1, 1, 0, 0, 1, 0, 1, 1, 1,\n",
       "       0, 1, 1, 1, 0, 0, 0, 0, 0, 0, 0, 0, 1, 0, 1, 1, 1, 0, 1, 0, 0, 0,\n",
       "       0, 0, 0, 1, 0, 1, 0, 1, 1, 1, 1, 1, 0, 0, 0, 0, 1, 1, 0, 1])"
      ]
     },
     "execution_count": 20,
     "metadata": {},
     "output_type": "execute_result"
    }
   ],
   "source": [
    "tmp = np.array([int(x < y) for [x, y] in pred])\n",
    "tmp"
   ]
  },
  {
   "cell_type": "code",
   "execution_count": 21,
   "id": "2471237f",
   "metadata": {},
   "outputs": [
    {
     "data": {
      "text/plain": [
       "array([0, 1, 0, 0, 0, 1, 0, 0, 1, 1, 1, 0, 1, 0, 1, 0, 0, 0, 0, 0, 1, 1,\n",
       "       1, 1, 0, 0, 0, 0, 0, 0, 1, 1, 1, 0, 0, 0, 0, 0, 0, 0, 1, 0, 1, 0,\n",
       "       0, 0, 0, 0, 0, 0, 1, 1, 0, 0, 0, 0, 0, 0, 1, 1, 0, 0, 0, 0, 0, 0,\n",
       "       0, 0, 1, 0, 0, 0, 0, 0, 0, 0, 0, 1, 0, 0, 0, 0, 0, 0, 0, 0, 1, 0,\n",
       "       0, 0, 0, 1, 0, 1, 0, 1, 1, 1, 0, 1, 1, 0, 1, 0, 0, 1, 1, 1, 1, 0,\n",
       "       1, 0, 0, 0, 0, 0, 1, 1, 0, 0, 0, 1, 0, 1, 1, 0, 0, 0, 0, 0, 0, 0,\n",
       "       1, 0, 0, 0, 1, 1, 0, 0, 0, 1, 0, 0, 0, 1, 1, 0, 0, 0, 0, 1, 0, 0,\n",
       "       1, 0, 0, 0, 0, 1, 0, 1, 0, 0, 1, 0, 0, 1, 1, 0, 0, 1, 0, 0, 0, 1,\n",
       "       0, 0, 0, 1, 0, 0, 0, 1, 1, 1, 0, 0, 0, 1, 1, 0, 0, 1, 1, 1, 1, 1,\n",
       "       0, 1, 1, 0, 0, 1, 0, 0, 0, 1, 1, 0, 0, 1, 0, 1, 0, 0, 1, 0, 0, 1,\n",
       "       1, 0, 0, 0, 1, 0, 0, 0, 0, 0, 1, 0, 0, 1, 1, 0, 0, 1, 1, 0, 1, 1,\n",
       "       0, 0, 1, 1, 0, 0, 0, 0, 0, 0, 0, 0, 1, 0, 1, 1, 1, 0, 1, 0, 0, 0,\n",
       "       1, 0, 0, 1, 0, 1, 0, 0, 1, 1, 1, 1, 0, 1, 0, 1, 1, 1, 0, 1],\n",
       "      dtype=int64)"
      ]
     },
     "execution_count": 21,
     "metadata": {},
     "output_type": "execute_result"
    }
   ],
   "source": [
    "y_test"
   ]
  },
  {
   "cell_type": "code",
   "execution_count": 22,
   "id": "3decfddc",
   "metadata": {},
   "outputs": [
    {
     "data": {
      "text/plain": [
       "0.7640845070422535"
      ]
     },
     "execution_count": 22,
     "metadata": {},
     "output_type": "execute_result"
    }
   ],
   "source": [
    "1 - abs(tmp - y_test).sum() / y_test.shape[0]"
   ]
  },
  {
   "cell_type": "code",
   "execution_count": null,
   "id": "70e8b69b",
   "metadata": {},
   "outputs": [],
   "source": []
  },
  {
   "cell_type": "code",
   "execution_count": null,
   "id": "78aa9260",
   "metadata": {},
   "outputs": [],
   "source": []
  }
 ],
 "metadata": {
  "kernelspec": {
   "display_name": "Python 3 (ipykernel)",
   "language": "python",
   "name": "python3"
  },
  "language_info": {
   "codemirror_mode": {
    "name": "ipython",
    "version": 3
   },
   "file_extension": ".py",
   "mimetype": "text/x-python",
   "name": "python",
   "nbconvert_exporter": "python",
   "pygments_lexer": "ipython3",
   "version": "3.11.3"
  }
 },
 "nbformat": 4,
 "nbformat_minor": 5
}
