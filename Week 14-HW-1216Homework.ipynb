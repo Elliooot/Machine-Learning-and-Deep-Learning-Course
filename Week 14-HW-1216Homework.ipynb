{
 "cells": [
  {
   "cell_type": "code",
   "execution_count": 1,
   "id": "50b7742f",
   "metadata": {},
   "outputs": [],
   "source": [
    "import os\n",
    "import numpy as np\n",
    "import matplotlib.pyplot as plt\n",
    "import pandas as pd\n",
    "import time\n",
    "\n",
    "from keras.models import Sequential, load_model\n",
    "from keras.datasets import cifar10\n",
    "from keras.utils import np_utils,plot_model\n",
    "from keras.layers import Dense, Dropout, Flatten, Conv2D, Conv3D, MaxPool2D, MaxPool3D, Input\n",
    "from sklearn.model_selection import train_test_split"
   ]
  },
  {
   "cell_type": "code",
   "execution_count": 2,
   "id": "dee978a0",
   "metadata": {},
   "outputs": [],
   "source": [
    "(X_train, y_train), (X_test, y_test) = cifar10.load_data()"
   ]
  },
  {
   "cell_type": "code",
   "execution_count": 3,
   "id": "51d5c6b8",
   "metadata": {},
   "outputs": [
    {
     "data": {
      "text/plain": [
       "(50000, 32, 32, 3)"
      ]
     },
     "execution_count": 3,
     "metadata": {},
     "output_type": "execute_result"
    }
   ],
   "source": [
    "X_train.shape"
   ]
  },
  {
   "cell_type": "code",
   "execution_count": 4,
   "id": "1ea910e9",
   "metadata": {},
   "outputs": [
    {
     "data": {
      "text/plain": [
       "(32, 32, 3)"
      ]
     },
     "execution_count": 4,
     "metadata": {},
     "output_type": "execute_result"
    }
   ],
   "source": [
    "X_train.shape[1:]"
   ]
  },
  {
   "cell_type": "code",
   "execution_count": 5,
   "id": "ed297b6e",
   "metadata": {},
   "outputs": [
    {
     "data": {
      "text/plain": [
       "(10000, 32, 32, 3)"
      ]
     },
     "execution_count": 5,
     "metadata": {},
     "output_type": "execute_result"
    }
   ],
   "source": [
    "X_test.shape"
   ]
  },
  {
   "cell_type": "code",
   "execution_count": 6,
   "id": "cc3654c9",
   "metadata": {
    "scrolled": false
   },
   "outputs": [
    {
     "data": {
      "text/plain": [
       "(10000, 1)"
      ]
     },
     "execution_count": 6,
     "metadata": {},
     "output_type": "execute_result"
    }
   ],
   "source": [
    "y_test.shape"
   ]
  },
  {
   "cell_type": "markdown",
   "id": "9d697db9",
   "metadata": {},
   "source": [
    "# 6. CNN"
   ]
  },
  {
   "cell_type": "markdown",
   "id": "1fd1a446",
   "metadata": {},
   "source": [
    "## 6.1 Prepare Data"
   ]
  },
  {
   "cell_type": "code",
   "execution_count": 7,
   "id": "db678077",
   "metadata": {},
   "outputs": [
    {
     "name": "stdout",
     "output_type": "stream",
     "text": [
      "(50000, 10) (50000, 1)\n",
      "(10000, 10) (10000, 1)\n"
     ]
    }
   ],
   "source": [
    "Y_train = np_utils.to_categorical(y_train)\n",
    "print(Y_train.shape, y_train.shape)\n",
    "Y_test = np_utils.to_categorical(y_test)\n",
    "print(Y_test.shape, y_test.shape)"
   ]
  },
  {
   "cell_type": "code",
   "execution_count": 13,
   "id": "431c2e29",
   "metadata": {},
   "outputs": [
    {
     "name": "stdout",
     "output_type": "stream",
     "text": [
      "(45000, 32, 32, 3) (45000, 10)\n"
     ]
    }
   ],
   "source": [
    "X_train_cnn, X_test_cnn, Y_train_cnn, Y_test_cnn = train_test_split(X_train, Y_train, test_size = 0.1, random_state = 2000)\n",
    "print(X_train_cnn.shape, Y_train_cnn.shape)"
   ]
  },
  {
   "cell_type": "code",
   "execution_count": 10,
   "id": "0107137a",
   "metadata": {},
   "outputs": [],
   "source": [
    "label = {0: \"airplane\", 1: \"automobile\", 2: \"bird\", 3: \"cat\", 4: \"deer\", 5: \"dog\", 6: \"frog\", 7: \"horse\", 8: \"ship\", 9: \"truck\"}"
   ]
  },
  {
   "cell_type": "markdown",
   "id": "586cec64",
   "metadata": {},
   "source": [
    "## 6.2 define model"
   ]
  },
  {
   "cell_type": "code",
   "execution_count": 14,
   "id": "6940ffcc",
   "metadata": {
    "scrolled": true
   },
   "outputs": [
    {
     "name": "stdout",
     "output_type": "stream",
     "text": [
      "Model: \"sequential_1\"\n",
      "_________________________________________________________________\n",
      " Layer (type)                Output Shape              Param #   \n",
      "=================================================================\n",
      " conv2d_3 (Conv2D)           (None, 24, 24, 100)       24400     \n",
      "                                                                 \n",
      " max_pooling2d_3 (MaxPooling  (None, 12, 12, 100)      0         \n",
      " 2D)                                                             \n",
      "                                                                 \n",
      " conv2d_4 (Conv2D)           (None, 8, 8, 100)         250100    \n",
      "                                                                 \n",
      " max_pooling2d_4 (MaxPooling  (None, 4, 4, 100)        0         \n",
      " 2D)                                                             \n",
      "                                                                 \n",
      " conv2d_5 (Conv2D)           (None, 2, 2, 100)         90100     \n",
      "                                                                 \n",
      " max_pooling2d_5 (MaxPooling  (None, 1, 1, 100)        0         \n",
      " 2D)                                                             \n",
      "                                                                 \n",
      " flatten_1 (Flatten)         (None, 100)               0         \n",
      "                                                                 \n",
      " dense_4 (Dense)             (None, 400)               40400     \n",
      "                                                                 \n",
      " dropout_1 (Dropout)         (None, 400)               0         \n",
      "                                                                 \n",
      " dense_5 (Dense)             (None, 160)               64160     \n",
      "                                                                 \n",
      " dense_6 (Dense)             (None, 40)                6440      \n",
      "                                                                 \n",
      " dense_7 (Dense)             (None, 10)                410       \n",
      "                                                                 \n",
      "=================================================================\n",
      "Total params: 476,010\n",
      "Trainable params: 476,010\n",
      "Non-trainable params: 0\n",
      "_________________________________________________________________\n"
     ]
    }
   ],
   "source": [
    "activation1 = 'relu'\n",
    "model = Sequential()\n",
    "channel1 = 100\n",
    "channel2 = 200\n",
    "channel3 = 400\n",
    "model.add(Conv2D(channel1, (9, 9), input_shape=(32, 32, 3), activation=activation1))\n",
    "model.add(MaxPool2D(pool_size=2))\n",
    "model.add(Conv2D(channel1, (5, 5), activation=activation1))\n",
    "model.add(MaxPool2D(pool_size=2))\n",
    "model.add(Conv2D(channel1, (3, 3), activation=activation1))\n",
    "model.add(MaxPool2D(pool_size=2))\n",
    "model.add(Flatten())\n",
    "model.add(Dense(channel3, activation=activation1))\n",
    "model.add(Dropout(.5))\n",
    "model.add(Dense(160, activation = 'relu'))\n",
    "model.add(Dense(40, activation = 'relu'))\n",
    "model.add(Dense(10, activation = 'softmax'))\n",
    "model.compile(optimizer = 'adam', loss = 'categorical_crossentropy', metrics = ['accuracy'])\n",
    "model.summary()"
   ]
  },
  {
   "cell_type": "code",
   "execution_count": 12,
   "id": "a3c2e073",
   "metadata": {
    "scrolled": true
   },
   "outputs": [
    {
     "ename": "ValueError",
     "evalue": "Data cardinality is ambiguous:\n  x sizes: 135000\n  y sizes: 45000\nMake sure all arrays contain the same number of samples.",
     "output_type": "error",
     "traceback": [
      "\u001b[1;31m---------------------------------------------------------------------------\u001b[0m",
      "\u001b[1;31mValueError\u001b[0m                                Traceback (most recent call last)",
      "Input \u001b[1;32mIn [12]\u001b[0m, in \u001b[0;36m<cell line: 2>\u001b[1;34m()\u001b[0m\n\u001b[0;32m      1\u001b[0m start \u001b[38;5;241m=\u001b[39m time\u001b[38;5;241m.\u001b[39mtime()\n\u001b[1;32m----> 2\u001b[0m \u001b[43mmodel\u001b[49m\u001b[38;5;241;43m.\u001b[39;49m\u001b[43mfit\u001b[49m\u001b[43m(\u001b[49m\u001b[43mX_train_cnn\u001b[49m\u001b[43m,\u001b[49m\u001b[43m \u001b[49m\u001b[43mY_train_cnn\u001b[49m\u001b[43m,\u001b[49m\u001b[43m \u001b[49m\u001b[43mepochs\u001b[49m\u001b[43m \u001b[49m\u001b[38;5;241;43m=\u001b[39;49m\u001b[43m \u001b[49m\u001b[38;5;241;43m10\u001b[39;49m\u001b[43m,\u001b[49m\u001b[43m \u001b[49m\u001b[43mbatch_size\u001b[49m\u001b[43m \u001b[49m\u001b[38;5;241;43m=\u001b[39;49m\u001b[43m \u001b[49m\u001b[38;5;241;43m1000\u001b[39;49m\u001b[43m,\u001b[49m\u001b[43m \u001b[49m\u001b[43mverbose\u001b[49m\u001b[43m \u001b[49m\u001b[38;5;241;43m=\u001b[39;49m\u001b[43m \u001b[49m\u001b[38;5;28;43;01mTrue\u001b[39;49;00m\u001b[43m)\u001b[49m\n\u001b[0;32m      3\u001b[0m \u001b[38;5;28mprint\u001b[39m(\u001b[38;5;124m\"\u001b[39m\u001b[38;5;124mtime = \u001b[39m\u001b[38;5;124m\"\u001b[39m, time\u001b[38;5;241m.\u001b[39mtime() \u001b[38;5;241m-\u001b[39m start)\n",
      "File \u001b[1;32mD:\\anaconda3\\lib\\site-packages\\keras\\utils\\traceback_utils.py:70\u001b[0m, in \u001b[0;36mfilter_traceback.<locals>.error_handler\u001b[1;34m(*args, **kwargs)\u001b[0m\n\u001b[0;32m     67\u001b[0m     filtered_tb \u001b[38;5;241m=\u001b[39m _process_traceback_frames(e\u001b[38;5;241m.\u001b[39m__traceback__)\n\u001b[0;32m     68\u001b[0m     \u001b[38;5;66;03m# To get the full stack trace, call:\u001b[39;00m\n\u001b[0;32m     69\u001b[0m     \u001b[38;5;66;03m# `tf.debugging.disable_traceback_filtering()`\u001b[39;00m\n\u001b[1;32m---> 70\u001b[0m     \u001b[38;5;28;01mraise\u001b[39;00m e\u001b[38;5;241m.\u001b[39mwith_traceback(filtered_tb) \u001b[38;5;28;01mfrom\u001b[39;00m \u001b[38;5;28mNone\u001b[39m\n\u001b[0;32m     71\u001b[0m \u001b[38;5;28;01mfinally\u001b[39;00m:\n\u001b[0;32m     72\u001b[0m     \u001b[38;5;28;01mdel\u001b[39;00m filtered_tb\n",
      "File \u001b[1;32mD:\\anaconda3\\lib\\site-packages\\keras\\engine\\data_adapter.py:1848\u001b[0m, in \u001b[0;36m_check_data_cardinality\u001b[1;34m(data)\u001b[0m\n\u001b[0;32m   1841\u001b[0m     msg \u001b[38;5;241m+\u001b[39m\u001b[38;5;241m=\u001b[39m \u001b[38;5;124m\"\u001b[39m\u001b[38;5;124m  \u001b[39m\u001b[38;5;132;01m{}\u001b[39;00m\u001b[38;5;124m sizes: \u001b[39m\u001b[38;5;132;01m{}\u001b[39;00m\u001b[38;5;130;01m\\n\u001b[39;00m\u001b[38;5;124m\"\u001b[39m\u001b[38;5;241m.\u001b[39mformat(\n\u001b[0;32m   1842\u001b[0m         label,\n\u001b[0;32m   1843\u001b[0m         \u001b[38;5;124m\"\u001b[39m\u001b[38;5;124m, \u001b[39m\u001b[38;5;124m\"\u001b[39m\u001b[38;5;241m.\u001b[39mjoin(\n\u001b[0;32m   1844\u001b[0m             \u001b[38;5;28mstr\u001b[39m(i\u001b[38;5;241m.\u001b[39mshape[\u001b[38;5;241m0\u001b[39m]) \u001b[38;5;28;01mfor\u001b[39;00m i \u001b[38;5;129;01min\u001b[39;00m tf\u001b[38;5;241m.\u001b[39mnest\u001b[38;5;241m.\u001b[39mflatten(single_data)\n\u001b[0;32m   1845\u001b[0m         ),\n\u001b[0;32m   1846\u001b[0m     )\n\u001b[0;32m   1847\u001b[0m msg \u001b[38;5;241m+\u001b[39m\u001b[38;5;241m=\u001b[39m \u001b[38;5;124m\"\u001b[39m\u001b[38;5;124mMake sure all arrays contain the same number of samples.\u001b[39m\u001b[38;5;124m\"\u001b[39m\n\u001b[1;32m-> 1848\u001b[0m \u001b[38;5;28;01mraise\u001b[39;00m \u001b[38;5;167;01mValueError\u001b[39;00m(msg)\n",
      "\u001b[1;31mValueError\u001b[0m: Data cardinality is ambiguous:\n  x sizes: 135000\n  y sizes: 45000\nMake sure all arrays contain the same number of samples."
     ]
    }
   ],
   "source": [
    "start = time.time()\n",
    "model.fit(X_train_cnn, Y_train_cnn, epochs = 10, batch_size = 1000, verbose = True)\n",
    "print(\"time = \", time.time() - start)"
   ]
  },
  {
   "cell_type": "code",
   "execution_count": null,
   "id": "5fedd474",
   "metadata": {},
   "outputs": [],
   "source": [
    "my_2d_array = np.array([np.arange(0, 5), np.arange(5, 10)])\n",
    "print(my_2d_array)\n",
    "print(\"---\") # 分隔線\n",
    "print(my_2d_array[1, :]) # 第二列\n",
    "print(my_2d_array[:, (0,1,2)]) # 第二欄\n",
    "print(my_2d_array[1, 1]) # 第二列第二欄的元素"
   ]
  },
  {
   "cell_type": "code",
   "execution_count": null,
   "id": "0a12b973",
   "metadata": {
    "scrolled": true
   },
   "outputs": [],
   "source": [
    "pred1 = model.predict(X_test)"
   ]
  },
  {
   "cell_type": "code",
   "execution_count": null,
   "id": "9ac8645d",
   "metadata": {
    "scrolled": false
   },
   "outputs": [],
   "source": [
    "sort1 = np.sort(pred1, axis=1)\n",
    "reverse1 = np.flip(sort1, axis=1)\n",
    "print(reverse1.shape)\n",
    "# print(reverse[0, :])\n",
    "for i in range(10):\n",
    "    print(reverse1[i, (0,1,2)])"
   ]
  },
  {
   "cell_type": "code",
   "execution_count": null,
   "id": "2546b1a6",
   "metadata": {},
   "outputs": [],
   "source": [
    "loss1, accuracy1 = model.evaluate(X_test, Y_test)\n",
    "print('Loss:', loss1)\n",
    "print('Accuracy:', accuracy1)"
   ]
  },
  {
   "cell_type": "code",
   "execution_count": null,
   "id": "3509ab4d",
   "metadata": {},
   "outputs": [],
   "source": [
    "loss, accuracy = model.evaluate(X_train, Y_train)\n",
    "print('loss=', loss, ' accuracy=', accuracy)"
   ]
  },
  {
   "cell_type": "code",
   "execution_count": null,
   "id": "f5a5e088",
   "metadata": {},
   "outputs": [],
   "source": [
    "activation1 = 'relu'\n",
    "model = Sequential()\n",
    "channel1 = 100\n",
    "channel2 = 200\n",
    "channel3 = 400\n",
    "model.add(Conv2D(channel1, (9, 9), input_shape=(32, 32, 3), activation=activation1))\n",
    "model.add(MaxPool2D(pool_size=2))\n",
    "model.add(Conv2D(channel1, (5, 5), activation=activation1))\n",
    "model.add(MaxPool2D(pool_size=2))\n",
    "model.add(Conv2D(channel1, (3, 3), activation=activation1))\n",
    "model.add(MaxPool2D(pool_size=2))\n",
    "model.add(Flatten())\n",
    "model.add(Dense(channel3, activation=activation1))\n",
    "model.add(Dropout(.4))\n",
    "model.add(Dense(160, activation = 'relu'))\n",
    "model.add(Dense(80, activation = 'relu'))\n",
    "model.add(Dense(40, activation = 'relu'))\n",
    "model.add(Dense(20, activation = 'relu'))\n",
    "model.add(Dense(10, activation = 'softmax'))\n",
    "model.compile(optimizer = 'adam', loss = 'categorical_crossentropy', metrics = ['accuracy'])\n",
    "model.summary()\n",
    "\n",
    "start = time.time()\n",
    "model.fit(X_train_cnn, Y_train_cnn, epochs = 5, batch_size = 1000, verbose = True)\n",
    "print(\"time = \", time.time() - start)"
   ]
  },
  {
   "cell_type": "code",
   "execution_count": null,
   "id": "2bf8254b",
   "metadata": {},
   "outputs": [],
   "source": [
    "pred2 = model.predict(X_test)"
   ]
  },
  {
   "cell_type": "code",
   "execution_count": null,
   "id": "8b9120ed",
   "metadata": {},
   "outputs": [],
   "source": [
    "sort2 = np.sort(pred2, axis=1)\n",
    "reverse2 = np.flip(sort2, axis=1)\n",
    "print(reverse2.shape)\n",
    "# print(reverse[0, :])\n",
    "for i in range(10):\n",
    "    print(reverse2[i, (0,1,2)])"
   ]
  },
  {
   "cell_type": "code",
   "execution_count": null,
   "id": "7ed9ae35",
   "metadata": {
    "scrolled": true
   },
   "outputs": [],
   "source": [
    "loss2, accuracy2 = model.evaluate(X_test, Y_test)\n",
    "print('Loss:', loss2)\n",
    "print('Accuracy:', accuracy2)"
   ]
  },
  {
   "cell_type": "code",
   "execution_count": null,
   "id": "67e8299b",
   "metadata": {},
   "outputs": [],
   "source": [
    "activation1 = 'relu'\n",
    "model = Sequential()\n",
    "channel1 = 100\n",
    "channel2 = 200\n",
    "channel3 = 400\n",
    "model.add(Conv2D(channel1, (10,10), input_shape=(32, 32, 3), activation=activation1))\n",
    "model.add(MaxPool2D(pool_size=2))\n",
    "model.add(Conv2D(channel1, (6, 6), activation=activation1))\n",
    "model.add(MaxPool2D(pool_size=2))\n",
    "model.add(Conv2D(channel1, (3, 3), activation=activation1))\n",
    "model.add(MaxPool2D(pool_size=2))\n",
    "model.add(Flatten())\n",
    "model.add(Dense(channel3, activation=activation1))\n",
    "model.add(Dropout(.25))\n",
    "model.add(Dense(200, activation = 'relu'))\n",
    "model.add(Dense(80, activation = 'relu'))\n",
    "model.add(Dense(30, activation = 'relu'))\n",
    "model.add(Dense(10, activation = 'softmax'))\n",
    "model.compile(optimizer = 'adam', loss = 'categorical_crossentropy', metrics = ['accuracy'])\n",
    "model.summary()\n",
    "\n",
    "start = time.time()\n",
    "model.fit(X_train_cnn, Y_train_cnn, epochs = 5, batch_size = 500, verbose = True)\n",
    "print(\"time = \", time.time() - start)"
   ]
  },
  {
   "cell_type": "code",
   "execution_count": null,
   "id": "e2241d89",
   "metadata": {},
   "outputs": [],
   "source": [
    "pred3 = model.predict(X_test)"
   ]
  },
  {
   "cell_type": "code",
   "execution_count": null,
   "id": "bd33a2d0",
   "metadata": {},
   "outputs": [],
   "source": [
    "sort3 = np.sort(pred3, axis=1)\n",
    "reverse3 = np.flip(sort3, axis=1)\n",
    "# print(reverse[0, :])\n",
    "for i in range(10):\n",
    "    print(reverse3[i, (0,1,2)])"
   ]
  },
  {
   "cell_type": "code",
   "execution_count": null,
   "id": "de069a5d",
   "metadata": {},
   "outputs": [],
   "source": [
    "loss3, accuracy3 = model.evaluate(X_test, y_test)\n",
    "print('Loss:', loss3)\n",
    "print('Accuracy:', accuracy3)"
   ]
  }
 ],
 "metadata": {
  "kernelspec": {
   "display_name": "Python 3 (ipykernel)",
   "language": "python",
   "name": "python3"
  },
  "language_info": {
   "codemirror_mode": {
    "name": "ipython",
    "version": 3
   },
   "file_extension": ".py",
   "mimetype": "text/x-python",
   "name": "python",
   "nbconvert_exporter": "python",
   "pygments_lexer": "ipython3",
   "version": "3.9.13"
  }
 },
 "nbformat": 4,
 "nbformat_minor": 5
}
