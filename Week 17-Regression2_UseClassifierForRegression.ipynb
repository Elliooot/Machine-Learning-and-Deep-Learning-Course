{
 "cells": [
  {
   "cell_type": "code",
   "execution_count": 17,
   "id": "f411e842",
   "metadata": {},
   "outputs": [],
   "source": [
    "import pandas as pd\n",
    "import numpy as np\n",
    "import matplotlib.pyplot as plt\n",
    "%matplotlib inline\n",
    "from sklearn.model_selection import train_test_split\n",
    "\n",
    "from sklearn.linear_model import LogisticRegression\n",
    "from sklearn.tree import DecisionTreeClassifier\n",
    "from sklearn.ensemble import RandomForestClassifier\n",
    "from sklearn.neighbors import KNeighborsClassifier\n",
    "from sklearn.svm import SVC\n",
    "\n",
    "from sklearn.metrics import r2_score, mean_squared_error\n",
    "from sklearn.preprocessing import StandardScaler"
   ]
  },
  {
   "cell_type": "markdown",
   "id": "3a16ed47",
   "metadata": {},
   "source": [
    "## Read data"
   ]
  },
  {
   "cell_type": "code",
   "execution_count": 2,
   "id": "5c98998f",
   "metadata": {},
   "outputs": [
    {
     "name": "stdout",
     "output_type": "stream",
     "text": [
      "(1456, 81)\n",
      "   Id     MSSubClass MSZoning  LotFrontage  LotArea Street Alley  LotShape  \\\n",
      "0   1  2-STORY 1946+       RL         65.0     8450   Pave   NaN         0   \n",
      "1   2  1-STORY 1946+       RL         80.0     9600   Pave   NaN         0   \n",
      "2   3  2-STORY 1946+       RL         68.0    11250   Pave   NaN         1   \n",
      "3   4  2-STORY 1945-       RL         60.0     9550   Pave   NaN         1   \n",
      "4   5  2-STORY 1946+       RL         84.0    14260   Pave   NaN         1   \n",
      "\n",
      "  LandContour  Utilities  ... PoolArea  PoolQC Fence MiscFeature MiscVal  \\\n",
      "0         Lvl          3  ...        0       0     0         NaN       0   \n",
      "1         Lvl          3  ...        0       0     0         NaN       0   \n",
      "2         Lvl          3  ...        0       0     0         NaN       0   \n",
      "3         Lvl          3  ...        0       0     0         NaN       0   \n",
      "4         Lvl          3  ...        0       0     0         NaN       0   \n",
      "\n",
      "  MoSold YrSold  SaleType  SaleCondition  SalePrice  \n",
      "0    Feb   2008        WD         Normal     208500  \n",
      "1    May   2007        WD         Normal     181500  \n",
      "2   Sept   2008        WD         Normal     223500  \n",
      "3    Feb   2006        WD        Abnorml     140000  \n",
      "4    Dec   2008        WD         Normal     250000  \n",
      "\n",
      "[5 rows x 81 columns]\n"
     ]
    }
   ],
   "source": [
    "df = pd.read_csv(\"D:\\Downloads\\clean_train.csv\")\n",
    "print(df.shape)\n",
    "print(df.head())"
   ]
  },
  {
   "cell_type": "markdown",
   "id": "81e36dda",
   "metadata": {},
   "source": [
    "## Find missing values"
   ]
  },
  {
   "cell_type": "markdown",
   "id": "d9af0fed",
   "metadata": {},
   "source": [
    "#### if appropriate , remove the columns with missing values"
   ]
  },
  {
   "cell_type": "code",
   "execution_count": 3,
   "id": "47411720",
   "metadata": {
    "scrolled": false
   },
   "outputs": [
    {
     "name": "stdout",
     "output_type": "stream",
     "text": [
      "          names  missingcount\n",
      "3   LotFrontage           259\n",
      "6         Alley          1365\n",
      "58   GarageType            81\n",
      "74  MiscFeature          1403\n"
     ]
    }
   ],
   "source": [
    "a = df.isnull().sum().reset_index()\n",
    "a.columns = ['names', 'missingcount']\n",
    "# print(a.head())\n",
    "print(a[a['missingcount'] != 0])"
   ]
  },
  {
   "cell_type": "code",
   "execution_count": 4,
   "id": "4b1713c4",
   "metadata": {},
   "outputs": [
    {
     "data": {
      "text/plain": [
       "3     LotFrontage\n",
       "6           Alley\n",
       "58     GarageType\n",
       "74    MiscFeature\n",
       "Name: names, dtype: object"
      ]
     },
     "execution_count": 4,
     "metadata": {},
     "output_type": "execute_result"
    }
   ],
   "source": [
    "a[a['missingcount'] != 0].names"
   ]
  },
  {
   "cell_type": "code",
   "execution_count": 5,
   "id": "d4a6a653",
   "metadata": {},
   "outputs": [
    {
     "data": {
      "text/plain": [
       "(1456, 81)"
      ]
     },
     "execution_count": 5,
     "metadata": {},
     "output_type": "execute_result"
    }
   ],
   "source": [
    "df.shape"
   ]
  },
  {
   "cell_type": "code",
   "execution_count": 6,
   "id": "267ff8e7",
   "metadata": {},
   "outputs": [
    {
     "data": {
      "text/plain": [
       "(1456, 77)"
      ]
     },
     "execution_count": 6,
     "metadata": {},
     "output_type": "execute_result"
    }
   ],
   "source": [
    "df1 = df.drop(a[a['missingcount'] != 0].names, axis=1)\n",
    "df1.shape"
   ]
  },
  {
   "cell_type": "markdown",
   "id": "7cabba90",
   "metadata": {},
   "source": [
    "## Remove columns of object type"
   ]
  },
  {
   "cell_type": "code",
   "execution_count": 9,
   "id": "8855a65d",
   "metadata": {},
   "outputs": [
    {
     "name": "stdout",
     "output_type": "stream",
     "text": [
      "        names    type\n",
      "0          Id   int64\n",
      "1  MSSubClass  object\n",
      "2    MSZoning  object\n",
      "3     LotArea   int64\n",
      "4      Street  object\n",
      "['Id', 'LotArea', 'LotShape', 'Utilities', 'LandSlope', 'OverallQual', 'OverallCond', 'YearBuilt', 'YearRemodAdd', 'MasVnrArea', 'ExterQual', 'ExterCond', 'BsmtQual', 'BsmtCond', 'BsmtExposure', 'BsmtFinType1', 'BsmtFinSF1', 'BsmtFinType2', 'BsmtFinSF2', 'BsmtUnfSF', 'TotalBsmtSF', 'HeatingQC', 'CentralAir', 'Electrical', '1stFlrSF', '2ndFlrSF', 'LowQualFinSF', 'GrLivArea', 'BsmtFullBath', 'BsmtHalfBath', 'FullBath', 'HalfBath', 'BedroomAbvGr', 'KitchenAbvGr', 'KitchenQual', 'TotRmsAbvGrd', 'Functional', 'Fireplaces', 'FireplaceQu', 'GarageYrBlt', 'GarageFinish', 'GarageCars', 'GarageArea', 'GarageQual', 'GarageCond', 'PavedDrive', 'WoodDeckSF', 'OpenPorchSF', 'EnclosedPorch', '3SsnPorch', 'ScreenPorch', 'PoolArea', 'PoolQC', 'Fence', 'MiscVal', 'YrSold', 'SalePrice']\n"
     ]
    }
   ],
   "source": [
    "a = df1.dtypes.reset_index()\n",
    "a.columns = ['names', 'type']\n",
    "print(a.head())\n",
    "numerical_columns = list(a[a.type != 'object'].names)\n",
    "print(numerical_columns)"
   ]
  },
  {
   "cell_type": "code",
   "execution_count": 10,
   "id": "3181ed58",
   "metadata": {},
   "outputs": [
    {
     "name": "stdout",
     "output_type": "stream",
     "text": [
      "(1456, 77)\n",
      "   Id  LotArea  LotShape  Utilities  LandSlope  OverallQual  OverallCond  \\\n",
      "0   1     8450         0          3          0            7            5   \n",
      "1   2     9600         0          3          0            6            8   \n",
      "2   3    11250         1          3          0            7            5   \n",
      "3   4     9550         1          3          0            7            5   \n",
      "4   5    14260         1          3          0            8            5   \n",
      "\n",
      "   YearBuilt  YearRemodAdd  MasVnrArea  ...  OpenPorchSF  EnclosedPorch  \\\n",
      "0       2003          2003       196.0  ...           61              0   \n",
      "1       1976          1976         0.0  ...            0              0   \n",
      "2       2001          2002       162.0  ...           42              0   \n",
      "3       1915          1970         0.0  ...           35            272   \n",
      "4       2000          2000       350.0  ...           84              0   \n",
      "\n",
      "   3SsnPorch  ScreenPorch  PoolArea  PoolQC  Fence  MiscVal  YrSold  SalePrice  \n",
      "0          0            0         0       0      0        0    2008     208500  \n",
      "1          0            0         0       0      0        0    2007     181500  \n",
      "2          0            0         0       0      0        0    2008     223500  \n",
      "3          0            0         0       0      0        0    2006     140000  \n",
      "4          0            0         0       0      0        0    2008     250000  \n",
      "\n",
      "[5 rows x 57 columns] \n",
      " (1456, 57)\n"
     ]
    }
   ],
   "source": [
    "df2 = df1[numerical_columns]\n",
    "print(df1.shape)\n",
    "print(df2.head(), '\\n', df2.shape)"
   ]
  },
  {
   "cell_type": "code",
   "execution_count": 12,
   "id": "fc5b6f04",
   "metadata": {},
   "outputs": [
    {
     "data": {
      "text/plain": [
       "0"
      ]
     },
     "execution_count": 12,
     "metadata": {},
     "output_type": "execute_result"
    }
   ],
   "source": [
    "df2.isna().sum().sum()"
   ]
  },
  {
   "cell_type": "markdown",
   "id": "a762d762",
   "metadata": {},
   "source": [
    "## Prepare training and testing data"
   ]
  },
  {
   "cell_type": "code",
   "execution_count": 13,
   "id": "a4d77c42",
   "metadata": {},
   "outputs": [
    {
     "name": "stdout",
     "output_type": "stream",
     "text": [
      "(1456, 56) [208500 181500 223500 ... 266500 142125 147500]\n"
     ]
    }
   ],
   "source": [
    "y_train = df2.SalePrice.values\n",
    "X_train = df2.drop('SalePrice', axis=1).values\n",
    "print(X_train.shape, y_train)"
   ]
  },
  {
   "cell_type": "code",
   "execution_count": 16,
   "id": "6975c17f",
   "metadata": {},
   "outputs": [],
   "source": [
    "X_train, X_test, y_train, y_test = train_test_split(X_train, y_train, test_size = 0.5, random_state=2018)"
   ]
  },
  {
   "cell_type": "markdown",
   "id": "faae2a96",
   "metadata": {},
   "source": [
    "## Try ML models for classification"
   ]
  },
  {
   "cell_type": "code",
   "execution_count": 32,
   "id": "e79f2d75",
   "metadata": {},
   "outputs": [
    {
     "name": "stdout",
     "output_type": "stream",
     "text": [
      "0.5935052844682418 0.4584365449585741\n"
     ]
    },
    {
     "name": "stderr",
     "output_type": "stream",
     "text": [
      "D:\\Anaconda3\\lib\\site-packages\\sklearn\\linear_model\\_logistic.py:814: ConvergenceWarning: lbfgs failed to converge (status=1):\n",
      "STOP: TOTAL NO. of ITERATIONS REACHED LIMIT.\n",
      "\n",
      "Increase the number of iterations (max_iter) or scale the data as shown in:\n",
      "    https://scikit-learn.org/stable/modules/preprocessing.html\n",
      "Please also refer to the documentation for alternative solver options:\n",
      "    https://scikit-learn.org/stable/modules/linear_model.html#logistic-regression\n",
      "  n_iter_i = _check_optimize_result(\n"
     ]
    }
   ],
   "source": [
    "# model = DecisionTreeClassifier()\n",
    "# model = RandomForestClassifier()\n",
    "# model = KNeighborsClassifier()\n",
    "# model = SVC()\n",
    "model = LogisticRegression()\n",
    "\n",
    "model.fit(X_train, y_train)\n",
    "pred_test = model.predict(X_test)\n",
    "pred_train = model.predict(X_train)\n",
    "print(r2_score(y_train, pred_train), r2_score(y_test, pred_test))"
   ]
  },
  {
   "cell_type": "code",
   "execution_count": 33,
   "id": "440b1288",
   "metadata": {},
   "outputs": [
    {
     "name": "stdout",
     "output_type": "stream",
     "text": [
      "4 0.005494505494505495\n"
     ]
    }
   ],
   "source": [
    "jjj = (pred_train == y_test).sum()\n",
    "print(jjj, jjj/len(pred_train))"
   ]
  },
  {
   "cell_type": "code",
   "execution_count": 34,
   "id": "2866fc80",
   "metadata": {},
   "outputs": [
    {
     "name": "stdout",
     "output_type": "stream",
     "text": [
      "4 0.005494505494505495\n"
     ]
    }
   ],
   "source": [
    "jjj = (pred_test == y_train).sum()\n",
    "print(jjj, jjj/len(pred_test))"
   ]
  },
  {
   "cell_type": "code",
   "execution_count": 35,
   "id": "d3bcd2f5",
   "metadata": {},
   "outputs": [
    {
     "name": "stdout",
     "output_type": "stream",
     "text": [
      "[254000 145000 315000 150000 260000 122500 190000  84500 215000 290000]\n",
      "[190000 163500 377426 214000 223500 145000 172500 148000 175000 383970]\n"
     ]
    }
   ],
   "source": [
    "print(pred_test[:10])\n",
    "print(y_test[:10])"
   ]
  },
  {
   "cell_type": "markdown",
   "id": "405e2537",
   "metadata": {},
   "source": [
    "## Classification can not take continuous values as label"
   ]
  },
  {
   "cell_type": "markdown",
   "id": "13526081",
   "metadata": {},
   "source": [
    "#### How about if we change y_train to type float, wouldn't it work in classification"
   ]
  },
  {
   "cell_type": "code",
   "execution_count": 41,
   "id": "e07dcd88",
   "metadata": {},
   "outputs": [
    {
     "name": "stdout",
     "output_type": "stream",
     "text": [
      "<class 'numpy.float64'>\n",
      "[190019.  127012.7 147014.7 125012.5 195019.5]\n",
      "[190000 127000 147000 125000 195000]\n"
     ]
    }
   ],
   "source": [
    "# y_train_float = y_train.astype('float')\n",
    "y_train_float = y_train * 1.0001\n",
    "print(type(y_train_float[0]))\n",
    "print(y_train_float[0:5])\n",
    "print(y_train[0:5])"
   ]
  },
  {
   "cell_type": "code",
   "execution_count": 44,
   "id": "3b8e0b98",
   "metadata": {},
   "outputs": [
    {
     "name": "stdout",
     "output_type": "stream",
     "text": [
      "1.0 0.5823704004634687\n"
     ]
    }
   ],
   "source": [
    "model = DecisionTreeClassifier()\n",
    "# model = RandomForestClassifier()\n",
    "# model = KNeighborsClassifier()\n",
    "# model = SVC()\n",
    "# model = LogisticRegression()\n",
    "\n",
    "model.fit(X_train, y_train)\n",
    "pred_test = model.predict(X_test)\n",
    "pred_train = model.predict(X_train)\n",
    "print(r2_score(y_train, pred_train), r2_score(y_test, pred_test))"
   ]
  },
  {
   "cell_type": "code",
   "execution_count": null,
   "id": "6bb4ab59",
   "metadata": {},
   "outputs": [],
   "source": []
  }
 ],
 "metadata": {
  "kernelspec": {
   "display_name": "Python 3 (ipykernel)",
   "language": "python",
   "name": "python3"
  },
  "language_info": {
   "codemirror_mode": {
    "name": "ipython",
    "version": 3
   },
   "file_extension": ".py",
   "mimetype": "text/x-python",
   "name": "python",
   "nbconvert_exporter": "python",
   "pygments_lexer": "ipython3",
   "version": "3.9.13"
  }
 },
 "nbformat": 4,
 "nbformat_minor": 5
}
